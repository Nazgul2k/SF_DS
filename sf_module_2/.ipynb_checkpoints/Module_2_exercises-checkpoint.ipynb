{
 "cells": [
  {
   "cell_type": "code",
   "execution_count": 1,
   "metadata": {},
   "outputs": [],
   "source": [
    "import numpy as np\n",
    "import pandas as pd"
   ]
  },
  {
   "cell_type": "code",
   "execution_count": 2,
   "metadata": {},
   "outputs": [
    {
     "data": {
      "text/plain": [
       "array([[5, 3, 0],\n",
       "       [6, 6, 9],\n",
       "       [4, 3, 7]])"
      ]
     },
     "execution_count": 2,
     "metadata": {},
     "output_type": "execute_result"
    }
   ],
   "source": [
    "np.random.randint(0, 10, (3, 3)) "
   ]
  },
  {
   "cell_type": "code",
   "execution_count": 3,
   "metadata": {},
   "outputs": [
    {
     "data": {
      "text/plain": [
       "array([[  1. ,  57. ,  71. , 127. , 141. , 197. , 211. , 267. , 281. ],\n",
       "       [  0.5,  28.5,  35.5,  63.5,  70.5,  98.5, 105.5, 133.5, 140.5],\n",
       "       [-99. , -43. , -29. ,  27. ,  41. ,  97. , 111. , 167. , 181. ]])"
      ]
     },
     "execution_count": 3,
     "metadata": {},
     "output_type": "execute_result"
    }
   ],
   "source": [
    "my_secret = [x for x in range(1, 301, 7) if x%10 == 7 or x%10 == 1]\n",
    "np.array([my_secret, [x/2 for x in my_secret], [x-100 for x in my_secret]])"
   ]
  },
  {
   "cell_type": "code",
   "execution_count": 4,
   "metadata": {},
   "outputs": [
    {
     "data": {
      "text/plain": [
       "array([0, 1, 2, 3, 4, 5, 6, 7, 8, 9])"
      ]
     },
     "metadata": {},
     "output_type": "display_data"
    },
    {
     "data": {
      "text/plain": [
       "5"
      ]
     },
     "metadata": {},
     "output_type": "display_data"
    },
    {
     "data": {
      "text/plain": [
       "9"
      ]
     },
     "metadata": {},
     "output_type": "display_data"
    },
    {
     "data": {
      "text/plain": [
       "array([3, 4, 5])"
      ]
     },
     "metadata": {},
     "output_type": "display_data"
    },
    {
     "data": {
      "text/plain": [
       "array([1, 4, 7])"
      ]
     },
     "metadata": {},
     "output_type": "display_data"
    }
   ],
   "source": [
    "my_array = np.array([x for x in range(10)])\n",
    "display(my_array)\n",
    "display(my_array[5])\n",
    "display(my_array[-1])\n",
    "display(my_array[3:6])\n",
    "display(my_array[1:8:3])"
   ]
  },
  {
   "cell_type": "code",
   "execution_count": 5,
   "metadata": {},
   "outputs": [
    {
     "data": {
      "text/plain": [
       "array([[11, 12],\n",
       "       [46, 47]])"
      ]
     },
     "execution_count": 5,
     "metadata": {},
     "output_type": "execute_result"
    }
   ],
   "source": [
    "my_array = np.array([[1,2,3,4], [10,11,12,13], [45,46,47,48]])\n",
    "\n",
    "my_array[1:,1:3]"
   ]
  },
  {
   "cell_type": "code",
   "execution_count": 6,
   "metadata": {},
   "outputs": [
    {
     "data": {
      "text/plain": [
       "3154.332495807108"
      ]
     },
     "execution_count": 6,
     "metadata": {},
     "output_type": "execute_result"
    }
   ],
   "source": [
    "first_line = [x*y for x in range(2, 100, 6) for y in range (7, 1, -2)]\n",
    "second_line = [x ** 0.5 for x in range(1000, 1101, 2)]\n",
    "third_line = [x**2 for x in range(51)]\n",
    "\n",
    "big_secret = np.array([first_line, second_line, third_line, second_line, first_line])\n",
    "big_secret[:,-1].sum()"
   ]
  },
  {
   "cell_type": "code",
   "execution_count": 11,
   "metadata": {},
   "outputs": [
    {
     "data": {
      "text/plain": [
       "array([[14.        , 10.        ,  6.        , 56.        , 40.        ],\n",
       "       [31.6227766 , 31.65438358, 31.68595904, 31.71750305, 31.74901573],\n",
       "       [ 0.        ,  1.        ,  4.        ,  9.        , 16.        ],\n",
       "       [31.6227766 , 31.65438358, 31.68595904, 31.71750305, 31.74901573],\n",
       "       [14.        , 10.        ,  6.        , 56.        , 40.        ]])"
      ]
     },
     "metadata": {},
     "output_type": "display_data"
    },
    {
     "data": {
      "text/plain": [
       "121.37188663699624"
      ]
     },
     "execution_count": 11,
     "metadata": {},
     "output_type": "execute_result"
    }
   ],
   "source": [
    "new_secret = big_secret[:,:5]\n",
    "display(new_secret)\n",
    "S = float()\n",
    "for i in range(5):\n",
    "    for j in range(5):\n",
    "        if i == j:\n",
    "            \n",
    "            S += new_secret[i,j]\n",
    "\n",
    "S"
   ]
  },
  {
   "cell_type": "code",
   "execution_count": 18,
   "metadata": {},
   "outputs": [
    {
     "data": {
      "text/plain": [
       "array([[ 460.        ,  276.        ,  686.        ,  490.        ,\n",
       "         294.        ],\n",
       "       [  33.04542328,   33.07567082,   33.10589071,   33.13608305,\n",
       "          33.1662479 ],\n",
       "       [2116.        , 2209.        , 2304.        , 2401.        ,\n",
       "        2500.        ],\n",
       "       [  33.04542328,   33.07567082,   33.10589071,   33.13608305,\n",
       "          33.1662479 ],\n",
       "       [ 460.        ,  276.        ,  686.        ,  490.        ,\n",
       "         294.        ]])"
      ]
     },
     "metadata": {},
     "output_type": "display_data"
    },
    {
     "data": {
      "text/plain": [
       "341505315559.2347"
      ]
     },
     "execution_count": 18,
     "metadata": {},
     "output_type": "execute_result"
    }
   ],
   "source": [
    "new_secret = big_secret[:,-5:]\n",
    "display(new_secret)\n",
    "Mult = float(1)\n",
    "for i in range(5):\n",
    "    for j in range(5):\n",
    "        if i == j:\n",
    "            \n",
    "            Mult *= new_secret[i,j]\n",
    "\n",
    "Mult"
   ]
  },
  {
   "cell_type": "code",
   "execution_count": 24,
   "metadata": {},
   "outputs": [
    {
     "data": {
      "text/plain": [
       "array([[93, 49, 74, 28, 18, 91],\n",
       "       [19, 73, 26,  8, 74, 64],\n",
       "       [64,  7, 60, 18, 96, 45],\n",
       "       [ 8, 36, 27, 91, 14, 68]])"
      ]
     },
     "metadata": {},
     "output_type": "display_data"
    },
    {
     "data": {
      "text/plain": [
       "array([[26,  8],\n",
       "       [60, 18]])"
      ]
     },
     "metadata": {},
     "output_type": "display_data"
    },
    {
     "data": {
      "text/plain": [
       "array([[93, 49, 74, 28, 18, 91],\n",
       "       [19, 73,  0,  0, 74, 64],\n",
       "       [64,  7,  0,  0, 96, 45],\n",
       "       [ 8, 36, 27, 91, 14, 68]])"
      ]
     },
     "execution_count": 24,
     "metadata": {},
     "output_type": "execute_result"
    }
   ],
   "source": [
    "my_array = np.random.randint(1, 100, (4, 6))\n",
    "display(my_array)\n",
    "\n",
    "my_slice = my_array[1:3, 2:4]\n",
    "display(my_slice)\n",
    "\n",
    "my_slice[:] = 0\n",
    "\n",
    "my_array"
   ]
  },
  {
   "cell_type": "code",
   "execution_count": 31,
   "metadata": {},
   "outputs": [],
   "source": [
    "for i in range(5):\n",
    "    for j in range(51):\n",
    "        if i%2 == 0 and j%2 == 0:\n",
    "            big_secret[i,j] = -1\n",
    "        if i%2 != 0 and j%2 != 0:\n",
    "            big_secret[i,j] = 1\n"
   ]
  },
  {
   "cell_type": "code",
   "execution_count": 32,
   "metadata": {},
   "outputs": [
    {
     "data": {
      "text/plain": [
       "array([[-1.        , 10.        , -1.        , 56.        , -1.        ],\n",
       "       [31.6227766 ,  1.        , 31.68595904,  1.        , 31.74901573],\n",
       "       [-1.        ,  1.        , -1.        ,  9.        , -1.        ],\n",
       "       [31.6227766 ,  1.        , 31.68595904,  1.        , 31.74901573],\n",
       "       [-1.        , 10.        , -1.        , 56.        , -1.        ]])"
      ]
     },
     "metadata": {},
     "output_type": "display_data"
    },
    {
     "data": {
      "text/plain": [
       "-1.0"
      ]
     },
     "execution_count": 32,
     "metadata": {},
     "output_type": "execute_result"
    }
   ],
   "source": [
    "new_secret = big_secret[:,:5]\n",
    "display(new_secret)\n",
    "S = float()\n",
    "for i in range(5):\n",
    "    for j in range(5):\n",
    "        if i == j:\n",
    "            \n",
    "            S += new_secret[i,j]\n",
    "\n",
    "S"
   ]
  },
  {
   "cell_type": "code",
   "execution_count": 34,
   "metadata": {},
   "outputs": [
    {
     "data": {
      "text/plain": [
       "array([[-1.00000000e+00,  2.76000000e+02, -1.00000000e+00,\n",
       "         4.90000000e+02, -1.00000000e+00],\n",
       "       [ 3.30454233e+01,  1.00000000e+00,  3.31058907e+01,\n",
       "         1.00000000e+00,  3.31662479e+01],\n",
       "       [-1.00000000e+00,  2.20900000e+03, -1.00000000e+00,\n",
       "         2.40100000e+03, -1.00000000e+00],\n",
       "       [ 3.30454233e+01,  1.00000000e+00,  3.31058907e+01,\n",
       "         1.00000000e+00,  3.31662479e+01],\n",
       "       [-1.00000000e+00,  2.76000000e+02, -1.00000000e+00,\n",
       "         4.90000000e+02, -1.00000000e+00]])"
      ]
     },
     "metadata": {},
     "output_type": "display_data"
    },
    {
     "data": {
      "text/plain": [
       "-1.0"
      ]
     },
     "execution_count": 34,
     "metadata": {},
     "output_type": "execute_result"
    }
   ],
   "source": [
    "new_secret = big_secret[:,-5:]\n",
    "display(new_secret)\n",
    "Mult = float(1)\n",
    "for i in range(5):\n",
    "    for j in range(5):\n",
    "        if i == j:\n",
    "            \n",
    "            Mult *= new_secret[i,j]\n",
    "\n",
    "Mult"
   ]
  },
  {
   "cell_type": "code",
   "execution_count": 52,
   "metadata": {},
   "outputs": [],
   "source": [
    "first = [x**(1/2) for x in range(100)]\n",
    "second = [x**(1/3) for x in range(100, 200)]\n",
    "third = [x/y for x in range(200,300,2) for y in [3,5]]\n",
    "\n",
    "great_secret = np.array([first, second, third]).T\n"
   ]
  },
  {
   "cell_type": "code",
   "execution_count": 56,
   "metadata": {},
   "outputs": [
    {
     "data": {
      "text/plain": [
       "0.16006721889793019"
      ]
     },
     "execution_count": 56,
     "metadata": {},
     "output_type": "execute_result"
    }
   ],
   "source": [
    "np.cos(great_secret[0]).sum()"
   ]
  },
  {
   "cell_type": "code",
   "execution_count": 59,
   "metadata": {},
   "outputs": [
    {
     "data": {
      "text/plain": [
       "5470.0"
      ]
     },
     "execution_count": 59,
     "metadata": {},
     "output_type": "execute_result"
    }
   ],
   "source": [
    "great_secret[great_secret > 50].sum()"
   ]
  },
  {
   "cell_type": "code",
   "execution_count": 69,
   "metadata": {},
   "outputs": [
    {
     "data": {
      "text/plain": [
       "7.0710678118654755"
      ]
     },
     "execution_count": 69,
     "metadata": {},
     "output_type": "execute_result"
    }
   ],
   "source": [
    "great_secret.flatten()[150]"
   ]
  },
  {
   "cell_type": "code",
   "execution_count": 73,
   "metadata": {},
   "outputs": [
    {
     "data": {
      "text/plain": [
       "115.12148016521353"
      ]
     },
     "execution_count": 73,
     "metadata": {},
     "output_type": "execute_result"
    }
   ],
   "source": [
    "np.sort(great_secret, axis = 0)[-1].sum()"
   ]
  },
  {
   "cell_type": "code",
   "execution_count": 77,
   "metadata": {},
   "outputs": [
    {
     "data": {
      "text/plain": [
       "array([[  1. , 135. ,  34. ,   4. ],\n",
       "       [  2. , 160. ,  43. ,   5. ],\n",
       "       [  3. , 163. ,  40. ,   4.3],\n",
       "       [  4. , 147. ,  44. ,   5. ],\n",
       "       [  5. , 138. ,  41. ,   4.7],\n",
       "       [  6. , 149. ,  54. ,   3.9],\n",
       "       [  7. , 136. ,  39. ,   4.2],\n",
       "       [  8. , 154. ,  48. ,   4.9],\n",
       "       [  9. , 137. ,  35. ,   3.7],\n",
       "       [ 10. , 165. ,  60. ,   4.6]])"
      ]
     },
     "execution_count": 77,
     "metadata": {},
     "output_type": "execute_result"
    }
   ],
   "source": [
    "students = np.array([[1,135,34,4],\n",
    "                    [2,160,43,5],\n",
    "                    [3,163,40,4.3],\n",
    "                    [4,147,44,5],\n",
    "                    [5,138,41,4.7],\n",
    "                    [6,149,54,3.9],\n",
    "                    [7,136,39,4.2],\n",
    "                    [8,154,48,4.9],\n",
    "                    [9,137,35,3.7],\n",
    "                    [10,165,60,4.6]], dtype = float)\n",
    "students"
   ]
  },
  {
   "cell_type": "code",
   "execution_count": 87,
   "metadata": {},
   "outputs": [
    {
     "data": {
      "text/plain": [
       "42.0"
      ]
     },
     "execution_count": 87,
     "metadata": {},
     "output_type": "execute_result"
    }
   ],
   "source": [
    "np.median(students[:,2])"
   ]
  },
  {
   "cell_type": "code",
   "execution_count": 88,
   "metadata": {},
   "outputs": [
    {
     "data": {
      "text/plain": [
       "1.7999999999999972"
      ]
     },
     "execution_count": 88,
     "metadata": {},
     "output_type": "execute_result"
    }
   ],
   "source": [
    "np.mean(students[:,2])-np.median(students[:,2])"
   ]
  },
  {
   "cell_type": "code",
   "execution_count": 99,
   "metadata": {},
   "outputs": [
    {
     "data": {
      "text/plain": [
       "array([[ 1.        ,  0.06596634,  0.48397415, -0.15027479],\n",
       "       [ 0.06596634,  1.        ,  0.64314431,  0.46293714],\n",
       "       [ 0.48397415,  0.64314431,  1.        ,  0.29801325],\n",
       "       [-0.15027479,  0.46293714,  0.29801325,  1.        ]])"
      ]
     },
     "execution_count": 99,
     "metadata": {},
     "output_type": "execute_result"
    }
   ],
   "source": [
    "corr = np.corrcoef(students, rowvar = False)\n",
    "corr"
   ]
  },
  {
   "cell_type": "code",
   "execution_count": 103,
   "metadata": {},
   "outputs": [
    {
     "data": {
      "text/plain": [
       "0.4517742799230607"
      ]
     },
     "execution_count": 103,
     "metadata": {},
     "output_type": "execute_result"
    }
   ],
   "source": [
    "std = np.std(students[:,3])\n",
    "std"
   ]
  },
  {
   "cell_type": "code",
   "execution_count": 105,
   "metadata": {},
   "outputs": [
    {
     "data": {
      "text/plain": [
       "60.36"
      ]
     },
     "execution_count": 105,
     "metadata": {},
     "output_type": "execute_result"
    }
   ],
   "source": [
    "var = np.var(students[:,2])\n",
    "var"
   ]
  },
  {
   "cell_type": "code",
   "execution_count": 107,
   "metadata": {},
   "outputs": [
    {
     "data": {
      "text/plain": [
       "60.36"
      ]
     },
     "execution_count": 107,
     "metadata": {},
     "output_type": "execute_result"
    }
   ],
   "source": [
    "students[:,2].var()"
   ]
  },
  {
   "cell_type": "code",
   "execution_count": 108,
   "metadata": {},
   "outputs": [],
   "source": [
    "my_array = np.array([[1,2,3,4,5],\n",
    "                     [6,7,8,9,10],\n",
    "                     [11,12,13,14,15],\n",
    "                     [16,17,18,19,20],\n",
    "                     [21,22,23,24,25]])"
   ]
  },
  {
   "cell_type": "code",
   "execution_count": 111,
   "metadata": {},
   "outputs": [
    {
     "data": {
      "text/plain": [
       "array([[ 7,  8,  9],\n",
       "       [12, 13, 14],\n",
       "       [17, 18, 19]])"
      ]
     },
     "execution_count": 111,
     "metadata": {},
     "output_type": "execute_result"
    }
   ],
   "source": [
    "my_array[1:4,1:4]"
   ]
  },
  {
   "cell_type": "code",
   "execution_count": 115,
   "metadata": {},
   "outputs": [
    {
     "data": {
      "text/plain": [
       "-0.05812430261413351"
      ]
     },
     "execution_count": 115,
     "metadata": {},
     "output_type": "execute_result"
    }
   ],
   "source": [
    "my_sin = np.sin(my_array)\n",
    "my_sin.sum()"
   ]
  },
  {
   "cell_type": "code",
   "execution_count": 137,
   "metadata": {},
   "outputs": [
    {
     "data": {
      "text/plain": [
       "7.571718421269144"
      ]
     },
     "execution_count": 137,
     "metadata": {},
     "output_type": "execute_result"
    }
   ],
   "source": [
    "my_sin[1:4,1:4] = 1\n",
    "my_sin.sum()"
   ]
  },
  {
   "cell_type": "code",
   "execution_count": 139,
   "metadata": {
    "scrolled": true
   },
   "outputs": [
    {
     "data": {
      "text/plain": [
       "2.4057172058139544"
      ]
     },
     "execution_count": 139,
     "metadata": {},
     "output_type": "execute_result"
    }
   ],
   "source": [
    "\n",
    "new_sin = np.reshape(my_sin[:,:4],(10,2))\n",
    "new_sin[:,0].sum()"
   ]
  },
  {
   "cell_type": "code",
   "execution_count": 143,
   "metadata": {},
   "outputs": [
    {
     "data": {
      "text/plain": [
       "array([ 10201,  10609,  11025,  11449,  11881,  12321,  12769,  13225,\n",
       "        13689,  14161,  14641,  15129,  15625,  16129,  16641,  17161,\n",
       "        17689,  18225,  18769,  19321,  19881,  20449,  21025,  21609,\n",
       "        22201,  22801,  23409,  24025,  24649,  25281,  25921,  26569,\n",
       "        27225,  27889,  28561,  29241,  29929,  30625,  31329,  32041,\n",
       "        32761,  33489,  34225,  34969,  35721,  36481,  37249,  38025,\n",
       "        38809,  39601,  40401,  41209,  42025,  42849,  43681,  44521,\n",
       "        45369,  46225,  47089,  47961,  48841,  49729,  50625,  51529,\n",
       "        52441,  53361,  54289,  55225,  56169,  57121,  58081,  59049,\n",
       "        60025,  61009,  62001,  63001,  64009,  65025,  66049,  67081,\n",
       "        68121,  69169,  70225,  71289,  72361,  73441,  74529,  75625,\n",
       "        76729,  77841,  78961,  80089,  81225,  82369,  83521,  84681,\n",
       "        85849,  87025,  88209,  89401,  90601,  91809,  93025,  94249,\n",
       "        95481,  96721,  97969,  99225, 100489, 101761, 103041, 104329,\n",
       "       105625, 106929, 108241, 109561, 110889, 112225, 113569, 114921,\n",
       "       116281, 117649, 119025, 120409, 121801, 123201, 124609, 126025,\n",
       "       127449, 128881, 130321, 131769, 133225, 134689, 136161, 137641,\n",
       "       139129, 140625, 142129, 143641, 145161, 146689, 148225, 149769,\n",
       "       151321, 152881, 154449, 156025, 157609, 159201, 160801, 162409,\n",
       "       164025, 165649, 167281, 168921, 170569, 172225, 173889, 175561,\n",
       "       177241, 178929, 180625, 182329, 184041, 185761, 187489, 189225,\n",
       "       190969, 192721, 194481, 196249, 198025, 199809, 201601, 203401,\n",
       "       205209, 207025, 208849, 210681, 212521, 214369, 216225, 218089,\n",
       "       219961, 221841, 223729, 225625, 227529, 229441, 231361, 233289,\n",
       "       235225, 237169, 239121, 241081, 243049, 245025, 247009, 249001,\n",
       "       251001, 253009, 255025, 257049, 259081, 261121, 263169, 265225,\n",
       "       267289, 269361, 271441, 273529, 275625, 277729, 279841, 281961,\n",
       "       284089, 286225, 288369, 290521, 292681, 294849, 297025, 299209,\n",
       "       301401, 303601, 305809, 308025, 310249, 312481, 314721, 316969,\n",
       "       319225, 321489, 323761, 326041, 328329, 330625, 332929, 335241,\n",
       "       337561, 339889, 342225, 344569, 346921, 349281, 351649, 354025,\n",
       "       356409, 358801, 361201, 363609, 366025, 368449, 370881, 373321,\n",
       "       375769, 378225, 380689, 383161, 385641, 388129, 390625, 393129,\n",
       "       395641, 398161, 400689, 403225, 405769, 408321, 410881, 413449,\n",
       "       416025, 418609, 421201, 423801, 426409, 429025, 431649, 434281,\n",
       "       436921, 439569, 442225, 444889, 447561, 450241, 452929, 455625,\n",
       "       458329, 461041, 463761, 466489, 469225, 471969, 474721, 477481,\n",
       "       480249, 483025, 485809, 488601, 491401, 494209, 497025, 499849,\n",
       "       502681, 505521, 508369, 511225, 514089, 516961, 519841, 522729,\n",
       "       525625, 528529, 531441, 534361, 537289, 540225, 543169, 546121,\n",
       "       549081, 552049, 555025, 558009, 561001, 564001, 567009, 570025,\n",
       "       573049, 576081, 579121, 582169, 585225, 588289, 591361, 594441,\n",
       "       597529, 600625, 603729, 606841, 609961, 613089, 616225, 619369,\n",
       "       622521, 625681, 628849, 632025, 635209, 638401, 641601, 644809,\n",
       "       648025, 651249, 654481, 657721, 660969, 664225, 667489, 670761,\n",
       "       674041, 677329, 680625, 683929, 687241, 690561, 693889, 697225,\n",
       "       700569, 703921, 707281, 710649, 714025, 717409, 720801, 724201,\n",
       "       727609, 731025, 734449, 737881, 741321, 744769, 748225, 751689,\n",
       "       755161, 758641, 762129, 765625, 769129, 772641, 776161, 779689,\n",
       "       783225, 786769, 790321, 793881, 797449, 801025, 804609, 808201,\n",
       "       811801, 815409, 819025, 822649, 826281, 829921, 833569, 837225,\n",
       "       840889, 844561, 848241, 851929, 855625, 859329, 863041, 866761,\n",
       "       870489, 874225, 877969, 881721, 885481, 889249, 893025, 896809,\n",
       "       900601, 904401, 908209, 912025, 915849, 919681, 923521, 927369,\n",
       "       931225, 935089, 938961, 942841, 946729, 950625, 954529, 958441,\n",
       "       962361, 966289, 970225, 974169, 978121, 982081, 986049, 990025,\n",
       "       994009, 998001])"
      ]
     },
     "execution_count": 143,
     "metadata": {},
     "output_type": "execute_result"
    }
   ],
   "source": [
    "bigdata = np.array([x**2 for x in range(100, 1001) if x%2 != 0])\n",
    "bigdata"
   ]
  },
  {
   "cell_type": "code",
   "execution_count": 146,
   "metadata": {},
   "outputs": [
    {
     "data": {
      "text/plain": [
       "292095.0301991155"
      ]
     },
     "execution_count": 146,
     "metadata": {},
     "output_type": "execute_result"
    }
   ],
   "source": [
    "np.median(bigdata)"
   ]
  },
  {
   "cell_type": "code",
   "execution_count": 147,
   "metadata": {},
   "outputs": [
    {
     "data": {
      "text/plain": [
       "292095.0301991155"
      ]
     },
     "execution_count": 147,
     "metadata": {},
     "output_type": "execute_result"
    }
   ],
   "source": [
    "np.std(bigdata)"
   ]
  },
  {
   "cell_type": "code",
   "execution_count": 151,
   "metadata": {},
   "outputs": [
    {
     "data": {
      "text/plain": [
       "array([[1.        , 0.99999973],\n",
       "       [0.99999973, 1.        ]])"
      ]
     },
     "execution_count": 151,
     "metadata": {},
     "output_type": "execute_result"
    }
   ],
   "source": [
    "np.corrcoef(bigdata[::2], bigdata[1::2])\n"
   ]
  },
  {
   "cell_type": "code",
   "execution_count": null,
   "metadata": {},
   "outputs": [],
   "source": []
  }
 ],
 "metadata": {
  "kernelspec": {
   "display_name": "Python 3",
   "language": "python",
   "name": "python3"
  },
  "language_info": {
   "codemirror_mode": {
    "name": "ipython",
    "version": 3
   },
   "file_extension": ".py",
   "mimetype": "text/x-python",
   "name": "python",
   "nbconvert_exporter": "python",
   "pygments_lexer": "ipython3",
   "version": "3.7.4"
  }
 },
 "nbformat": 4,
 "nbformat_minor": 4
}
