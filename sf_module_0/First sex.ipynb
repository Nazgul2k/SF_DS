{
 "cells": [
  {
   "cell_type": "code",
   "execution_count": 3,
   "metadata": {},
   "outputs": [
    {
     "name": "stdout",
     "output_type": "stream",
     "text": [
      "Hello World!\n"
     ]
    }
   ],
   "source": [
    "print (\"Hello World!\")"
   ]
  },
  {
   "cell_type": "code",
   "execution_count": 4,
   "metadata": {},
   "outputs": [
    {
     "name": "stdout",
     "output_type": "stream",
     "text": [
      "Hello World!\n"
     ]
    }
   ],
   "source": [
    "print (\"Hello\", \"World!\")\n"
   ]
  },
  {
   "cell_type": "code",
   "execution_count": 5,
   "metadata": {},
   "outputs": [
    {
     "name": "stdout",
     "output_type": "stream",
     "text": [
      "Hello 1\n"
     ]
    }
   ],
   "source": [
    "print (\"Hello\", 1)"
   ]
  },
  {
   "cell_type": "code",
   "execution_count": 6,
   "metadata": {},
   "outputs": [
    {
     "ename": "NameError",
     "evalue": "name 'Hello' is not defined",
     "output_type": "error",
     "traceback": [
      "\u001b[1;31m---------------------------------------------------------------------------\u001b[0m",
      "\u001b[1;31mNameError\u001b[0m                                 Traceback (most recent call last)",
      "\u001b[1;32m<ipython-input-6-19d7ca438757>\u001b[0m in \u001b[0;36m<module>\u001b[1;34m\u001b[0m\n\u001b[1;32m----> 1\u001b[1;33m \u001b[0mprint\u001b[0m \u001b[1;33m(\u001b[0m\u001b[0mHello\u001b[0m\u001b[1;33m)\u001b[0m\u001b[1;33m\u001b[0m\u001b[1;33m\u001b[0m\u001b[0m\n\u001b[0m",
      "\u001b[1;31mNameError\u001b[0m: name 'Hello' is not defined"
     ]
    }
   ],
   "source": [
    "print (Hello)"
   ]
  },
  {
   "cell_type": "code",
   "execution_count": 7,
   "metadata": {},
   "outputs": [
    {
     "name": "stdout",
     "output_type": "stream",
     "text": [
      "HelloWorld!\n"
     ]
    }
   ],
   "source": [
    "print ('Hello' + 'World!')"
   ]
  },
  {
   "cell_type": "code",
   "execution_count": 8,
   "metadata": {},
   "outputs": [
    {
     "data": {
      "text/plain": [
       "20.0"
      ]
     },
     "execution_count": 8,
     "metadata": {},
     "output_type": "execute_result"
    }
   ],
   "source": [
    "(67+33)*(25-20)/25"
   ]
  },
  {
   "cell_type": "code",
   "execution_count": 9,
   "metadata": {},
   "outputs": [
    {
     "data": {
      "text/plain": [
       "17.414074767267998"
      ]
     },
     "execution_count": 9,
     "metadata": {},
     "output_type": "execute_result"
    }
   ],
   "source": [
    "(4+5*60-17+65/4)**(1/2)\n"
   ]
  },
  {
   "cell_type": "code",
   "execution_count": 11,
   "metadata": {},
   "outputs": [
    {
     "data": {
      "text/plain": [
       "8"
      ]
     },
     "execution_count": 11,
     "metadata": {},
     "output_type": "execute_result"
    }
   ],
   "source": [
    "2*2**2\n"
   ]
  },
  {
   "cell_type": "code",
   "execution_count": 12,
   "metadata": {},
   "outputs": [
    {
     "data": {
      "text/plain": [
       "-0.3909200032552083"
      ]
     },
     "execution_count": 12,
     "metadata": {},
     "output_type": "execute_result"
    }
   ],
   "source": [
    "(1267-20*((5**3)/2)**2)/(8**5*36**(1/2))"
   ]
  },
  {
   "cell_type": "code",
   "execution_count": 14,
   "metadata": {},
   "outputs": [
    {
     "data": {
      "text/plain": [
       "-4251528.0"
      ]
     },
     "execution_count": 14,
     "metadata": {},
     "output_type": "execute_result"
    }
   ],
   "source": [
    "((((9**(1/2))**3)**2)**2)/((-2)**(-3))"
   ]
  },
  {
   "cell_type": "code",
   "execution_count": 23,
   "metadata": {},
   "outputs": [
    {
     "name": "stdout",
     "output_type": "stream",
     "text": [
      "10\n"
     ]
    }
   ],
   "source": [
    "room_temp=10\n",
    "print(room_temp)"
   ]
  },
  {
   "cell_type": "code",
   "execution_count": 24,
   "metadata": {},
   "outputs": [
    {
     "data": {
      "text/plain": [
       "int"
      ]
     },
     "execution_count": 24,
     "metadata": {},
     "output_type": "execute_result"
    }
   ],
   "source": [
    "type(room_temp)"
   ]
  },
  {
   "cell_type": "code",
   "execution_count": 40,
   "metadata": {},
   "outputs": [
    {
     "name": "stdout",
     "output_type": "stream",
     "text": [
      "2.0\n",
      "2.02.0\n"
     ]
    }
   ],
   "source": [
    "a = float(2)\n",
    "print(a)\n",
    "b=str(a)\n",
    "print(b*2)"
   ]
  },
  {
   "cell_type": "code",
   "execution_count": 41,
   "metadata": {},
   "outputs": [
    {
     "data": {
      "text/plain": [
       "'hey!'"
      ]
     },
     "execution_count": 41,
     "metadata": {},
     "output_type": "execute_result"
    }
   ],
   "source": [
    "'hey'+'!'"
   ]
  },
  {
   "cell_type": "code",
   "execution_count": 42,
   "metadata": {},
   "outputs": [
    {
     "data": {
      "text/plain": [
       "'2'"
      ]
     },
     "execution_count": 42,
     "metadata": {},
     "output_type": "execute_result"
    }
   ],
   "source": [
    "str(int(float('2.4')))"
   ]
  },
  {
   "cell_type": "code",
   "execution_count": 44,
   "metadata": {},
   "outputs": [
    {
     "data": {
      "text/plain": [
       "'4242'"
      ]
     },
     "execution_count": 44,
     "metadata": {},
     "output_type": "execute_result"
    }
   ],
   "source": [
    "'42'*2"
   ]
  },
  {
   "cell_type": "code",
   "execution_count": 6,
   "metadata": {},
   "outputs": [
    {
     "name": "stdout",
     "output_type": "stream",
     "text": [
      "Напишите что-нибудь хорошее: \n",
      "55.5\n",
      "55.5\n"
     ]
    },
    {
     "data": {
      "text/plain": [
       "float"
      ]
     },
     "execution_count": 6,
     "metadata": {},
     "output_type": "execute_result"
    }
   ],
   "source": [
    "ph = float(input ('Напишите что-нибудь хорошее: \\n'))\n",
    "print (ph)\n",
    "type (ph)"
   ]
  },
  {
   "cell_type": "code",
   "execution_count": 13,
   "metadata": {},
   "outputs": [
    {
     "name": "stdout",
     "output_type": "stream",
     "text": [
      "Как тебя зовут: \n",
      "Alexey\n",
      "Сегодня Вас зовут Alexey\n"
     ]
    }
   ],
   "source": [
    "name = input ('Как тебя зовут: \\n')\n",
    "print ('Сегодня Вас зовут ' + name)"
   ]
  },
  {
   "cell_type": "code",
   "execution_count": 17,
   "metadata": {},
   "outputs": [
    {
     "name": "stdout",
     "output_type": "stream",
     "text": [
      "Python <3\n",
      "13\n",
      "9\n",
      "6\n",
      "8.88748820522211\n"
     ]
    }
   ],
   "source": [
    "string_1='Hello, world!'\n",
    "string_2 = 'Python <3' \n",
    "string_3 = 'qwerty'\n",
    "print(string_2)\n",
    "print (len(string_1))\n",
    "print (len(string_2))\n",
    "print (len(string_3))\n",
    "print ((len(string_1)*len(string_2)*len(string_3))**(1/3))"
   ]
  },
  {
   "cell_type": "code",
   "execution_count": 18,
   "metadata": {},
   "outputs": [
    {
     "name": "stdout",
     "output_type": "stream",
     "text": [
      "Привет! 7 35\n"
     ]
    }
   ],
   "source": [
    "string = 'Привет!' \n",
    "power = 5\n",
    "print (string, len(string), len(string)*power)"
   ]
  },
  {
   "cell_type": "code",
   "execution_count": 22,
   "metadata": {},
   "outputs": [
    {
     "data": {
      "text/plain": [
       "3.1999999999999993"
      ]
     },
     "execution_count": 22,
     "metadata": {},
     "output_type": "execute_result"
    }
   ],
   "source": [
    "13.2 % 5"
   ]
  },
  {
   "cell_type": "code",
   "execution_count": 25,
   "metadata": {},
   "outputs": [
    {
     "name": "stdout",
     "output_type": "stream",
     "text": [
      "Это слово длинное\n"
     ]
    }
   ],
   "source": [
    "word = 'ОченьДлинноеСлово'\n",
    "if len(word) > 7:\n",
    "    print ('Это слово длинное')\n",
    "else:\n",
    "    print ('Это слово короткое')\n",
    "    \n"
   ]
  },
  {
   "cell_type": "code",
   "execution_count": 42,
   "metadata": {},
   "outputs": [
    {
     "name": "stdout",
     "output_type": "stream",
     "text": [
      "Квадратный корень из 162 - не целое число\n"
     ]
    }
   ],
   "source": [
    "number = 162\n",
    "f = number**(1/2)\n",
    "if (int(f)**2) == number:\n",
    "    print (int(f))\n",
    "else:\n",
    "    print ('Квадратный корень из', number, '- не целое число')\n",
    "        "
   ]
  },
  {
   "cell_type": "code",
   "execution_count": 43,
   "metadata": {},
   "outputs": [
    {
     "data": {
      "text/plain": [
       "16.0"
      ]
     },
     "execution_count": 43,
     "metadata": {},
     "output_type": "execute_result"
    }
   ],
   "source": [
    "16.2//1"
   ]
  },
  {
   "cell_type": "code",
   "execution_count": 44,
   "metadata": {},
   "outputs": [
    {
     "data": {
      "text/plain": [
       "0.3000000000000007"
      ]
     },
     "execution_count": 44,
     "metadata": {},
     "output_type": "execute_result"
    }
   ],
   "source": [
    "16.3 % 1\n"
   ]
  },
  {
   "cell_type": "code",
   "execution_count": 47,
   "metadata": {},
   "outputs": [
    {
     "data": {
      "text/plain": [
       "False"
      ]
     },
     "execution_count": 47,
     "metadata": {},
     "output_type": "execute_result"
    }
   ],
   "source": [
    "16.2%1 == 0"
   ]
  },
  {
   "cell_type": "code",
   "execution_count": 52,
   "metadata": {},
   "outputs": [
    {
     "name": "stdout",
     "output_type": "stream",
     "text": [
      "Норма\n",
      "20.24983563445102\n"
     ]
    }
   ],
   "source": [
    "weight = 77\n",
    "height=1.95\n",
    "WI = weight / (height)**2\n",
    "if WI < 18.5:\n",
    "    print ('Недостаточная масса тела')\n",
    "elif WI > 24.99:\n",
    "    print('Избыточная масса тела')\n",
    "else:\n",
    "    print ('Норма')\n",
    "print (WI)"
   ]
  },
  {
   "cell_type": "code",
   "execution_count": 58,
   "metadata": {},
   "outputs": [
    {
     "name": "stdout",
     "output_type": "stream",
     "text": [
      "Укажите оценку: \n",
      "7\n",
      "хорошо\n"
     ]
    }
   ],
   "source": [
    "mark = int(input('Укажите оценку: \\n'))\n",
    "#mark = 8\n",
    "if mark < 4:\n",
    "    print ('неудовлетворительно')\n",
    "elif mark >= 4 and mark <= 5:\n",
    "    print ('удовлетворительно')\n",
    "elif mark >= 6 and mark <= 7:\n",
    "    print ('хорошо')\n",
    "else:\n",
    "    print ('отлично')\n"
   ]
  },
  {
   "cell_type": "code",
   "execution_count": 61,
   "metadata": {},
   "outputs": [
    {
     "name": "stdout",
     "output_type": "stream",
     "text": [
      "Сегодня твой выбор - ресторан!\n"
     ]
    }
   ],
   "source": [
    "balance = 7000\n",
    "if balance < 2500:\n",
    "    print ('Придётся потерпеть!')\n",
    "else:\n",
    "    if balance < 5000:\n",
    "        print ('Эх, только фастфуд.')\n",
    "    else:\n",
    "        print ('Сегодня твой выбор - ресторан!')\n"
   ]
  },
  {
   "cell_type": "code",
   "execution_count": 62,
   "metadata": {},
   "outputs": [
    {
     "name": "stdout",
     "output_type": "stream",
     "text": [
      "Число делится на 2 без остатка.\n"
     ]
    }
   ],
   "source": [
    "number = 452\n",
    "if number % 2 == 0:\n",
    "    print ('Число делится на 2 без остатка.')\n",
    "elif number % 3 == 0:\n",
    "    print ('Число делится на 3 без остатка.')\n",
    "elif number % 5 == 0:\n",
    "    print ('Число делится на 5 без остатка.')\n",
    "else:\n",
    "    print ('Число не делится ни на 2, ни на 3, ни на 5 без остатка!')\n",
    "    "
   ]
  },
  {
   "cell_type": "code",
   "execution_count": 63,
   "metadata": {},
   "outputs": [
    {
     "data": {
      "text/plain": [
       "False"
      ]
     },
     "execution_count": 63,
     "metadata": {},
     "output_type": "execute_result"
    }
   ],
   "source": [
    "a = True \n",
    "b = False\n",
    "a and b or not a and not b"
   ]
  },
  {
   "cell_type": "code",
   "execution_count": 64,
   "metadata": {},
   "outputs": [
    {
     "data": {
      "text/plain": [
       "True"
      ]
     },
     "execution_count": 64,
     "metadata": {},
     "output_type": "execute_result"
    }
   ],
   "source": [
    "\"239\" < \"30\" and 239 > 30"
   ]
  },
  {
   "cell_type": "code",
   "execution_count": 65,
   "metadata": {},
   "outputs": [
    {
     "data": {
      "text/plain": [
       "'239'"
      ]
     },
     "execution_count": 65,
     "metadata": {},
     "output_type": "execute_result"
    }
   ],
   "source": [
    "\"239\""
   ]
  },
  {
   "cell_type": "code",
   "execution_count": 67,
   "metadata": {},
   "outputs": [
    {
     "data": {
      "text/plain": [
       "True"
      ]
     },
     "execution_count": 67,
     "metadata": {},
     "output_type": "execute_result"
    }
   ],
   "source": [
    "\"239\" < \"30\""
   ]
  },
  {
   "cell_type": "code",
   "execution_count": 68,
   "metadata": {},
   "outputs": [
    {
     "data": {
      "text/plain": [
       "3"
      ]
     },
     "execution_count": 68,
     "metadata": {},
     "output_type": "execute_result"
    }
   ],
   "source": [
    "len (\"239\")"
   ]
  },
  {
   "cell_type": "code",
   "execution_count": 69,
   "metadata": {},
   "outputs": [
    {
     "data": {
      "text/plain": [
       "239"
      ]
     },
     "execution_count": 69,
     "metadata": {},
     "output_type": "execute_result"
    }
   ],
   "source": [
    "int(\"239\")"
   ]
  },
  {
   "cell_type": "code",
   "execution_count": 70,
   "metadata": {},
   "outputs": [
    {
     "data": {
      "text/plain": [
       "True"
      ]
     },
     "execution_count": 70,
     "metadata": {},
     "output_type": "execute_result"
    }
   ],
   "source": [
    "\"5a\"<\"5b\" and 123/2 > 30 or True"
   ]
  },
  {
   "cell_type": "code",
   "execution_count": 71,
   "metadata": {},
   "outputs": [
    {
     "data": {
      "text/plain": [
       "False"
      ]
     },
     "execution_count": 71,
     "metadata": {},
     "output_type": "execute_result"
    }
   ],
   "source": [
    "False and True or 12<5**2 and \"Python\" > \"Ruby\""
   ]
  },
  {
   "cell_type": "code",
   "execution_count": 72,
   "metadata": {},
   "outputs": [
    {
     "data": {
      "text/plain": [
       "True"
      ]
     },
     "execution_count": 72,
     "metadata": {},
     "output_type": "execute_result"
    }
   ],
   "source": [
    "\"Android\" > \"Apple\" or \"Apple\" > \"Android\""
   ]
  },
  {
   "cell_type": "code",
   "execution_count": 73,
   "metadata": {},
   "outputs": [
    {
     "data": {
      "text/plain": [
       "True"
      ]
     },
     "execution_count": 73,
     "metadata": {},
     "output_type": "execute_result"
    }
   ],
   "source": [
    "x = 10 \n",
    "y = 15\n",
    "y > x**y - 1000 or \"test\" > \"push\""
   ]
  },
  {
   "cell_type": "code",
   "execution_count": 74,
   "metadata": {},
   "outputs": [
    {
     "name": "stdout",
     "output_type": "stream",
     "text": [
      "Аня не фанат таких цветов\n"
     ]
    }
   ],
   "source": [
    "flower = 'роза'\n",
    "color = 'фиолетовый'\n",
    "if color == 'синий' and color == 'белый' and flower == 'роза':\n",
    "    print ('Ане понравятся эти цветы')\n",
    "else:\n",
    "    print ('Аня не фанат таких цветов')"
   ]
  },
  {
   "cell_type": "code",
   "execution_count": 76,
   "metadata": {},
   "outputs": [
    {
     "name": "stdout",
     "output_type": "stream",
     "text": [
      "Попробуем поискать ещё...\n"
     ]
    }
   ],
   "source": [
    "height = 180\n",
    "weight = 92\n",
    "color = 'синий'\n",
    "if height > 170 and weight < 80 and color == 'красный':\n",
    "    print ('Ваша половинка нашлась!')\n",
    "else:\n",
    "    print ('Попробуем поискать ещё...')"
   ]
  },
  {
   "cell_type": "code",
   "execution_count": 78,
   "metadata": {},
   "outputs": [
    {
     "name": "stdout",
     "output_type": "stream",
     "text": [
      "Python\n"
     ]
    }
   ],
   "source": [
    "fav_word = 'Аппликация'\n",
    "if fav_word in ('рептилия', 'питон', 'змея'):\n",
    "    print ('Python')\n",
    "elif fav_word in ('плюс','плюсы'):\n",
    "    print ('C++')\n",
    "elif fav_word in ('рубин', 'кристалл'):\n",
    "    print ('Ruby')\n",
    "else:\n",
    "    print ('Python')"
   ]
  },
  {
   "cell_type": "code",
   "execution_count": 91,
   "metadata": {},
   "outputs": [
    {
     "name": "stdout",
     "output_type": "stream",
     "text": [
      "Преподаватель свободен.\n"
     ]
    }
   ],
   "source": [
    "hour = 19\n",
    "minute = 45\n",
    "if hour == 10 and minute > 30 or hour>10 and hour<12:\n",
    "    print ('Преподаватель занят.')\n",
    "elif hour == 13 and minute > 45 or hour > 13 and hour < 15:\n",
    "    print ('Преподаватель занят.')\n",
    "elif hour == 18 or hour == 19 and minute <= 30:\n",
    "    print ('Преподаватель занят.')\n",
    "else:\n",
    "    print ('Преподаватель свободен.')"
   ]
  },
  {
   "cell_type": "code",
   "execution_count": 111,
   "metadata": {},
   "outputs": [
    {
     "name": "stdout",
     "output_type": "stream",
     "text": [
      "п\n",
      "д\n",
      "и\n",
      "н\n",
      "к\n"
     ]
    }
   ],
   "source": [
    "word = 'подшипник'\n",
    "for i, letter in enumerate(word):\n",
    "    if i == 0 or i % 2 == 0:\n",
    "        print(letter)"
   ]
  },
  {
   "cell_type": "code",
   "execution_count": 116,
   "metadata": {},
   "outputs": [
    {
     "name": "stdout",
     "output_type": "stream",
     "text": [
      "2013 год невисокосный\n",
      "2014 год невисокосный\n",
      "2015 год невисокосный\n",
      "2016 год високосный\n",
      "2017 год невисокосный\n",
      "2018 год невисокосный\n",
      "2019 год невисокосный\n",
      "2020 год високосный\n"
     ]
    }
   ],
   "source": [
    "year_1 = 2013\n",
    "year_2 = 2020\n",
    "for i in range (year_1, year_2+1):\n",
    "    if i % 400 == 0 or i % 100 != 0 and i % 4 ==0:\n",
    "        print (i,'год високосный')\n",
    "    else:\n",
    "        print (i, 'год невисокосный')\n"
   ]
  },
  {
   "cell_type": "code",
   "execution_count": 120,
   "metadata": {},
   "outputs": [
    {
     "name": "stdout",
     "output_type": "stream",
     "text": [
      "и\n",
      "у\n",
      "а\n",
      "и\n",
      "а\n"
     ]
    }
   ],
   "source": [
    "word = 'Зимушка-зима'\n",
    "for i, letter in enumerate(word):\n",
    "    if letter in ('а', 'о', 'и', 'е', 'ё', 'э', 'ы', 'у', 'ю', 'я'):\n",
    "        print (letter)\n",
    "\n",
    "\n"
   ]
  },
  {
   "cell_type": "code",
   "execution_count": 122,
   "metadata": {},
   "outputs": [
    {
     "name": "stdout",
     "output_type": "stream",
     "text": [
      "asdasd\n",
      "Буква 1 в этом имени - С\n",
      "Буква 2 в этом имени - е\n",
      "Буква 3 в этом имени - р\n",
      "Буква 4 в этом имени - г\n",
      "Буква 5 в этом имени - е\n",
      "Буква 6 в этом имени - й\n"
     ]
    }
   ],
   "source": [
    "name=input()\n",
    "name = 'Сергей'\n",
    "for i,letter in enumerate(name):\n",
    "    print ('Буква', i+1, 'в этом имени -', letter)"
   ]
  },
  {
   "cell_type": "code",
   "execution_count": 144,
   "metadata": {},
   "outputs": [
    {
     "name": "stdout",
     "output_type": "stream",
     "text": [
      "25\n",
      "27\n",
      "33\n",
      "35\n",
      "39\n",
      "45\n"
     ]
    }
   ],
   "source": [
    "num_1 = 25\n",
    "num_2 = 45\n",
    "if num_1 <0 or num_2 < num_1:\n",
    "    print ('Введён неверный диапазон чисел')\n",
    "else:\n",
    "    for i,number in enumerate (range (num_1, num_2+1)):\n",
    "        #print (i, number)\n",
    "        if i==0 or i % 2==0:\n",
    "       #     print ('нечетное число', i)\n",
    "            if number%3==0 or number%5==0:\n",
    "                print (number)\n",
    "    "
   ]
  },
  {
   "cell_type": "code",
   "execution_count": 145,
   "metadata": {},
   "outputs": [
    {
     "name": "stdout",
     "output_type": "stream",
     "text": [
      "1 1 1\n",
      "2 4 8\n",
      "3 9 27\n",
      "4 16 64\n",
      "5 25 125\n",
      "6 36 216\n",
      "7 49 343\n",
      "8 64 512\n",
      "9 81 729\n",
      "10 100 1000\n"
     ]
    }
   ],
   "source": [
    "for i in range(1,10+1):\n",
    "    print (i, i**2, i**3)"
   ]
  },
  {
   "cell_type": "code",
   "execution_count": 147,
   "metadata": {},
   "outputs": [
    {
     "name": "stdout",
     "output_type": "stream",
     "text": [
      "1\n",
      "2\n",
      "3\n",
      "4\n",
      "6\n",
      "7\n",
      "12\n",
      "14\n",
      "21\n",
      "28\n",
      "42\n",
      "84\n"
     ]
    }
   ],
   "source": [
    "number = 84\n",
    "for i in range (1, number+1):\n",
    "    if number % i == 0:\n",
    "        print (i)"
   ]
  },
  {
   "cell_type": "code",
   "execution_count": 149,
   "metadata": {},
   "outputs": [
    {
     "name": "stdout",
     "output_type": "stream",
     "text": [
      "2\n"
     ]
    }
   ],
   "source": [
    "num_1 = 12\n",
    "num_2 = 38\n",
    "for i in range(2, min(num_1,num_2)):\n",
    "    if num_1 % i == 0 and num_2 % i == 0:\n",
    "        print (i)"
   ]
  },
  {
   "cell_type": "code",
   "execution_count": 150,
   "metadata": {},
   "outputs": [
    {
     "name": "stdout",
     "output_type": "stream",
     "text": [
      "55\n"
     ]
    }
   ],
   "source": [
    "n = 10\n",
    "fib_a = 1\n",
    "fib_b = 1\n",
    "for i in range (2, n):\n",
    "    fib_n = fib_a + fib_b\n",
    "    fib_a = fib_b\n",
    "    fib_b = fib_n\n",
    "print (fib_n)\n",
    "    \n",
    "    "
   ]
  },
  {
   "cell_type": "code",
   "execution_count": 151,
   "metadata": {},
   "outputs": [
    {
     "name": "stdout",
     "output_type": "stream",
     "text": [
      "15 X 1 = 15\n",
      "15 X 2 = 30\n",
      "15 X 3 = 45\n",
      "15 X 4 = 60\n",
      "15 X 5 = 75\n",
      "15 X 6 = 90\n",
      "15 X 7 = 105\n",
      "15 X 8 = 120\n",
      "15 X 9 = 135\n",
      "15 X 10 = 150\n"
     ]
    }
   ],
   "source": [
    "number = 15\n",
    "for i in range (1,11):\n",
    "    print (number, 'X', i, '=', number*i)"
   ]
  },
  {
   "cell_type": "code",
   "execution_count": 155,
   "metadata": {},
   "outputs": [
    {
     "name": "stdout",
     "output_type": "stream",
     "text": [
      "4\n"
     ]
    }
   ],
   "source": [
    "num_1 = 1812\n",
    "num_2 = 2500\n",
    "delit = 1\n",
    "for i in range(2, min(num_1,num_2)):\n",
    "    if num_1 % i == 0 and num_2 % i == 0 and i > delit:\n",
    "        delit = i\n",
    "if delit > 1:\n",
    "    print (delit)\n",
    "else:\n",
    "    print ('Общих делителей не найдено')\n",
    "        "
   ]
  },
  {
   "cell_type": "code",
   "execution_count": 162,
   "metadata": {},
   "outputs": [
    {
     "name": "stdout",
     "output_type": "stream",
     "text": [
      "стркция"
     ]
    }
   ],
   "source": [
    "string = 'абстракция'\n",
    "for i,letter in enumerate(string):\n",
    "    if letter in ('а', 'б', 'в'):\n",
    "        continue\n",
    "    print (letter, end='')"
   ]
  },
  {
   "cell_type": "code",
   "execution_count": 178,
   "metadata": {},
   "outputs": [
    {
     "name": "stdout",
     "output_type": "stream",
     "text": [
      "Увы, это неправильный ответ\n",
      "Увы, это неправильный ответ\n",
      "Увы, это неправильный ответ\n",
      "Увы, это неправильный ответ\n",
      "Увы, это неправильный ответ\n",
      "Это безнадёжно!\n"
     ]
    }
   ],
   "source": [
    "string = 'Нет'\n",
    "for i in range (0,5):\n",
    "    if string == 'Нет':\n",
    "        print ('Увы, это неправильный ответ')\n",
    "        if i==4:\n",
    "            print ('Это безнадёжно!')\n",
    "    else:\n",
    "        print ('Это отлично!')\n",
    "        break\n"
   ]
  },
  {
   "cell_type": "code",
   "execution_count": 190,
   "metadata": {},
   "outputs": [
    {
     "name": "stdout",
     "output_type": "stream",
     "text": [
      "Простое\n"
     ]
    }
   ],
   "source": [
    "number = 3\n",
    "for i in range (2, number):\n",
    "    if number % i == 0:\n",
    "        print ('Не является простым')\n",
    "        break\n",
    "    if i+1 == number:\n",
    "        print ('Простое')"
   ]
  },
  {
   "cell_type": "code",
   "execution_count": 1,
   "metadata": {},
   "outputs": [
    {
     "name": "stdout",
     "output_type": "stream",
     "text": [
      "Какая хорошая строка!\n"
     ]
    }
   ],
   "source": [
    "string = 'прстквл'\n",
    "for i,letter in enumerate (string):\n",
    "   # print (i, letter)\n",
    "    if i%2==0 and letter in ['а', 'о', 'и', 'е', 'ё', 'э', 'ы', 'у', 'ю', 'я']:\n",
    "        print ('Строка мне не нравится!')\n",
    "        break\n",
    "    if i+1==len(string):\n",
    "        print ('Какая хорошая строка!')\n",
    "\n",
    "        \n",
    "\n",
    "\n",
    "\n"
   ]
  },
  {
   "cell_type": "code",
   "execution_count": 217,
   "metadata": {},
   "outputs": [
    {
     "name": "stdout",
     "output_type": "stream",
     "text": [
      "19\n"
     ]
    }
   ],
   "source": [
    "Y = 170000\n",
    "Z = 1000000\n",
    "year=0\n",
    "while Y < Z:\n",
    "    year=year+1\n",
    "    Y=Y*1.1\n",
    "else:\n",
    "    print (year)\n"
   ]
  },
  {
   "cell_type": "code",
   "execution_count": 219,
   "metadata": {},
   "outputs": [
    {
     "name": "stdout",
     "output_type": "stream",
     "text": [
      "Перевес 62 кг\n"
     ]
    }
   ],
   "source": [
    "weight = 77\n",
    "load=0\n",
    "while load < 400:\n",
    "    load=load+weight\n",
    "else:\n",
    "    print ('Перевес',load-400,'кг')"
   ]
  },
  {
   "cell_type": "code",
   "execution_count": 220,
   "metadata": {},
   "outputs": [
    {
     "name": "stdout",
     "output_type": "stream",
     "text": [
      "7\n"
     ]
    }
   ],
   "source": [
    "current_health = 500\n",
    "attack = 80\n",
    "time=0\n",
    "while current_health > 0:\n",
    "    current_health -= attack\n",
    "    time += 1\n",
    "else:\n",
    "    print(time)"
   ]
  },
  {
   "cell_type": "code",
   "execution_count": 224,
   "metadata": {},
   "outputs": [
    {
     "name": "stdout",
     "output_type": "stream",
     "text": [
      "10000\n",
      "10000\n",
      "7200\n",
      "4400\n",
      "1600\n",
      "Слишком большие расходы\n"
     ]
    }
   ],
   "source": [
    "balance = 10000\n",
    "spent = 2800\n",
    "#print (balance)\n",
    "while balance > 0:\n",
    "    print (balance)\n",
    "    balance -=spent\n",
    "    \n",
    "else:\n",
    "    print ('Слишком большие расходы')"
   ]
  },
  {
   "cell_type": "code",
   "execution_count": 231,
   "metadata": {},
   "outputs": [
    {
     "name": "stdout",
     "output_type": "stream",
     "text": [
      "20\n",
      "-50\n"
     ]
    }
   ],
   "source": [
    "volume=1000\n",
    "delta=5\n",
    "step=0\n",
    "while volume > 0:\n",
    "    volume -= delta\n",
    "    delta+=5\n",
    "    step+=1\n",
    "else:\n",
    "    print (step)\n",
    "    print (volume)"
   ]
  },
  {
   "cell_type": "code",
   "execution_count": 4,
   "metadata": {},
   "outputs": [
    {
     "data": {
      "text/plain": [
       "list"
      ]
     },
     "execution_count": 4,
     "metadata": {},
     "output_type": "execute_result"
    }
   ],
   "source": [
    "a = [2, 4, 5]\n",
    "type (a)"
   ]
  },
  {
   "cell_type": "code",
   "execution_count": 6,
   "metadata": {},
   "outputs": [
    {
     "data": {
      "text/plain": [
       "int"
      ]
     },
     "execution_count": 6,
     "metadata": {},
     "output_type": "execute_result"
    }
   ],
   "source": [
    "a=int()\n",
    "type(a)"
   ]
  },
  {
   "cell_type": "code",
   "execution_count": 8,
   "metadata": {},
   "outputs": [
    {
     "name": "stdout",
     "output_type": "stream",
     "text": [
      "['кошка,собака,хомяк,морская', 'свинка,попугай,лошадь']\n"
     ]
    }
   ],
   "source": [
    "animals = 'кошка,собака,хомяк,морская свинка,попугай,лошадь'.split()\n",
    "print(animals)\n"
   ]
  },
  {
   "cell_type": "code",
   "execution_count": 9,
   "metadata": {},
   "outputs": [
    {
     "name": "stdout",
     "output_type": "stream",
     "text": [
      "Александр\n"
     ]
    }
   ],
   "source": [
    "OurBestStudents = ['Александр', 'Константин', 'Мария', 'Диана', 'Алексей', \n",
    "                   'Максим', 'Светлана', 'Арина', 'Серафим', 'Doomer', \n",
    "                   'Павел', 'Виктория', 'Елена', 'Галина', 'Вячеслав']\n",
    "print(OurBestStudents[0])"
   ]
  },
  {
   "cell_type": "code",
   "execution_count": 13,
   "metadata": {},
   "outputs": [
    {
     "name": "stdout",
     "output_type": "stream",
     "text": [
      "['оранжевый', 'жёлтый']\n",
      "['красный', 'оранжевый', 'жёлтый', 'зелёный', 'голубой', 'синий', 'фиолетовый']\n"
     ]
    }
   ],
   "source": [
    "colors = ['красный', 'оранжевый', 'жёлтый', 'зелёный', 'голубой', 'синий', 'фиолетовый']\n",
    "print(colors[1:3])\n",
    "print (colors)"
   ]
  },
  {
   "cell_type": "code",
   "execution_count": 30,
   "metadata": {},
   "outputs": [
    {
     "data": {
      "text/plain": [
       "['руки', 'ноги', 'глаза', 'уши', 'рот', 'нос', 'туловище']"
      ]
     },
     "execution_count": 30,
     "metadata": {},
     "output_type": "execute_result"
    }
   ],
   "source": [
    "body = ['голова', 'руки', 'ноги', 'глаза', 'уши', 'рот', 'нос', 'туловище']\n",
    "body[1:8]"
   ]
  },
  {
   "cell_type": "code",
   "execution_count": 31,
   "metadata": {},
   "outputs": [
    {
     "data": {
      "text/plain": [
       "['Арбузов', 'Лисичкин', 'Зайцев', 'Иванов']"
      ]
     },
     "execution_count": 31,
     "metadata": {},
     "output_type": "execute_result"
    }
   ],
   "source": [
    "sparta = ['Иванов', 'Петров', 'Сидоров', 'Зайцев', 'Дятлов', \n",
    "          'Козлов', 'Лисичкин', 'Огурцов', 'Капустин', 'Арбузов']\n",
    "sparta[::-3]"
   ]
  },
  {
   "cell_type": "code",
   "execution_count": 32,
   "metadata": {},
   "outputs": [
    {
     "data": {
      "text/plain": [
       "['Капустин', 'Козлов', 'Сидоров']"
      ]
     },
     "execution_count": 32,
     "metadata": {},
     "output_type": "execute_result"
    }
   ],
   "source": [
    "sparta[-2:1:-3]"
   ]
  },
  {
   "cell_type": "code",
   "execution_count": 33,
   "metadata": {},
   "outputs": [],
   "source": [
    "sparta.append('Gbpltw')"
   ]
  },
  {
   "cell_type": "code",
   "execution_count": 34,
   "metadata": {},
   "outputs": [
    {
     "name": "stdout",
     "output_type": "stream",
     "text": [
      "['Иванов', 'Петров', 'Сидоров', 'Зайцев', 'Дятлов', 'Козлов', 'Лисичкин', 'Огурцов', 'Капустин', 'Арбузов', 'Gbpltw']\n"
     ]
    }
   ],
   "source": [
    "print (sparta)"
   ]
  },
  {
   "cell_type": "code",
   "execution_count": 36,
   "metadata": {},
   "outputs": [
    {
     "name": "stdout",
     "output_type": "stream",
     "text": [
      "[100, 90, 87, 65, 31, 29, 10]\n"
     ]
    }
   ],
   "source": [
    "my_list = [10, 65, 31, 29, 90, 87, 100]\n",
    "my_list.sort(reverse=True)\n",
    "print(my_list)"
   ]
  },
  {
   "cell_type": "code",
   "execution_count": 37,
   "metadata": {},
   "outputs": [
    {
     "name": "stdout",
     "output_type": "stream",
     "text": [
      "97\n"
     ]
    }
   ],
   "source": [
    "my_list = [1, 10, 45, 31, 12, 54, 111, 398, 97, 63]\n",
    "my_list.sort(reverse = True)\n",
    "print(my_list[2])"
   ]
  },
  {
   "cell_type": "code",
   "execution_count": 40,
   "metadata": {},
   "outputs": [
    {
     "name": "stdout",
     "output_type": "stream",
     "text": [
      "398\n",
      "1\n",
      "399\n"
     ]
    }
   ],
   "source": [
    "my_list = [1, 10, 45, 31, 12, 54, 111, 398, 97, 63]\n",
    "result = max(my_list) + min(my_list) + my_list.count('batman')\n",
    "print(max(my_list))\n",
    "print(min(my_list))\n",
    "print(result)"
   ]
  },
  {
   "cell_type": "code",
   "execution_count": 44,
   "metadata": {},
   "outputs": [
    {
     "name": "stdout",
     "output_type": "stream",
     "text": [
      "[398, 111, 97, 63, 54, 45, 31, 12, 10, 1]\n",
      "[398, 97, 54, 31, 10]\n",
      "590\n"
     ]
    }
   ],
   "source": [
    "my_list = [1, 10, 45, 31, 12, 54, 111, 398, 97, 63]\n",
    "my_list.sort(reverse = True)\n",
    "print(my_list)\n",
    "new_list = my_list[::2]\n",
    "print (new_list)\n",
    "result = 0\n",
    "for number in new_list:\n",
    "    result += number\n",
    "print(result)"
   ]
  },
  {
   "cell_type": "code",
   "execution_count": 45,
   "metadata": {},
   "outputs": [
    {
     "name": "stdout",
     "output_type": "stream",
     "text": [
      "97\n"
     ]
    }
   ],
   "source": [
    "print(my_list[2])"
   ]
  },
  {
   "cell_type": "code",
   "execution_count": 47,
   "metadata": {},
   "outputs": [
    {
     "name": "stdout",
     "output_type": "stream",
     "text": [
      "[1024, 512, 256, 128, 64, 32, 16, 8, 4, 2, 1]\n"
     ]
    }
   ],
   "source": [
    "my_list = [1]\n",
    "for i in range(10):\n",
    "    my_list.append(my_list[i] * 2)\n",
    "my_list.sort(reverse = True)\n",
    "\n",
    "print(my_list)"
   ]
  },
  {
   "cell_type": "code",
   "execution_count": 57,
   "metadata": {},
   "outputs": [
    {
     "data": {
      "text/plain": [
       "'а'"
      ]
     },
     "execution_count": 57,
     "metadata": {},
     "output_type": "execute_result"
    }
   ],
   "source": [
    "fruits = 'яблоко банан апельсин баклажан перец помидор арбуз ананас'.split()\n",
    "\n",
    "\n",
    "my_list = []\n",
    "for fruit in fruits:\n",
    "    my_list.append(fruit[0])\n",
    "my_list.sort()\n",
    "\n",
    "my_list.count(my_list[0]) == 3"
   ]
  },
  {
   "cell_type": "code",
   "execution_count": 69,
   "metadata": {},
   "outputs": [
    {
     "name": "stdout",
     "output_type": "stream",
     "text": [
      "[3, 6, 9, 12, 15, 18, 21, 24, 27, 30, 33, 36, 39, 42, 45, 48]\n",
      "408\n"
     ]
    }
   ],
   "source": [
    "my_list = list()\n",
    "for i in range (1,51):\n",
    "    if i%3==0:\n",
    "        my_list.append(i)\n",
    "\n",
    "result = sum(my_list)\n",
    "print (result)"
   ]
  },
  {
   "cell_type": "code",
   "execution_count": 73,
   "metadata": {},
   "outputs": [
    {
     "data": {
      "text/plain": [
       "10"
      ]
     },
     "execution_count": 73,
     "metadata": {},
     "output_type": "execute_result"
    }
   ],
   "source": [
    "raw_list = [2, 8, 10, 23, 64, 49, 11, 52, 71, 14]\n",
    "len (raw_list)\n"
   ]
  },
  {
   "cell_type": "code",
   "execution_count": 77,
   "metadata": {},
   "outputs": [
    {
     "name": "stdout",
     "output_type": "stream",
     "text": [
      "[4, 16, 20, 1633, 128, 3479, 781, 104, 5041, 28]\n"
     ]
    }
   ],
   "source": [
    "raw_list = [2, 8, 10, 23, 64, 49, 11, 52, 71, 14]\n",
    "x_min=min(raw_list)\n",
    "x_max=max(raw_list)\n",
    "my_list=list()\n",
    "\n",
    "for i in raw_list:\n",
    "    if i%2==0:\n",
    "        my_list.append(i*x_min)\n",
    "    else:\n",
    "        my_list.append(i*x_max)\n",
    "result=max(my_list)\n",
    "        "
   ]
  },
  {
   "cell_type": "code",
   "execution_count": 78,
   "metadata": {},
   "outputs": [
    {
     "name": "stdout",
     "output_type": "stream",
     "text": [
      "[3, 5, 7, 6, 10, 14, 9, 15, 21, 12, 20, 28, 15, 25, 35, 18, 30, 42, 21, 35, 49, 24, 40, 56, 27, 45, 63]\n"
     ]
    }
   ],
   "source": [
    "numbers = [x*y for x in range(1, 10) for y in [3, 5, 7]]\n",
    "print (numbers)"
   ]
  },
  {
   "cell_type": "code",
   "execution_count": 79,
   "metadata": {},
   "outputs": [
    {
     "name": "stdout",
     "output_type": "stream",
     "text": [
      "[3, 5, 7, 11, 13, 17, 19, 23, 29, 31, 37, 41, 43, 47, 53, 59, 61, 67, 71, 73, 79, 83, 89, 97]\n"
     ]
    }
   ],
   "source": [
    "numbers = [x for x in range(3,100) if [x%y for y in range(2,x)].count(0) == 0]\n",
    "print(numbers)\n"
   ]
  },
  {
   "cell_type": "code",
   "execution_count": 83,
   "metadata": {},
   "outputs": [
    {
     "data": {
      "text/plain": [
       "range(2, 5)"
      ]
     },
     "execution_count": 83,
     "metadata": {},
     "output_type": "execute_result"
    }
   ],
   "source": [
    "range (2,5)"
   ]
  },
  {
   "cell_type": "code",
   "execution_count": 95,
   "metadata": {},
   "outputs": [
    {
     "name": "stdout",
     "output_type": "stream",
     "text": [
      "['с', 'и', 'н', 'х', 'р', 'о', 'ф', 'а', 'з', 'о', 'т', 'р', 'о', 'н']\n"
     ]
    }
   ],
   "source": [
    "my_list = [x for x in 'синхрофазотрон']\n",
    "print (my_list)"
   ]
  },
  {
   "cell_type": "code",
   "execution_count": 97,
   "metadata": {},
   "outputs": [
    {
     "name": "stdout",
     "output_type": "stream",
     "text": [
      "[9, 10, 11, 12, 13, 14, 15, 16, 17, 18]\n"
     ]
    }
   ],
   "source": [
    "my_list = []\n",
    "for x in range(90, 100):\n",
    "    first_digit = x//10\n",
    "    last_digit = x%10\n",
    "    my_list.append(first_digit + last_digit)\n",
    "    \n",
    "print (my_list)"
   ]
  },
  {
   "cell_type": "code",
   "execution_count": 101,
   "metadata": {},
   "outputs": [
    {
     "name": "stdout",
     "output_type": "stream",
     "text": [
      "[9, 10, 11, 12, 13, 14, 15, 16, 17, 18]\n"
     ]
    }
   ],
   "source": [
    "my_list = [((x//10)+(x%10)) for x in range(90,100)]\n",
    "print (my_list)"
   ]
  },
  {
   "cell_type": "code",
   "execution_count": 104,
   "metadata": {},
   "outputs": [
    {
     "data": {
      "text/plain": [
       "list"
      ]
     },
     "execution_count": 104,
     "metadata": {},
     "output_type": "execute_result"
    }
   ],
   "source": [
    "phones = ['+79033923029', '+78125849204', '+79053049385','+79053049385', '+79265748370', '+79030598495' ]\n",
    "type(phones)"
   ]
  },
  {
   "cell_type": "code",
   "execution_count": 107,
   "metadata": {},
   "outputs": [
    {
     "name": "stdout",
     "output_type": "stream",
     "text": [
      "['+79033923029', '+78125849204', '+79053049385', '+79265748370', '+79030598495']\n"
     ]
    }
   ],
   "source": [
    "book = [['+79033923029', 'Мария Никитина'], ['+78125849204', 'Егор Савичев'], ['+79053049385', 'Александр Пахомов'], ['+79265748370', 'Алина Егорова'], ['+79030598495', 'Руслан Башаров']]\n",
    "phones=[]\n",
    "for i in book:\n",
    "    phones.append(i[0])\n",
    "print(phones)\n",
    "    \n",
    "\n",
    "\n",
    "\n"
   ]
  },
  {
   "cell_type": "code",
   "execution_count": 112,
   "metadata": {},
   "outputs": [
    {
     "name": "stdout",
     "output_type": "stream",
     "text": [
      "+79265748370\n"
     ]
    }
   ],
   "source": [
    "employee_base={'Мария Никитина': '+79033923029', 'Егор Савичев': '+78125849204',  'Александр Пахомов' : '+79053049385',  'Алина Егорова' : '+79265748370', 'Руслан Башаров': '+79030598495'}\n",
    "print(employee_base['Алина Егорова'])\n",
    "\n"
   ]
  },
  {
   "cell_type": "code",
   "execution_count": 114,
   "metadata": {},
   "outputs": [
    {
     "name": "stdout",
     "output_type": "stream",
     "text": [
      "unknown\n"
     ]
    }
   ],
   "source": [
    "draw_dict = {\n",
    "'Россия': 'A',\n",
    "'Португалия': 'B',\n",
    "'Франция': 'C',\n",
    "'Дания': 'C',\n",
    "'Египет': 'A'\n",
    "}\n",
    "country = 'Италия'\n",
    "if country in draw_dict:\n",
    "    group=draw_dict[country]\n",
    "else:\n",
    "    group='unknown'\n",
    "\n",
    "print(group)"
   ]
  },
  {
   "cell_type": "code",
   "execution_count": 116,
   "metadata": {},
   "outputs": [
    {
     "name": "stdout",
     "output_type": "stream",
     "text": [
      "unknown\n"
     ]
    }
   ],
   "source": [
    "draw_dict = {\n",
    "'Россия': 'A',\n",
    "'Португалия': 'B',\n",
    "'Франция': 'C',\n",
    "'Дания': 'C',\n",
    "'Египет': 'A'\n",
    "}\n",
    "country = 'Италия'\n",
    "draw_dict.setdefault (country, 'unknown')\n",
    "group=draw_dict[country]\n",
    "\n",
    "print(group)"
   ]
  },
  {
   "cell_type": "code",
   "execution_count": 118,
   "metadata": {},
   "outputs": [
    {
     "name": "stdout",
     "output_type": "stream",
     "text": [
      "{'Россия': 'A', 'Египет': 'A'}\n"
     ]
    }
   ],
   "source": [
    "draw_dict = {\n",
    "'Россия': 'A',\n",
    "'Португалия': 'B',\n",
    "'Франция': 'C',\n",
    "'Дания': 'C',\n",
    "'Египет': 'A'\n",
    "}\n",
    "draw_new = dict()\n",
    "for cntr in draw_dict.keys():\n",
    "    if draw_dict[cntr]== 'A':\n",
    "        draw_new[cntr]= 'A'\n",
    "\n",
    "print (draw_new)"
   ]
  },
  {
   "cell_type": "code",
   "execution_count": 119,
   "metadata": {},
   "outputs": [],
   "source": [
    "draw_dict = {\n",
    "'Россия': 'A',\n",
    "'Португалия': 'B',\n",
    "'Франция': 'C',\n",
    "'Дания': 'C',\n",
    "'Египет': 'A'\n",
    "}\n",
    "draw_new = dict()\n",
    "for country, group in draw_dict.items():\n",
    "    if group=='A':\n",
    "        draw_new[country]=group\n",
    "\n",
    "        "
   ]
  },
  {
   "cell_type": "code",
   "execution_count": 120,
   "metadata": {},
   "outputs": [],
   "source": [
    "csv_file = [\n",
    "    ['100412', 'Ботинки для горных лыж ATOMIC Hawx Prime 100', 9],\n",
    "    ['100728', 'Скейтборд Jdbug RT03', 32],\n",
    "    ['100732', 'Роллерсерф Razor RipStik Bright', 11],\n",
    "    ['100803', 'Ботинки для сноуборда DC Tucknee', 20],\n",
    "    ['100898', 'Шагомер Omron HJA-306', 2],\n",
    "    ['100934', 'Пульсометр Beurer PM62', 17],\n",
    "]\n",
    "pulsometer_id=csv_file[5][0]\n"
   ]
  },
  {
   "cell_type": "code",
   "execution_count": 127,
   "metadata": {},
   "outputs": [
    {
     "name": "stdout",
     "output_type": "stream",
     "text": [
      "[['100728', 'Скейтборд Jdbug RT03', 32], ['100732', 'Роллерсерф Razor RipStik Bright', 11], ['100803', 'Ботинки для сноуборда DC Tucknee', 20], ['100934', 'Пульсометр Beurer PM62', 17]]\n"
     ]
    }
   ],
   "source": [
    "csv_file = [\n",
    "    ['100412', 'Ботинки для горных лыж ATOMIC Hawx Prime 100', 9],\n",
    "    ['100728', 'Скейтборд Jdbug RT03', 32],\n",
    "    ['100732', 'Роллерсерф Razor RipStik Bright', 11],\n",
    "    ['100803', 'Ботинки для сноуборда DC Tucknee', 20],\n",
    "    ['100898', 'Шагомер Omron HJA-306', 2],\n",
    "    ['100934', 'Пульсометр Beurer PM62', 17],\n",
    "]\n",
    "\n",
    "csv_file_filtered=list()\n",
    "for rec in csv_file:\n",
    "    if rec[2] > 10:\n",
    "        csv_file_filtered.append(rec)\n",
    "print(csv_file_filtered)"
   ]
  },
  {
   "cell_type": "code",
   "execution_count": 144,
   "metadata": {},
   "outputs": [
    {
     "name": "stdout",
     "output_type": "stream",
     "text": [
      "{'id': '100412', 'position': 'Ботинки для горных лыж ATOMIC Hawx Prime 100', 'count': 9} \n",
      "\n",
      "{'id': '100803', 'position': 'Ботинки для сноуборда DC Tucknee', 'count': 20} \n",
      "\n"
     ]
    }
   ],
   "source": [
    "csv_dict = [\n",
    "    {'id': '100412', 'position': 'Ботинки для горных лыж ATOMIC Hawx Prime 100', 'count': 9},\n",
    "    {'id': '100728', 'position': 'Скейтборд Jdbug RT03', 'count': 32},\n",
    "    {'id': '100732', 'position': 'Роллерсерф Razor RipStik Bright', 'count': 11},\n",
    "    {'id': '100803', 'position': 'Ботинки для сноуборда DC Tucknee', 'count': 20},\n",
    "    {'id': '100898', 'position': 'Шагомер Omron HJA-306', 'count': 2},\n",
    "    {'id': '100934', 'position': 'Пульсометр Beurer PM62', 'count': 17},\n",
    "]\n",
    "\n",
    "csv_dict_boots=list()\n",
    "rec=dict()\n",
    "\n",
    "\n",
    "for rec in csv_dict:\n",
    "   # print (rec)\n",
    "    if 'Ботинки' in rec['position']:\n",
    "        csv_dict_boots.append(rec)\n",
    "for rec in csv_dict_boots:\n",
    "    print (rec, '\\n')"
   ]
  },
  {
   "cell_type": "code",
   "execution_count": 156,
   "metadata": {},
   "outputs": [
    {
     "name": "stdout",
     "output_type": "stream",
     "text": [
      "5\n"
     ]
    }
   ],
   "source": [
    "defect_stats = [\n",
    "{'step number': 1, 'damage': 0.98},\n",
    "{'step number': 2, 'damage': 0.99},\n",
    "{'step number': 3, 'damage': 0.99},\n",
    "{'step number': 4, 'damage': 0.96},\n",
    "{'step number': 5, 'damage': 0.97},\n",
    "{'step number': 6, 'damage': 0.97},\n",
    "]\n",
    "\n",
    "status=1\n",
    "\n",
    "for i in range(len (defect_stats)):\n",
    "   # print(defect_stats[i])\n",
    "    status=status*defect_stats[i]['damage']\n",
    "    if status<0.9:\n",
    "        break\n",
    "print (defect_stats[i]['step number'])\n",
    "    "
   ]
  },
  {
   "cell_type": "code",
   "execution_count": 28,
   "metadata": {},
   "outputs": [
    {
     "name": "stdout",
     "output_type": "stream",
     "text": [
      "AMD\n"
     ]
    }
   ],
   "source": [
    "currency = {\n",
    "'AMD': {\n",
    "'Name': 'Армянских драмов',\n",
    "'Nominal': 100,\n",
    "'Value': 13.121\n",
    "},\n",
    "\n",
    "'AUD': {\n",
    "'Name': 'Австралийский доллар',\n",
    "'Nominal': 1,\n",
    "'Value': 45.5309\n",
    "},\n",
    "\n",
    "'INR': {\n",
    "'Name': 'Индийских рупий',\n",
    "'Nominal': 100,\n",
    "'Value': 92.9658\n",
    "},\n",
    "\n",
    "'MDL': {\n",
    "'Name': 'Молдавских леев',\n",
    "'Nominal': 10,\n",
    "'Value': 36.9305\n",
    "},\n",
    "}\n",
    "exchange =dict()\n",
    "for CUR, meta in currency.items():\n",
    "    exchange[str(meta['Value']/meta['Nominal'])]=CUR\n",
    "print(exchange[min(exchange.keys())])"
   ]
  },
  {
   "cell_type": "code",
   "execution_count": 35,
   "metadata": {},
   "outputs": [
    {
     "name": "stdout",
     "output_type": "stream",
     "text": [
      "225\n"
     ]
    }
   ],
   "source": [
    "bodycount = {\n",
    "\t'Проклятие Черной жемчужины': {\n",
    "\t\t'человек': 17\n",
    "\t}, \n",
    "\n",
    "\t'Сундук мертвеца': {\n",
    "\t\t'человек': 56,\n",
    "\t\t'раков-отшельников': 1\n",
    "\t},\n",
    "\n",
    "\t'На краю света': {\n",
    "\t\t'человек': 88\n",
    "\t},\n",
    "\n",
    "\t'На странных берегах': {\n",
    "\t\t'человек': 56,\n",
    "\t\t'русалок': 2,\n",
    "\t\t'ядовитых жаб': 3,\n",
    "\t\t'пиратов зомби': 2\n",
    "\t}\n",
    "}\n",
    "sum=0\n",
    "for film,data in bodycount.items():\n",
    "    for creature in data.keys():\n",
    "        sum=sum+data[creature]\n",
    "print(sum)"
   ]
  },
  {
   "cell_type": "code",
   "execution_count": 33,
   "metadata": {},
   "outputs": [
    {
     "name": "stdout",
     "output_type": "stream",
     "text": [
      "['page', 'page', 'page', 'datepicker', 'table', 'table', 'table', 'table', 'datepicker', 'datepicker', 'datepicker', 'datepicker', 'datepicker', 'page', 'page', 'page', 'page', 'page', 'page', 'page', 'page', 'page', 'page', 'page', 'page', 'page', 'page', 'page', 'page', 'page', 'page', 'page', 'page', 'report', 'report', 'report', 'report', 'page', 'report', 'page', 'page', 'page', 'table', 'table', 'table', 'table', 'page', 'page', 'page', 'page', 'page', 'page', 'page', 'page', 'page', 'page', 'page', 'page', 'report', 'page', 'page', 'page', 'page', 'page', 'report', 'page', 'page', 'page', 'page', 'page', 'page', 'page', 'page', 'page', 'page', 'page', 'page', 'page', 'datepicker', 'datepicker', 'datepicker', 'datepicker', 'datepicker', 'datepicker', 'datepicker', 'page', 'page', 'page', 'page', 'page', 'page', 'report', 'table', 'table', 'datepicker', 'datepicker', 'page', 'page', 'page', 'page', 'page', 'page', 'page', 'page', 'page', 'page', 'page']\n",
      "Counter({'page': 74, 'datepicker': 15, 'table': 10, 'report': 8})\n",
      "{'id': 57540495, 'client_id': 49700, 'user_id': 84946, 'category': 'page', 'action': 'enter', 'options': {'name': 'landing'}}\n"
     ]
    }
   ],
   "source": [
    "import json\n",
    "with open('data.json', 'rb') as infile:\n",
    "    data = json.load(infile)\n",
    "\n",
    "data_list = data['events_data']\n",
    "\n",
    "categories = []\n",
    "for item in data_list:\n",
    "    category = item['category']\n",
    "    categories.append(category)\n",
    "\n",
    "    import collections\n",
    "c = collections.Counter()\n",
    "print(categories)\n",
    "for category in categories:\n",
    "    c[category] += 1\n",
    "print (c)\n",
    "\n",
    "print(item)"
   ]
  },
  {
   "cell_type": "code",
   "execution_count": 107,
   "metadata": {},
   "outputs": [
    {
     "name": "stdout",
     "output_type": "stream",
     "text": [
      "9\n"
     ]
    }
   ],
   "source": [
    "import json\n",
    "import collections\n",
    "with open('data.json', 'rb') as infile:\n",
    "    data = json.load(infile)\n",
    "\n",
    "data_list = data['events_data']\n",
    "\n",
    "         \n",
    "c = collections.Counter()\n",
    "\n",
    "client_id=[]\n",
    "\n",
    "for i in range(len(data_list)):\n",
    "    #if data_list[i]['client_id']==62602 and data_list[i]['category']=='page':\n",
    "        client_id.append(data_list[i][''])\n",
    "\n",
    "#print(client_id)    \n",
    "#for ID in client_id:\n",
    "#    c[ID]+=1\n",
    "\n",
    "#print(c)\n",
    "#print(len(c))\n",
    "print(len(client_id))"
   ]
  },
  {
   "cell_type": "code",
   "execution_count": 24,
   "metadata": {
    "scrolled": true
   },
   "outputs": [
    {
     "name": "stdout",
     "output_type": "stream",
     "text": [
      "[60459, 60459, 60459, 60459, 60459, 62602, 62602, 58113]\n",
      "3\n"
     ]
    }
   ],
   "source": [
    "import json\n",
    "import collections\n",
    "with open('data.json', 'rb') as infile:\n",
    "    data = json.load(infile)\n",
    "\n",
    "data_list = data['events_data']\n",
    "c = collections.Counter()\n",
    "\n",
    "i = int()\n",
    "client_report=list()\n",
    "data_list[1]\n",
    "\n",
    "\n",
    "for i in range(len(data_list)):\n",
    "    if data_list[i]['category'] == 'report':\n",
    "        client_report.append(data_list[i]['client_id'])\n",
    "print(client_report)\n",
    "        \n",
    "for counter in client_report:\n",
    "    c[counter] += 1\n",
    "\n",
    "print(len(c))\n",
    "\n"
   ]
  },
  {
   "cell_type": "code",
   "execution_count": 31,
   "metadata": {},
   "outputs": [
    {
     "name": "stdout",
     "output_type": "stream",
     "text": [
      "[58113, 60459, 62602]\n"
     ]
    }
   ],
   "source": [
    "import json\n",
    "import collections\n",
    "with open('data.json', 'rb') as infile:\n",
    "    data = json.load(infile)\n",
    "\n",
    "i = int()\n",
    "client_report=list()    \n",
    "    \n",
    "data_list = data['events_data']\n",
    "c = collections.Counter()\n",
    "\n",
    "\n",
    "for i in range(len(data_list)):\n",
    "    if data_list[i]['category'] == 'report':\n",
    "        client_report.append(data_list[i]['client_id'])\n",
    "\n",
    "for counter in client_report:\n",
    "    c[counter] += 1        \n",
    "        \n",
    "#client_report.sort()\n",
    "        \n",
    "print(sorted(c))"
   ]
  },
  {
   "cell_type": "code",
   "execution_count": 46,
   "metadata": {},
   "outputs": [
    {
     "name": "stdout",
     "output_type": "stream",
     "text": [
      "рПгоарммсиыт- э оту тсорсйвт,ап ербоарузщюеик фоие н вок.д\n"
     ]
    }
   ],
   "source": [
    "proverb = 'Программисты - это устройства, преобразующие кофеин в код.'\n",
    "new_proverb = str()\n",
    "i = int()\n",
    "\n",
    "for i in range(len(proverb)):\n",
    "    if i%2 == 0:\n",
    "        new_proverb = new_proverb + proverb[i+1]\n",
    "    else:\n",
    "        new_proverb +=proverb[i-1]\n",
    "print(new_proverb)"
   ]
  },
  {
   "cell_type": "code",
   "execution_count": 76,
   "metadata": {},
   "outputs": [
    {
     "name": "stdout",
     "output_type": "stream",
     "text": [
      "Слово \"ого\" является палиндромом\n"
     ]
    }
   ],
   "source": [
    "basic_word = str()\n",
    "inverted_word= str()\n",
    "\n",
    "basic_word = 'программирование'\n",
    "\n",
    "for i in range(1, len(basic_word)+1):\n",
    "    inverted_word = inverted_word + basic_word[-i]\n",
    "\n",
    "if basic_word == inverted_word:\n",
    "    print ('Слово \"'+ basic_word +'\" является палиндромом')\n",
    "else:\n",
    "    print ('Слово \"'+ basic_word +'\" - это не палиндром')       \n",
    "    \n",
    "\n"
   ]
  },
  {
   "cell_type": "code",
   "execution_count": 80,
   "metadata": {},
   "outputs": [
    {
     "name": "stdout",
     "output_type": "stream",
     "text": [
      "gmail.com\n"
     ]
    }
   ],
   "source": [
    "email = 'blabla@gmail.com'\n",
    "print(email[email.find(\"@\")+1:])"
   ]
  },
  {
   "cell_type": "code",
   "execution_count": 90,
   "metadata": {},
   "outputs": [
    {
     "name": "stdout",
     "output_type": "stream",
     "text": [
      "14\n"
     ]
    }
   ],
   "source": [
    "number = 56.257\n",
    "num_str= str(number)\n",
    "sum = 0\n",
    "\n",
    "for digit in num_str[num_str.find('.')+1:]:\n",
    "    sum = sum + int(digit)\n",
    "    \n",
    "print (sum)    \n"
   ]
  },
  {
   "cell_type": "code",
   "execution_count": 141,
   "metadata": {},
   "outputs": [
    {
     "name": "stdout",
     "output_type": "stream",
     "text": [
      "{'mail.ru': 3, 'yandex.ru': 5, 'gmail.com': 2}\n"
     ]
    }
   ],
   "source": [
    "emails_list = ['vasya@mail.ru', \n",
    "          'akakiy@yandex.ru', \n",
    "          'spyderman@yandex.ru', \n",
    "          'XFiles@gmail.com', \n",
    "          'hello@mail.ru', \n",
    "          'noname@gmail.com', \n",
    "          'DonaldTrump@mail.ru', \n",
    "          'a768#af@yandex.ru', \n",
    "          'Ivan_Ivanovich@yandex.ru', \n",
    "          'thebestmail@yandex.ru']\n",
    "\n",
    "import collections\n",
    "domen_names = list()\n",
    "i=int()\n",
    "count = int()\n",
    "emails_dict = dict()\n",
    "c = collections.Counter()\n",
    "\n",
    "for i in range(len(emails_list)):\n",
    "    domen_names.append(emails_list[i][emails_list[i].find('@')+1:])\n",
    "\n",
    "for domens in domen_names:\n",
    "    c[domens] += 1\n",
    "\n",
    "emails_dict = dict.fromkeys(c.keys())\n",
    "for domen in emails_dict.keys():\n",
    "    emails_dict[domen] = c[domen]\n",
    "    \n",
    "print (emails_dict)\n",
    "\n",
    "\n",
    "\n",
    "#for count in c.values():\n",
    "#    ema\n",
    "    \n",
    "\n",
    "\n",
    "\n"
   ]
  },
  {
   "cell_type": "code",
   "execution_count": 172,
   "metadata": {},
   "outputs": [
    {
     "name": "stdout",
     "output_type": "stream",
     "text": [
      "{'mail.ru': 3, 'yandex.ru': 5, 'gmail.com': 2}\n"
     ]
    }
   ],
   "source": [
    "emails_list = ['vasya@mail.ru', \n",
    "          'akakiy@yandex.ru', \n",
    "          'spyderman@yandex.ru', \n",
    "          'XFiles@gmail.com', \n",
    "          'hello@mail.ru', \n",
    "          'noname@gmail.com', \n",
    "          'DonaldTrump@mail.ru', \n",
    "          'a768#af@yandex.ru', \n",
    "          'Ivan_Ivanovich@yandex.ru', \n",
    "          'thebestmail@yandex.ru']\n",
    "\n",
    "\n",
    "domen_names = list()\n",
    "i=int()\n",
    "count = int()\n",
    "emails_dict = dict()\n",
    "buffer = str()\n",
    "domen_list=list()\n",
    "\n",
    "for i in range(len(emails_list)):\n",
    "        domen_names.append(emails_list[i][emails_list[i].find('@')+1:])\n",
    "\n",
    "        \n",
    "for i in range(len(domen_names)):\n",
    "    if domen_names[i] in buffer:\n",
    "        continue\n",
    "    else:\n",
    "        domen_list.append(domen_names[i])\n",
    "        buffer = buffer + domen_names[i]\n",
    "\n",
    "        \n",
    "        \n",
    "emails_dict = dict.fromkeys(domen_list)\n",
    "for domen in emails_dict.keys():\n",
    "    emails_dict[domen] = domen_names.count(domen)\n",
    "    \n",
    "print (emails_dict)"
   ]
  },
  {
   "cell_type": "code",
   "execution_count": 177,
   "metadata": {},
   "outputs": [
    {
     "name": "stdout",
     "output_type": "stream",
     "text": [
      "Тяжёлая интернет-зависимость:)это когда ты выходишь из интернета:) а он из тебя нет:)\n"
     ]
    }
   ],
   "source": [
    "string = 'Тяжёлая интернет-зависимость - это когда ты выходишь из интернета, а он из тебя нет.'\n",
    "string = string.replace(':', ':)')\n",
    "string = string.replace('.', ':)')\n",
    "string = string.replace(',', ':)')\n",
    "string = string.replace('!', ':)')\n",
    "string = string.replace('?', ':)')\n",
    "string = string.replace(' - ', ':)')\n",
    "print (string)"
   ]
  },
  {
   "cell_type": "code",
   "execution_count": 183,
   "metadata": {},
   "outputs": [
    {
     "name": "stdout",
     "output_type": "stream",
     "text": [
      "С - согласная буква\n",
      "е - гласная буква\n",
      "в - согласная буква\n",
      "а - гласная буква\n",
      "с - согласная буква\n",
      "т - согласная буква\n",
      "и - гласная буква\n",
      "а - гласная буква\n",
      "н - согласная буква\n"
     ]
    }
   ],
   "source": [
    "name = 'Севастиан'\n",
    "i=int()\n",
    "glas = ('а', 'о', 'и', 'е', 'ё', 'э', 'ы', 'у', 'ю', 'я')\n",
    "\n",
    "for i in range(len(name)):\n",
    "    if name[i].lower() in glas:\n",
    "        print (name[i],'- гласная буква')\n",
    "    else:\n",
    "        print (name[i],'- согласная буква')\n"
   ]
  },
  {
   "cell_type": "code",
   "execution_count": 184,
   "metadata": {},
   "outputs": [
    {
     "ename": "SyntaxError",
     "evalue": "unexpected character after line continuation character (<ipython-input-184-98a601ef85d4>, line 1)",
     "output_type": "error",
     "traceback": [
      "\u001b[1;36m  File \u001b[1;32m\"<ipython-input-184-98a601ef85d4>\"\u001b[1;36m, line \u001b[1;32m1\u001b[0m\n\u001b[1;33m    \\d* \\+\\s[0-9]* \\W\\s\\d+\u001b[0m\n\u001b[1;37m                          ^\u001b[0m\n\u001b[1;31mSyntaxError\u001b[0m\u001b[1;31m:\u001b[0m unexpected character after line continuation character\n"
     ]
    }
   ],
   "source": [
    "\\d* \\+\\s[0-9]* \\W\\s\\d+"
   ]
  },
  {
   "cell_type": "code",
   "execution_count": 185,
   "metadata": {},
   "outputs": [
    {
     "data": {
      "text/plain": [
       "['Йо!', 'Учиться,', 'Только ']"
      ]
     },
     "execution_count": 185,
     "metadata": {},
     "output_type": "execute_result"
    }
   ],
   "source": [
    "import re\n",
    "pattern = re.compile('[А-Я][а-я]*\\W')\n",
    "\n",
    "string = '!!! Йо! Учиться, учиться и учиться! Вперёд! Только вперёд!' \n",
    "\n",
    "pattern.findall(string)\n"
   ]
  },
  {
   "cell_type": "code",
   "execution_count": 226,
   "metadata": {},
   "outputs": [
    {
     "data": {
      "text/plain": [
       "22"
      ]
     },
     "execution_count": 226,
     "metadata": {},
     "output_type": "execute_result"
    }
   ],
   "source": [
    "text = 'Разработка языка Python была начата в конце 1980-х годов сотрудником голландского института CWI Гвидо ван Россумом. Для распределённой ОС Amoeba требовался расширяемый скриптовый язык, и Гвидо начал писать Python на досуге, позаимствовав некоторые наработки для языка ABC (Гвидо участвовал в разработке этого языка, ориентированного на обучение программированию). В феврале 1991 года Гвидо опубликовал исходный текст в группе новостей alt.sources. Название языка произошло вовсе не от вида пресмыкающихся. Автор назвал язык в честь популярного британского комедийного телешоу 1970-х \"Летающий цирк Монти Пайтона\".'\n",
    "\n",
    "import re\n",
    "pattern = re.compile('[аоиеёэыуюяАОИЕЁЭЫУЮЯ]\\s[^аоиеёэыуюяАОИЕЁЭЫУЮЯ^a-z^A-Z^0-9]')\n",
    "\n",
    "(pattern.findall(text))\n",
    "len(pattern.findall(text))\n",
    "\n"
   ]
  },
  {
   "cell_type": "code",
   "execution_count": 26,
   "metadata": {},
   "outputs": [
    {
     "name": "stdout",
     "output_type": "stream",
     "text": [
      "118\n"
     ]
    }
   ],
   "source": [
    "f = open('StudentsPerformance.xls') \n",
    "num = int()\n",
    "\n",
    "\n",
    "for line in f:\n",
    "    if 'bachelor\\'s degree' in line:\n",
    "        num +=1\n",
    "\n",
    "        \n",
    "print (num)\n",
    "f.close()"
   ]
  },
  {
   "cell_type": "code",
   "execution_count": 36,
   "metadata": {},
   "outputs": [
    {
     "name": "stdout",
     "output_type": "stream",
     "text": [
      "6\n",
      "['\"bachelor\\'s degree\"', '\"some college\"', '\"master\\'s degree\"', '\"associate\\'s degree\"', '\"high school\"', '\"some high school\"']\n"
     ]
    }
   ],
   "source": [
    "f = open('StudentsPerformance.xls') \n",
    "\n",
    "num = int()\n",
    "education_deg = list()\n",
    "\n",
    "for line in f:\n",
    "    if  line.split(',')[2] in education_deg or line.split(',')[2] == '\"parental level of education\"':\n",
    "        continue\n",
    "    else:\n",
    "        num +=1\n",
    "        education_deg.append(line.split(',')[2])\n",
    "\n",
    "        \n",
    "print (num)\n",
    "print (education_deg)\n",
    "f.close()"
   ]
  },
  {
   "cell_type": "code",
   "execution_count": 40,
   "metadata": {},
   "outputs": [
    {
     "name": "stdout",
     "output_type": "stream",
     "text": [
      "645\n",
      "355\n",
      "0.645\n"
     ]
    }
   ],
   "source": [
    "f = open('StudentsPerformance.xls') \n",
    "\n",
    "num_normal = int()\n",
    "num_other = int()\n",
    "normal = int()\n",
    "\n",
    "for line in f:\n",
    "    if  line.split(',')[3] == '\"standard\"':\n",
    "        num_normal +=1\n",
    "    else:\n",
    "        num_other +=1\n",
    "        \n",
    "normal = num_normal/ (num_normal+num_other-1)\n",
    "\n",
    "print(num_normal)\n",
    "print(num_other-1)\n",
    "\n",
    "print (normal)\n",
    "\n",
    "f.close()"
   ]
  },
  {
   "cell_type": "code",
   "execution_count": 41,
   "metadata": {},
   "outputs": [
    {
     "name": "stdout",
     "output_type": "stream",
     "text": [
      "319\n"
     ]
    }
   ],
   "source": [
    "f = open('StudentsPerformance.xls') \n",
    "\n",
    "num = int()\n",
    "\n",
    "for line in f:\n",
    "    if  line.split(',')[1] == '\"group C\"':\n",
    "        num +=1\n",
    "        \n",
    "print (num)\n",
    "\n",
    "f.close()"
   ]
  },
  {
   "cell_type": "code",
   "execution_count": 42,
   "metadata": {},
   "outputs": [
    {
     "name": "stdout",
     "output_type": "stream",
     "text": [
      "5\n",
      "['\"group B\"', '\"group C\"', '\"group A\"', '\"group D\"', '\"group E\"']\n"
     ]
    }
   ],
   "source": [
    "f = open('StudentsPerformance.xls') \n",
    "\n",
    "num = int()\n",
    "race_num = list()\n",
    "\n",
    "for line in f:\n",
    "    if  line.split(',')[1] in race_num or line.split(',')[1] == '\"race/ethnicity\"':\n",
    "        continue\n",
    "    else:\n",
    "        num +=1\n",
    "        race_num.append(line.split(',')[1])\n",
    "\n",
    "        \n",
    "print (num)\n",
    "print (race_num)\n",
    "f.close()"
   ]
  },
  {
   "cell_type": "code",
   "execution_count": 58,
   "metadata": {},
   "outputs": [
    {
     "name": "stdout",
     "output_type": "stream",
     "text": [
      "68\n",
      "0.8676470588235294\n"
     ]
    }
   ],
   "source": [
    "import re\n",
    "pattern = re.compile('\\d+')\n",
    "\n",
    "exams = []\n",
    "total_standard = int()\n",
    "total = int()\n",
    "average = float()\n",
    "\n",
    "f = open('StudentsPerformance.xls')\n",
    "\n",
    "for line in f:\n",
    "    info = line.split(',')\n",
    "    if info[0] == '\"gender\"':\n",
    "        continue\n",
    "    else:\n",
    "        new_line = []\n",
    "        for item in info:\n",
    "            if pattern.search(item) != None:\n",
    "                new_line.append(int(pattern.search(item)[0]))\n",
    "            else:\n",
    "                new_line.append(item[1:-1])\n",
    "        exams.append(new_line)\n",
    "\n",
    "line = []\n",
    "for line in exams:\n",
    "    if line[7] > 90:\n",
    "        #total_score += line[6]\n",
    "        total += 1\n",
    "        if line[3] == 'standard':\n",
    "            total_standard += 1\n",
    "\n",
    "average = total_standard/ (total)\n",
    "\n",
    "print (total)\n",
    "\n",
    "#line =[]\n",
    "#num = int()\n",
    "#for line in exams:\n",
    "#    if line[0] == 'female' and line[6] < average:\n",
    "#        num += 1\n",
    "\n",
    "print (average)\n",
    "#print (num)"
   ]
  },
  {
   "cell_type": "code",
   "execution_count": 88,
   "metadata": {},
   "outputs": [
    {
     "name": "stdout",
     "output_type": "stream",
     "text": [
      "{\"bachelor's degree\": 7, 'some high school': 2, 'high school': 1, 'some college': 2, \"associate's degree\": 7, \"master's degree\": 2}\n"
     ]
    }
   ],
   "source": [
    "students = {}\n",
    "\n",
    "f = open('StudentsPerformance.xls')\n",
    "\n",
    "for line in f:\n",
    "  #  print (line)\n",
    "    info = line.split(',')\n",
    "    if info[0] == '\"gender\"':\n",
    "        continue\n",
    "    else:\n",
    "        gender = info[0][1:-1]\n",
    "        lunch = info[2][1:-1]\n",
    "        score = int(info[5][1:-1])\n",
    "        if score > 90:\n",
    "            if gender in students:\n",
    "                if lunch in students[gender]:\n",
    "                    students[gender][lunch] += 1\n",
    "                else:\n",
    "                    students[gender][lunch] = 1\n",
    "            else:\n",
    "                students[gender] = {}\n",
    "                students[gender][lunch] = 1  \n",
    "\n",
    "print (students['female'])"
   ]
  },
  {
   "cell_type": "code",
   "execution_count": 102,
   "metadata": {},
   "outputs": [
    {
     "name": "stdout",
     "output_type": "stream",
     "text": [
      "100\n",
      "63.02253521126761\n"
     ]
    }
   ],
   "source": [
    "import re\n",
    "pattern = re.compile('\\d+')\n",
    "\n",
    "exams = []\n",
    "total_score = int()\n",
    "total = int()\n",
    "average = float()\n",
    "max_score = int()\n",
    "\n",
    "f = open('StudentsPerformance.xls')\n",
    "\n",
    "for line in f:\n",
    "    info = line.split(',')\n",
    "    if info[0] == '\"gender\"':\n",
    "        continue\n",
    "    else:\n",
    "        new_line = []\n",
    "        for item in info:\n",
    "            if pattern.search(item) != None:\n",
    "                new_line.append(int(pattern.search(item)[0]))\n",
    "            else:\n",
    "                new_line.append(item[1:-1])\n",
    "        exams.append(new_line)\n",
    "\n",
    "line = []\n",
    "#print (exams)\n",
    "for line in exams:\n",
    "    if line[5] > max_score:\n",
    "        max_score = line[5]\n",
    "\n",
    "print(max_score)\n",
    "\n",
    "\n",
    "for line in exams:\n",
    "    if line[3] == 'free/reduced':\n",
    "        total_score += line[7]\n",
    "        total += 1\n",
    "#        if line[3] == 'standard':\n",
    " #           total_standard += 1\n",
    "\n",
    "average = total_score/ (total)\n",
    "\n",
    "#print (total)\n",
    "\n",
    "#line =[]\n",
    "#num = int()\n",
    "#for line in exams:\n",
    "#    if line[0] == 'female' and line[6] < average:\n",
    "#        num += 1\n",
    "\n",
    "print (average)\n",
    "#print (num)"
   ]
  },
  {
   "cell_type": "code",
   "execution_count": 1,
   "metadata": {},
   "outputs": [
    {
     "ename": "NameError",
     "evalue": "name 'result' is not defined",
     "output_type": "error",
     "traceback": [
      "\u001b[1;31m---------------------------------------------------------------------------\u001b[0m",
      "\u001b[1;31mNameError\u001b[0m                                 Traceback (most recent call last)",
      "\u001b[1;32m<ipython-input-1-d5411a02a357>\u001b[0m in \u001b[0;36m<module>\u001b[1;34m\u001b[0m\n\u001b[0;32m      2\u001b[0m     \u001b[0mresult\u001b[0m \u001b[1;33m=\u001b[0m \u001b[0mx\u001b[0m\u001b[1;33m**\u001b[0m\u001b[0my\u001b[0m\u001b[1;33m\u001b[0m\u001b[1;33m\u001b[0m\u001b[0m\n\u001b[0;32m      3\u001b[0m     \u001b[1;32mreturn\u001b[0m \u001b[0mresult\u001b[0m\u001b[1;33m\u001b[0m\u001b[1;33m\u001b[0m\u001b[0m\n\u001b[1;32m----> 4\u001b[1;33m \u001b[0mresult\u001b[0m\u001b[1;33m(\u001b[0m\u001b[1;36m2\u001b[0m\u001b[1;33m,\u001b[0m\u001b[1;36m3\u001b[0m\u001b[1;33m)\u001b[0m\u001b[1;33m\u001b[0m\u001b[1;33m\u001b[0m\u001b[0m\n\u001b[0m",
      "\u001b[1;31mNameError\u001b[0m: name 'result' is not defined"
     ]
    }
   ],
   "source": [
    "def power(x, y):\n",
    "    result = x**y\n",
    "    return result\n",
    "result(2,3)"
   ]
  },
  {
   "cell_type": "code",
   "execution_count": 26,
   "metadata": {},
   "outputs": [
    {
     "name": "stdout",
     "output_type": "stream",
     "text": [
      "[1, 2, 3, 4, 5, 34, 55]\n"
     ]
    },
    {
     "data": {
      "text/plain": [
       "4"
      ]
     },
     "execution_count": 26,
     "metadata": {},
     "output_type": "execute_result"
    }
   ],
   "source": [
    "def get_median (nums):\n",
    "    nums = sorted (nums)\n",
    "    rng = int(len(nums))\n",
    " #   print(rng)\n",
    "    print (nums)\n",
    "    if rng % 2 !=0:\n",
    "        result = nums[int(rng/2)]\n",
    "    else:\n",
    "        result = (nums[int(rng/2-1)]+nums[int(rng/2)])/2\n",
    "       # print (nums[int(rng/2)])\n",
    "      #  print (nums[int(rng/2-1)])\n",
    "    return result\n",
    "\n",
    "get_median([5, 2, 1, 3, 4, 55, 34])\n",
    "        "
   ]
  },
  {
   "cell_type": "code",
   "execution_count": 8,
   "metadata": {},
   "outputs": [
    {
     "name": "stdout",
     "output_type": "stream",
     "text": [
      "[1, 5, 6, 10]\n"
     ]
    }
   ],
   "source": [
    "nums = [1, 5, 10, 6]\n",
    "nums = sorted(nums)\n",
    "print(nums)"
   ]
  },
  {
   "cell_type": "code",
   "execution_count": 27,
   "metadata": {},
   "outputs": [
    {
     "name": "stdout",
     "output_type": "stream",
     "text": [
      "10\n"
     ]
    }
   ],
   "source": [
    "all_the = sum\n",
    "magic = range\n",
    "print(all_the(magic(5)))"
   ]
  },
  {
   "cell_type": "code",
   "execution_count": 28,
   "metadata": {},
   "outputs": [
    {
     "data": {
      "text/plain": [
       "1"
      ]
     },
     "execution_count": 28,
     "metadata": {},
     "output_type": "execute_result"
    }
   ],
   "source": [
    "abs (-1)"
   ]
  },
  {
   "cell_type": "code",
   "execution_count": 1,
   "metadata": {},
   "outputs": [
    {
     "data": {
      "text/plain": [
       "['Mr. Boris', 'Mr. Ivan', 'Mr. Bob']"
      ]
     },
     "execution_count": 1,
     "metadata": {},
     "output_type": "execute_result"
    }
   ],
   "source": [
    "guests = [\"Boris\", \"Ivan\", \"Bob\"]  \n",
    "list(map(lambda name: \"Mr. \" + name, guests))  "
   ]
  },
  {
   "cell_type": "code",
   "execution_count": 11,
   "metadata": {},
   "outputs": [
    {
     "name": "stdout",
     "output_type": "stream",
     "text": [
      "[-14, -10, -3, -2, 5, 24]\n"
     ]
    }
   ],
   "source": [
    "values = [4, 8, 15, 16, 23, 42]\n",
    "mean = 18\n",
    "mean_list=list()\n",
    "for i in range(len(values)):\n",
    "    mean_list.append(mean)\n",
    "\n",
    "result = map(lambda x, y: y-x, mean_list, values)\n",
    "print (list(result))"
   ]
  },
  {
   "cell_type": "code",
   "execution_count": 14,
   "metadata": {},
   "outputs": [
    {
     "name": "stdout",
     "output_type": "stream",
     "text": [
      "[-14, -10, -3, -2, 5, 24]\n"
     ]
    }
   ],
   "source": [
    "values = [4, 8, 15, 16, 23, 42]\n",
    "mean = 18\n",
    "\n",
    "result = map(lambda x: x-mean, values)\n",
    "print (list(result))"
   ]
  },
  {
   "cell_type": "code",
   "execution_count": 16,
   "metadata": {},
   "outputs": [
    {
     "name": "stdout",
     "output_type": "stream",
     "text": [
      "[4, 8, 15, 16]\n"
     ]
    }
   ],
   "source": [
    "values = [4, 8, 15, 16, 23, 42]\n",
    "mean = 18\n",
    "\n",
    "result = list(filter(lambda x: (x-mean) > 0, values))\n",
    "print (result)"
   ]
  },
  {
   "cell_type": "code",
   "execution_count": 18,
   "metadata": {},
   "outputs": [
    {
     "name": "stdout",
     "output_type": "stream",
     "text": [
      "0.5\n"
     ]
    }
   ],
   "source": [
    "values = [-7, -7, 7, 7]\n",
    "std = 42\n",
    "\n",
    "def count_std():\n",
    "    mean = sum(values)/len(values)\n",
    "    std = (sum([(value-mean)**2 for value in values])/len(values))**0.5\n",
    "    return std\n",
    "\n",
    "def normalize(value):\n",
    "    result = value/std\n",
    "    return result \n",
    "\n",
    "print(normalize(21))"
   ]
  },
  {
   "cell_type": "code",
   "execution_count": 22,
   "metadata": {},
   "outputs": [
    {
     "name": "stdout",
     "output_type": "stream",
     "text": [
      "10\n",
      "20\n"
     ]
    },
    {
     "data": {
      "text/plain": [
       "[10.0, 20.0]"
      ]
     },
     "execution_count": 22,
     "metadata": {},
     "output_type": "execute_result"
    }
   ],
   "source": [
    "def normalize (numbers, mean = 0, std = 1):\n",
    "    result = list()\n",
    "    for num in numbers:\n",
    "        print (num)\n",
    "        result.append((num - mean)/std)\n",
    "    return result \n",
    "\n",
    "normalize([10, 20])"
   ]
  },
  {
   "cell_type": "code",
   "execution_count": 23,
   "metadata": {},
   "outputs": [],
   "source": [
    "def sum_args(*ar):  \n",
    "    result = 0  \n",
    "    for num in ar:  \n",
    "        result += num  \n",
    "    return result "
   ]
  },
  {
   "cell_type": "code",
   "execution_count": 24,
   "metadata": {
    "scrolled": true
   },
   "outputs": [
    {
     "name": "stdout",
     "output_type": "stream",
     "text": [
      "verbose mode\n"
     ]
    }
   ],
   "source": [
    "def show_keys(**kwargs):\n",
    "    print(' '.join(kwargs.keys()))\n",
    "\n",
    "show_keys(verbose=True, mode='constant')"
   ]
  },
  {
   "cell_type": "code",
   "execution_count": 2,
   "metadata": {},
   "outputs": [
    {
     "data": {
      "text/plain": [
       "4.0"
      ]
     },
     "execution_count": 2,
     "metadata": {},
     "output_type": "execute_result"
    }
   ],
   "source": [
    "def count_letters(sentence, average = False):\n",
    "    snt_lst = sentence.split(' ')\n",
    "    count = 0\n",
    "    for word in snt_lst:\n",
    "        count += len(word)\n",
    "    if average == False:\n",
    "        result = count\n",
    "    else:\n",
    "        result = count / len(snt_lst)\n",
    "    return result\n",
    "\n",
    "count_letters(\"Beep boop\", average=True)"
   ]
  },
  {
   "cell_type": "code",
   "execution_count": 1,
   "metadata": {},
   "outputs": [
    {
     "data": {
      "text/plain": [
       "'a'"
      ]
     },
     "execution_count": 1,
     "metadata": {},
     "output_type": "execute_result"
    }
   ],
   "source": [
    "words = [\"sofa\", \"suitcase\", \"valise\", \"picture\", \"basket\", \"carton\", \"doggie\"]\n",
    "list(map(lambda w: sorted(w)[0], words))[5]"
   ]
  },
  {
   "cell_type": "code",
   "execution_count": 1,
   "metadata": {},
   "outputs": [
    {
     "data": {
      "text/html": [
       "<div>\n",
       "<style scoped>\n",
       "    .dataframe tbody tr th:only-of-type {\n",
       "        vertical-align: middle;\n",
       "    }\n",
       "\n",
       "    .dataframe tbody tr th {\n",
       "        vertical-align: top;\n",
       "    }\n",
       "\n",
       "    .dataframe thead th {\n",
       "        text-align: right;\n",
       "    }\n",
       "</style>\n",
       "<table border=\"1\" class=\"dataframe\">\n",
       "  <thead>\n",
       "    <tr style=\"text-align: right;\">\n",
       "      <th></th>\n",
       "      <th>col1</th>\n",
       "      <th>col2</th>\n",
       "    </tr>\n",
       "  </thead>\n",
       "  <tbody>\n",
       "    <tr>\n",
       "      <th>0</th>\n",
       "      <td>1</td>\n",
       "      <td>3</td>\n",
       "    </tr>\n",
       "    <tr>\n",
       "      <th>1</th>\n",
       "      <td>2</td>\n",
       "      <td>4</td>\n",
       "    </tr>\n",
       "  </tbody>\n",
       "</table>\n",
       "</div>"
      ],
      "text/plain": [
       "   col1  col2\n",
       "0     1     3\n",
       "1     2     4"
      ]
     },
     "metadata": {},
     "output_type": "display_data"
    }
   ],
   "source": [
    "import pandas as pd\n",
    "\n",
    "df = pd.DataFrame({'col1': [1, 2], 'col2': [3, 4]})\n",
    "display(df)"
   ]
  },
  {
   "cell_type": "code",
   "execution_count": 3,
   "metadata": {},
   "outputs": [
    {
     "data": {
      "text/html": [
       "<div>\n",
       "<style scoped>\n",
       "    .dataframe tbody tr th:only-of-type {\n",
       "        vertical-align: middle;\n",
       "    }\n",
       "\n",
       "    .dataframe tbody tr th {\n",
       "        vertical-align: top;\n",
       "    }\n",
       "\n",
       "    .dataframe thead th {\n",
       "        text-align: right;\n",
       "    }\n",
       "</style>\n",
       "<table border=\"1\" class=\"dataframe\">\n",
       "  <thead>\n",
       "    <tr style=\"text-align: right;\">\n",
       "      <th></th>\n",
       "      <th>Unnamed: 0</th>\n",
       "      <th>Name</th>\n",
       "      <th>Age</th>\n",
       "      <th>Nationality</th>\n",
       "      <th>Club</th>\n",
       "      <th>Value</th>\n",
       "      <th>Wage</th>\n",
       "      <th>Position</th>\n",
       "      <th>Crossing</th>\n",
       "      <th>Finishing</th>\n",
       "      <th>...</th>\n",
       "      <th>Penalties</th>\n",
       "      <th>Composure</th>\n",
       "      <th>Marking</th>\n",
       "      <th>StandingTackle</th>\n",
       "      <th>SlidingTackle</th>\n",
       "      <th>GKDiving</th>\n",
       "      <th>GKHandling</th>\n",
       "      <th>GKKicking</th>\n",
       "      <th>GKPositioning</th>\n",
       "      <th>GKReflexes</th>\n",
       "    </tr>\n",
       "  </thead>\n",
       "  <tbody>\n",
       "    <tr>\n",
       "      <th>12890</th>\n",
       "      <td>13119</td>\n",
       "      <td>J. Young</td>\n",
       "      <td>18</td>\n",
       "      <td>Scotland</td>\n",
       "      <td>Swindon Town</td>\n",
       "      <td>450000</td>\n",
       "      <td>1000</td>\n",
       "      <td>ST</td>\n",
       "      <td>28</td>\n",
       "      <td>47</td>\n",
       "      <td>...</td>\n",
       "      <td>58</td>\n",
       "      <td>50</td>\n",
       "      <td>15</td>\n",
       "      <td>17</td>\n",
       "      <td>14</td>\n",
       "      <td>11</td>\n",
       "      <td>15</td>\n",
       "      <td>12</td>\n",
       "      <td>12</td>\n",
       "      <td>11</td>\n",
       "    </tr>\n",
       "    <tr>\n",
       "      <th>12891</th>\n",
       "      <td>13120</td>\n",
       "      <td>D. Walsh</td>\n",
       "      <td>18</td>\n",
       "      <td>Republic of Ireland</td>\n",
       "      <td>Waterford FC</td>\n",
       "      <td>60000</td>\n",
       "      <td>1000</td>\n",
       "      <td>RB</td>\n",
       "      <td>22</td>\n",
       "      <td>23</td>\n",
       "      <td>...</td>\n",
       "      <td>38</td>\n",
       "      <td>43</td>\n",
       "      <td>44</td>\n",
       "      <td>47</td>\n",
       "      <td>53</td>\n",
       "      <td>9</td>\n",
       "      <td>10</td>\n",
       "      <td>9</td>\n",
       "      <td>11</td>\n",
       "      <td>13</td>\n",
       "    </tr>\n",
       "    <tr>\n",
       "      <th>12892</th>\n",
       "      <td>13121</td>\n",
       "      <td>J. Lundstram</td>\n",
       "      <td>19</td>\n",
       "      <td>England</td>\n",
       "      <td>Crewe Alexandra</td>\n",
       "      <td>1100000</td>\n",
       "      <td>1000</td>\n",
       "      <td>CM</td>\n",
       "      <td>34</td>\n",
       "      <td>38</td>\n",
       "      <td>...</td>\n",
       "      <td>43</td>\n",
       "      <td>45</td>\n",
       "      <td>40</td>\n",
       "      <td>48</td>\n",
       "      <td>47</td>\n",
       "      <td>10</td>\n",
       "      <td>13</td>\n",
       "      <td>7</td>\n",
       "      <td>8</td>\n",
       "      <td>9</td>\n",
       "    </tr>\n",
       "    <tr>\n",
       "      <th>12893</th>\n",
       "      <td>13122</td>\n",
       "      <td>N. Christoffersson</td>\n",
       "      <td>19</td>\n",
       "      <td>Sweden</td>\n",
       "      <td>Trelleborgs FF</td>\n",
       "      <td>60000</td>\n",
       "      <td>1000</td>\n",
       "      <td>ST</td>\n",
       "      <td>23</td>\n",
       "      <td>52</td>\n",
       "      <td>...</td>\n",
       "      <td>43</td>\n",
       "      <td>42</td>\n",
       "      <td>22</td>\n",
       "      <td>15</td>\n",
       "      <td>19</td>\n",
       "      <td>10</td>\n",
       "      <td>9</td>\n",
       "      <td>9</td>\n",
       "      <td>5</td>\n",
       "      <td>12</td>\n",
       "    </tr>\n",
       "    <tr>\n",
       "      <th>12894</th>\n",
       "      <td>13123</td>\n",
       "      <td>B. Worman</td>\n",
       "      <td>16</td>\n",
       "      <td>England</td>\n",
       "      <td>Cambridge United</td>\n",
       "      <td>60000</td>\n",
       "      <td>1000</td>\n",
       "      <td>ST</td>\n",
       "      <td>25</td>\n",
       "      <td>40</td>\n",
       "      <td>...</td>\n",
       "      <td>55</td>\n",
       "      <td>41</td>\n",
       "      <td>32</td>\n",
       "      <td>13</td>\n",
       "      <td>11</td>\n",
       "      <td>6</td>\n",
       "      <td>5</td>\n",
       "      <td>10</td>\n",
       "      <td>6</td>\n",
       "      <td>13</td>\n",
       "    </tr>\n",
       "    <tr>\n",
       "      <th>12895</th>\n",
       "      <td>13124</td>\n",
       "      <td>D. Walker-Rice</td>\n",
       "      <td>17</td>\n",
       "      <td>England</td>\n",
       "      <td>Tranmere Rovers</td>\n",
       "      <td>60000</td>\n",
       "      <td>1000</td>\n",
       "      <td>RW</td>\n",
       "      <td>44</td>\n",
       "      <td>50</td>\n",
       "      <td>...</td>\n",
       "      <td>50</td>\n",
       "      <td>46</td>\n",
       "      <td>20</td>\n",
       "      <td>25</td>\n",
       "      <td>27</td>\n",
       "      <td>14</td>\n",
       "      <td>6</td>\n",
       "      <td>14</td>\n",
       "      <td>8</td>\n",
       "      <td>9</td>\n",
       "    </tr>\n",
       "    <tr>\n",
       "      <th>12896</th>\n",
       "      <td>13125</td>\n",
       "      <td>G. Nugent</td>\n",
       "      <td>16</td>\n",
       "      <td>England</td>\n",
       "      <td>Tranmere Rovers</td>\n",
       "      <td>60000</td>\n",
       "      <td>1000</td>\n",
       "      <td>CM</td>\n",
       "      <td>41</td>\n",
       "      <td>34</td>\n",
       "      <td>...</td>\n",
       "      <td>33</td>\n",
       "      <td>43</td>\n",
       "      <td>40</td>\n",
       "      <td>43</td>\n",
       "      <td>50</td>\n",
       "      <td>10</td>\n",
       "      <td>15</td>\n",
       "      <td>9</td>\n",
       "      <td>12</td>\n",
       "      <td>9</td>\n",
       "    </tr>\n",
       "  </tbody>\n",
       "</table>\n",
       "<p>7 rows × 42 columns</p>\n",
       "</div>"
      ],
      "text/plain": [
       "       Unnamed: 0                Name  Age          Nationality  \\\n",
       "12890       13119            J. Young   18             Scotland   \n",
       "12891       13120            D. Walsh   18  Republic of Ireland   \n",
       "12892       13121        J. Lundstram   19              England   \n",
       "12893       13122  N. Christoffersson   19               Sweden   \n",
       "12894       13123           B. Worman   16              England   \n",
       "12895       13124      D. Walker-Rice   17              England   \n",
       "12896       13125           G. Nugent   16              England   \n",
       "\n",
       "                   Club    Value  Wage Position  Crossing  Finishing  ...  \\\n",
       "12890      Swindon Town   450000  1000       ST        28         47  ...   \n",
       "12891      Waterford FC    60000  1000       RB        22         23  ...   \n",
       "12892   Crewe Alexandra  1100000  1000       CM        34         38  ...   \n",
       "12893    Trelleborgs FF    60000  1000       ST        23         52  ...   \n",
       "12894  Cambridge United    60000  1000       ST        25         40  ...   \n",
       "12895   Tranmere Rovers    60000  1000       RW        44         50  ...   \n",
       "12896   Tranmere Rovers    60000  1000       CM        41         34  ...   \n",
       "\n",
       "       Penalties  Composure  Marking  StandingTackle  SlidingTackle  GKDiving  \\\n",
       "12890         58         50       15              17             14        11   \n",
       "12891         38         43       44              47             53         9   \n",
       "12892         43         45       40              48             47        10   \n",
       "12893         43         42       22              15             19        10   \n",
       "12894         55         41       32              13             11         6   \n",
       "12895         50         46       20              25             27        14   \n",
       "12896         33         43       40              43             50        10   \n",
       "\n",
       "       GKHandling  GKKicking  GKPositioning  GKReflexes  \n",
       "12890          15         12             12          11  \n",
       "12891          10          9             11          13  \n",
       "12892          13          7              8           9  \n",
       "12893           9          9              5          12  \n",
       "12894           5         10              6          13  \n",
       "12895           6         14              8           9  \n",
       "12896          15          9             12           9  \n",
       "\n",
       "[7 rows x 42 columns]"
      ]
     },
     "metadata": {},
     "output_type": "display_data"
    }
   ],
   "source": [
    "import pandas as pd\n",
    "\n",
    "football = pd.read_csv('data_sf.csv')\n",
    "display(football.tail(7))"
   ]
  },
  {
   "cell_type": "code",
   "execution_count": 5,
   "metadata": {},
   "outputs": [
    {
     "name": "stdout",
     "output_type": "stream",
     "text": [
      "<class 'pandas.core.frame.DataFrame'>\n",
      "RangeIndex: 12897 entries, 0 to 12896\n",
      "Data columns (total 42 columns):\n",
      " #   Column           Non-Null Count  Dtype \n",
      "---  ------           --------------  ----- \n",
      " 0   Unnamed: 0       12897 non-null  int64 \n",
      " 1   Name             12897 non-null  object\n",
      " 2   Age              12897 non-null  int64 \n",
      " 3   Nationality      12897 non-null  object\n",
      " 4   Club             12897 non-null  object\n",
      " 5   Value            12897 non-null  int64 \n",
      " 6   Wage             12897 non-null  int64 \n",
      " 7   Position         12897 non-null  object\n",
      " 8   Crossing         12897 non-null  int64 \n",
      " 9   Finishing        12897 non-null  int64 \n",
      " 10  HeadingAccuracy  12897 non-null  int64 \n",
      " 11  ShortPassing     12897 non-null  int64 \n",
      " 12  Volleys          12897 non-null  int64 \n",
      " 13  Dribbling        12897 non-null  int64 \n",
      " 14  Curve            12897 non-null  int64 \n",
      " 15  FKAccuracy       12897 non-null  int64 \n",
      " 16  LongPassing      12897 non-null  int64 \n",
      " 17  BallControl      12897 non-null  int64 \n",
      " 18  Acceleration     12897 non-null  int64 \n",
      " 19  SprintSpeed      12897 non-null  int64 \n",
      " 20  Agility          12897 non-null  int64 \n",
      " 21  Reactions        12897 non-null  int64 \n",
      " 22  Balance          12897 non-null  int64 \n",
      " 23  ShotPower        12897 non-null  int64 \n",
      " 24  Jumping          12897 non-null  int64 \n",
      " 25  Stamina          12897 non-null  int64 \n",
      " 26  Strength         12897 non-null  int64 \n",
      " 27  LongShots        12897 non-null  int64 \n",
      " 28  Aggression       12897 non-null  int64 \n",
      " 29  Interceptions    12897 non-null  int64 \n",
      " 30  Positioning      12897 non-null  int64 \n",
      " 31  Vision           12897 non-null  int64 \n",
      " 32  Penalties        12897 non-null  int64 \n",
      " 33  Composure        12897 non-null  int64 \n",
      " 34  Marking          12897 non-null  int64 \n",
      " 35  StandingTackle   12897 non-null  int64 \n",
      " 36  SlidingTackle    12897 non-null  int64 \n",
      " 37  GKDiving         12897 non-null  int64 \n",
      " 38  GKHandling       12897 non-null  int64 \n",
      " 39  GKKicking        12897 non-null  int64 \n",
      " 40  GKPositioning    12897 non-null  int64 \n",
      " 41  GKReflexes       12897 non-null  int64 \n",
      "dtypes: int64(38), object(4)\n",
      "memory usage: 4.1+ MB\n"
     ]
    },
    {
     "data": {
      "text/plain": [
       "None"
      ]
     },
     "metadata": {},
     "output_type": "display_data"
    }
   ],
   "source": [
    "import pandas as pd\n",
    "\n",
    "football = pd.read_csv('data_sf.csv')\n",
    "display(football.info())"
   ]
  },
  {
   "cell_type": "code",
   "execution_count": 6,
   "metadata": {},
   "outputs": [
    {
     "data": {
      "text/html": [
       "<div>\n",
       "<style scoped>\n",
       "    .dataframe tbody tr th:only-of-type {\n",
       "        vertical-align: middle;\n",
       "    }\n",
       "\n",
       "    .dataframe tbody tr th {\n",
       "        vertical-align: top;\n",
       "    }\n",
       "\n",
       "    .dataframe thead th {\n",
       "        text-align: right;\n",
       "    }\n",
       "</style>\n",
       "<table border=\"1\" class=\"dataframe\">\n",
       "  <thead>\n",
       "    <tr style=\"text-align: right;\">\n",
       "      <th></th>\n",
       "      <th>Unnamed: 0</th>\n",
       "      <th>Age</th>\n",
       "      <th>Value</th>\n",
       "      <th>Wage</th>\n",
       "      <th>Crossing</th>\n",
       "      <th>Finishing</th>\n",
       "      <th>HeadingAccuracy</th>\n",
       "      <th>ShortPassing</th>\n",
       "      <th>Volleys</th>\n",
       "      <th>Dribbling</th>\n",
       "      <th>...</th>\n",
       "      <th>Penalties</th>\n",
       "      <th>Composure</th>\n",
       "      <th>Marking</th>\n",
       "      <th>StandingTackle</th>\n",
       "      <th>SlidingTackle</th>\n",
       "      <th>GKDiving</th>\n",
       "      <th>GKHandling</th>\n",
       "      <th>GKKicking</th>\n",
       "      <th>GKPositioning</th>\n",
       "      <th>GKReflexes</th>\n",
       "    </tr>\n",
       "  </thead>\n",
       "  <tbody>\n",
       "    <tr>\n",
       "      <th>count</th>\n",
       "      <td>12897.000000</td>\n",
       "      <td>12897.000000</td>\n",
       "      <td>1.289700e+04</td>\n",
       "      <td>12897.000000</td>\n",
       "      <td>12897.000000</td>\n",
       "      <td>12897.000000</td>\n",
       "      <td>12897.000000</td>\n",
       "      <td>12897.000000</td>\n",
       "      <td>12897.000000</td>\n",
       "      <td>12897.000000</td>\n",
       "      <td>...</td>\n",
       "      <td>12897.000000</td>\n",
       "      <td>12897.000000</td>\n",
       "      <td>12897.000000</td>\n",
       "      <td>12897.000000</td>\n",
       "      <td>12897.000000</td>\n",
       "      <td>12897.000000</td>\n",
       "      <td>12897.000000</td>\n",
       "      <td>12897.000000</td>\n",
       "      <td>12897.000000</td>\n",
       "      <td>12897.000000</td>\n",
       "    </tr>\n",
       "    <tr>\n",
       "      <th>mean</th>\n",
       "      <td>6605.040862</td>\n",
       "      <td>24.795379</td>\n",
       "      <td>2.112449e+06</td>\n",
       "      <td>7517.562224</td>\n",
       "      <td>47.076374</td>\n",
       "      <td>42.876328</td>\n",
       "      <td>50.202528</td>\n",
       "      <td>56.026983</td>\n",
       "      <td>40.295030</td>\n",
       "      <td>52.461735</td>\n",
       "      <td>...</td>\n",
       "      <td>46.459874</td>\n",
       "      <td>55.942932</td>\n",
       "      <td>45.655811</td>\n",
       "      <td>46.186710</td>\n",
       "      <td>44.386679</td>\n",
       "      <td>17.218345</td>\n",
       "      <td>16.962317</td>\n",
       "      <td>16.797938</td>\n",
       "      <td>16.950221</td>\n",
       "      <td>17.315965</td>\n",
       "    </tr>\n",
       "    <tr>\n",
       "      <th>std</th>\n",
       "      <td>3782.545526</td>\n",
       "      <td>4.872212</td>\n",
       "      <td>6.498424e+06</td>\n",
       "      <td>23061.985387</td>\n",
       "      <td>18.043470</td>\n",
       "      <td>19.096935</td>\n",
       "      <td>17.281593</td>\n",
       "      <td>14.740436</td>\n",
       "      <td>17.080687</td>\n",
       "      <td>18.871643</td>\n",
       "      <td>...</td>\n",
       "      <td>15.479313</td>\n",
       "      <td>11.280631</td>\n",
       "      <td>19.456346</td>\n",
       "      <td>21.172586</td>\n",
       "      <td>20.726546</td>\n",
       "      <td>18.085618</td>\n",
       "      <td>17.349624</td>\n",
       "      <td>16.971411</td>\n",
       "      <td>17.369297</td>\n",
       "      <td>18.335817</td>\n",
       "    </tr>\n",
       "    <tr>\n",
       "      <th>min</th>\n",
       "      <td>0.000000</td>\n",
       "      <td>16.000000</td>\n",
       "      <td>0.000000e+00</td>\n",
       "      <td>1000.000000</td>\n",
       "      <td>5.000000</td>\n",
       "      <td>2.000000</td>\n",
       "      <td>4.000000</td>\n",
       "      <td>7.000000</td>\n",
       "      <td>4.000000</td>\n",
       "      <td>4.000000</td>\n",
       "      <td>...</td>\n",
       "      <td>5.000000</td>\n",
       "      <td>12.000000</td>\n",
       "      <td>3.000000</td>\n",
       "      <td>2.000000</td>\n",
       "      <td>3.000000</td>\n",
       "      <td>1.000000</td>\n",
       "      <td>1.000000</td>\n",
       "      <td>1.000000</td>\n",
       "      <td>1.000000</td>\n",
       "      <td>1.000000</td>\n",
       "    </tr>\n",
       "    <tr>\n",
       "      <th>25%</th>\n",
       "      <td>3357.000000</td>\n",
       "      <td>21.000000</td>\n",
       "      <td>2.500000e+05</td>\n",
       "      <td>1000.000000</td>\n",
       "      <td>35.000000</td>\n",
       "      <td>28.000000</td>\n",
       "      <td>43.000000</td>\n",
       "      <td>50.000000</td>\n",
       "      <td>28.000000</td>\n",
       "      <td>45.000000</td>\n",
       "      <td>...</td>\n",
       "      <td>37.000000</td>\n",
       "      <td>49.000000</td>\n",
       "      <td>29.000000</td>\n",
       "      <td>25.000000</td>\n",
       "      <td>23.000000</td>\n",
       "      <td>8.000000</td>\n",
       "      <td>8.000000</td>\n",
       "      <td>8.000000</td>\n",
       "      <td>8.000000</td>\n",
       "      <td>8.000000</td>\n",
       "    </tr>\n",
       "    <tr>\n",
       "      <th>50%</th>\n",
       "      <td>6622.000000</td>\n",
       "      <td>24.000000</td>\n",
       "      <td>5.000000e+05</td>\n",
       "      <td>2000.000000</td>\n",
       "      <td>51.000000</td>\n",
       "      <td>45.000000</td>\n",
       "      <td>54.000000</td>\n",
       "      <td>60.000000</td>\n",
       "      <td>41.000000</td>\n",
       "      <td>58.000000</td>\n",
       "      <td>...</td>\n",
       "      <td>47.000000</td>\n",
       "      <td>56.000000</td>\n",
       "      <td>51.000000</td>\n",
       "      <td>54.000000</td>\n",
       "      <td>51.000000</td>\n",
       "      <td>11.000000</td>\n",
       "      <td>11.000000</td>\n",
       "      <td>11.000000</td>\n",
       "      <td>11.000000</td>\n",
       "      <td>11.000000</td>\n",
       "    </tr>\n",
       "    <tr>\n",
       "      <th>75%</th>\n",
       "      <td>9876.000000</td>\n",
       "      <td>28.000000</td>\n",
       "      <td>8.500000e+05</td>\n",
       "      <td>4000.000000</td>\n",
       "      <td>61.000000</td>\n",
       "      <td>59.000000</td>\n",
       "      <td>62.000000</td>\n",
       "      <td>65.000000</td>\n",
       "      <td>53.000000</td>\n",
       "      <td>65.000000</td>\n",
       "      <td>...</td>\n",
       "      <td>58.000000</td>\n",
       "      <td>63.000000</td>\n",
       "      <td>62.000000</td>\n",
       "      <td>64.000000</td>\n",
       "      <td>62.000000</td>\n",
       "      <td>14.000000</td>\n",
       "      <td>14.000000</td>\n",
       "      <td>14.000000</td>\n",
       "      <td>14.000000</td>\n",
       "      <td>14.000000</td>\n",
       "    </tr>\n",
       "    <tr>\n",
       "      <th>max</th>\n",
       "      <td>13125.000000</td>\n",
       "      <td>45.000000</td>\n",
       "      <td>1.185000e+08</td>\n",
       "      <td>565000.000000</td>\n",
       "      <td>93.000000</td>\n",
       "      <td>95.000000</td>\n",
       "      <td>94.000000</td>\n",
       "      <td>93.000000</td>\n",
       "      <td>90.000000</td>\n",
       "      <td>97.000000</td>\n",
       "      <td>...</td>\n",
       "      <td>91.000000</td>\n",
       "      <td>96.000000</td>\n",
       "      <td>93.000000</td>\n",
       "      <td>93.000000</td>\n",
       "      <td>91.000000</td>\n",
       "      <td>90.000000</td>\n",
       "      <td>92.000000</td>\n",
       "      <td>91.000000</td>\n",
       "      <td>90.000000</td>\n",
       "      <td>94.000000</td>\n",
       "    </tr>\n",
       "  </tbody>\n",
       "</table>\n",
       "<p>8 rows × 38 columns</p>\n",
       "</div>"
      ],
      "text/plain": [
       "         Unnamed: 0           Age         Value           Wage      Crossing  \\\n",
       "count  12897.000000  12897.000000  1.289700e+04   12897.000000  12897.000000   \n",
       "mean    6605.040862     24.795379  2.112449e+06    7517.562224     47.076374   \n",
       "std     3782.545526      4.872212  6.498424e+06   23061.985387     18.043470   \n",
       "min        0.000000     16.000000  0.000000e+00    1000.000000      5.000000   \n",
       "25%     3357.000000     21.000000  2.500000e+05    1000.000000     35.000000   \n",
       "50%     6622.000000     24.000000  5.000000e+05    2000.000000     51.000000   \n",
       "75%     9876.000000     28.000000  8.500000e+05    4000.000000     61.000000   \n",
       "max    13125.000000     45.000000  1.185000e+08  565000.000000     93.000000   \n",
       "\n",
       "          Finishing  HeadingAccuracy  ShortPassing       Volleys  \\\n",
       "count  12897.000000     12897.000000  12897.000000  12897.000000   \n",
       "mean      42.876328        50.202528     56.026983     40.295030   \n",
       "std       19.096935        17.281593     14.740436     17.080687   \n",
       "min        2.000000         4.000000      7.000000      4.000000   \n",
       "25%       28.000000        43.000000     50.000000     28.000000   \n",
       "50%       45.000000        54.000000     60.000000     41.000000   \n",
       "75%       59.000000        62.000000     65.000000     53.000000   \n",
       "max       95.000000        94.000000     93.000000     90.000000   \n",
       "\n",
       "          Dribbling  ...     Penalties     Composure       Marking  \\\n",
       "count  12897.000000  ...  12897.000000  12897.000000  12897.000000   \n",
       "mean      52.461735  ...     46.459874     55.942932     45.655811   \n",
       "std       18.871643  ...     15.479313     11.280631     19.456346   \n",
       "min        4.000000  ...      5.000000     12.000000      3.000000   \n",
       "25%       45.000000  ...     37.000000     49.000000     29.000000   \n",
       "50%       58.000000  ...     47.000000     56.000000     51.000000   \n",
       "75%       65.000000  ...     58.000000     63.000000     62.000000   \n",
       "max       97.000000  ...     91.000000     96.000000     93.000000   \n",
       "\n",
       "       StandingTackle  SlidingTackle      GKDiving    GKHandling  \\\n",
       "count    12897.000000   12897.000000  12897.000000  12897.000000   \n",
       "mean        46.186710      44.386679     17.218345     16.962317   \n",
       "std         21.172586      20.726546     18.085618     17.349624   \n",
       "min          2.000000       3.000000      1.000000      1.000000   \n",
       "25%         25.000000      23.000000      8.000000      8.000000   \n",
       "50%         54.000000      51.000000     11.000000     11.000000   \n",
       "75%         64.000000      62.000000     14.000000     14.000000   \n",
       "max         93.000000      91.000000     90.000000     92.000000   \n",
       "\n",
       "          GKKicking  GKPositioning    GKReflexes  \n",
       "count  12897.000000   12897.000000  12897.000000  \n",
       "mean      16.797938      16.950221     17.315965  \n",
       "std       16.971411      17.369297     18.335817  \n",
       "min        1.000000       1.000000      1.000000  \n",
       "25%        8.000000       8.000000      8.000000  \n",
       "50%       11.000000      11.000000     11.000000  \n",
       "75%       14.000000      14.000000     14.000000  \n",
       "max       91.000000      90.000000     94.000000  \n",
       "\n",
       "[8 rows x 38 columns]"
      ]
     },
     "metadata": {},
     "output_type": "display_data"
    }
   ],
   "source": [
    "import pandas as pd\n",
    "\n",
    "football = pd.read_csv('data_sf.csv')\n",
    "display(football.describe())"
   ]
  },
  {
   "cell_type": "code",
   "execution_count": 3,
   "metadata": {},
   "outputs": [
    {
     "data": {
      "text/html": [
       "<div>\n",
       "<style scoped>\n",
       "    .dataframe tbody tr th:only-of-type {\n",
       "        vertical-align: middle;\n",
       "    }\n",
       "\n",
       "    .dataframe tbody tr th {\n",
       "        vertical-align: top;\n",
       "    }\n",
       "\n",
       "    .dataframe thead th {\n",
       "        text-align: right;\n",
       "    }\n",
       "</style>\n",
       "<table border=\"1\" class=\"dataframe\">\n",
       "  <thead>\n",
       "    <tr style=\"text-align: right;\">\n",
       "      <th></th>\n",
       "      <th>Name</th>\n",
       "      <th>Nationality</th>\n",
       "      <th>Club</th>\n",
       "      <th>Position</th>\n",
       "    </tr>\n",
       "  </thead>\n",
       "  <tbody>\n",
       "    <tr>\n",
       "      <th>count</th>\n",
       "      <td>12897</td>\n",
       "      <td>12897</td>\n",
       "      <td>12897</td>\n",
       "      <td>12897</td>\n",
       "    </tr>\n",
       "    <tr>\n",
       "      <th>unique</th>\n",
       "      <td>12326</td>\n",
       "      <td>156</td>\n",
       "      <td>650</td>\n",
       "      <td>27</td>\n",
       "    </tr>\n",
       "    <tr>\n",
       "      <th>top</th>\n",
       "      <td>J. Rodríguez</td>\n",
       "      <td>England</td>\n",
       "      <td>Shonan Bellmare</td>\n",
       "      <td>GK</td>\n",
       "    </tr>\n",
       "    <tr>\n",
       "      <th>freq</th>\n",
       "      <td>9</td>\n",
       "      <td>1368</td>\n",
       "      <td>30</td>\n",
       "      <td>1641</td>\n",
       "    </tr>\n",
       "  </tbody>\n",
       "</table>\n",
       "</div>"
      ],
      "text/plain": [
       "                Name Nationality             Club Position\n",
       "count          12897       12897            12897    12897\n",
       "unique         12326         156              650       27\n",
       "top     J. Rodríguez     England  Shonan Bellmare       GK\n",
       "freq               9        1368               30     1641"
      ]
     },
     "metadata": {},
     "output_type": "display_data"
    }
   ],
   "source": [
    "import pandas as pd\n",
    "football = pd.read_csv('data_sf.csv')\n",
    "\n",
    "\n",
    "with pd.option_context('display.max_rows', None, 'display.max_columns', None):\n",
    "    display(football.describe(include = ['object']))"
   ]
  },
  {
   "cell_type": "code",
   "execution_count": 5,
   "metadata": {},
   "outputs": [
    {
     "data": {
      "text/html": [
       "<div>\n",
       "<style scoped>\n",
       "    .dataframe tbody tr th:only-of-type {\n",
       "        vertical-align: middle;\n",
       "    }\n",
       "\n",
       "    .dataframe tbody tr th {\n",
       "        vertical-align: top;\n",
       "    }\n",
       "\n",
       "    .dataframe thead th {\n",
       "        text-align: right;\n",
       "    }\n",
       "</style>\n",
       "<table border=\"1\" class=\"dataframe\">\n",
       "  <thead>\n",
       "    <tr style=\"text-align: right;\">\n",
       "      <th></th>\n",
       "      <th>foo</th>\n",
       "      <th>bar</th>\n",
       "      <th>baz</th>\n",
       "      <th>foobar</th>\n",
       "    </tr>\n",
       "  </thead>\n",
       "  <tbody>\n",
       "    <tr>\n",
       "      <th>0</th>\n",
       "      <td>0</td>\n",
       "      <td>1.2</td>\n",
       "      <td>2</td>\n",
       "      <td>hi</td>\n",
       "    </tr>\n",
       "    <tr>\n",
       "      <th>1</th>\n",
       "      <td>1</td>\n",
       "      <td>2.2</td>\n",
       "      <td>3</td>\n",
       "      <td>hi</td>\n",
       "    </tr>\n",
       "    <tr>\n",
       "      <th>2</th>\n",
       "      <td>2</td>\n",
       "      <td>3.2</td>\n",
       "      <td>4</td>\n",
       "      <td>hi</td>\n",
       "    </tr>\n",
       "    <tr>\n",
       "      <th>3</th>\n",
       "      <td>3</td>\n",
       "      <td>4.2</td>\n",
       "      <td>5</td>\n",
       "      <td>hi</td>\n",
       "    </tr>\n",
       "    <tr>\n",
       "      <th>4</th>\n",
       "      <td>4</td>\n",
       "      <td>5.2</td>\n",
       "      <td>6</td>\n",
       "      <td>hi</td>\n",
       "    </tr>\n",
       "    <tr>\n",
       "      <th>5</th>\n",
       "      <td>5</td>\n",
       "      <td>6.2</td>\n",
       "      <td>7</td>\n",
       "      <td>hi</td>\n",
       "    </tr>\n",
       "    <tr>\n",
       "      <th>6</th>\n",
       "      <td>6</td>\n",
       "      <td>7.2</td>\n",
       "      <td>8</td>\n",
       "      <td>hi</td>\n",
       "    </tr>\n",
       "    <tr>\n",
       "      <th>7</th>\n",
       "      <td>7</td>\n",
       "      <td>8.2</td>\n",
       "      <td>9</td>\n",
       "      <td>hi</td>\n",
       "    </tr>\n",
       "    <tr>\n",
       "      <th>8</th>\n",
       "      <td>8</td>\n",
       "      <td>9.2</td>\n",
       "      <td>10</td>\n",
       "      <td>hi</td>\n",
       "    </tr>\n",
       "    <tr>\n",
       "      <th>9</th>\n",
       "      <td>9</td>\n",
       "      <td>10.2</td>\n",
       "      <td>11</td>\n",
       "      <td>hi</td>\n",
       "    </tr>\n",
       "  </tbody>\n",
       "</table>\n",
       "</div>"
      ],
      "text/plain": [
       "   foo   bar  baz foobar\n",
       "0    0   1.2    2     hi\n",
       "1    1   2.2    3     hi\n",
       "2    2   3.2    4     hi\n",
       "3    3   4.2    5     hi\n",
       "4    4   5.2    6     hi\n",
       "5    5   6.2    7     hi\n",
       "6    6   7.2    8     hi\n",
       "7    7   8.2    9     hi\n",
       "8    8   9.2   10     hi\n",
       "9    9  10.2   11     hi"
      ]
     },
     "metadata": {},
     "output_type": "display_data"
    }
   ],
   "source": [
    "df = pd.DataFrame([[i,i+1.2,i+2, 'hi'] for i in range(10)],\n",
    "                  columns = ['foo', 'bar', 'baz', 'foobar'])\n",
    "display(df)"
   ]
  },
  {
   "cell_type": "code",
   "execution_count": 19,
   "metadata": {},
   "outputs": [
    {
     "data": {
      "text/html": [
       "<div>\n",
       "<style scoped>\n",
       "    .dataframe tbody tr th:only-of-type {\n",
       "        vertical-align: middle;\n",
       "    }\n",
       "\n",
       "    .dataframe tbody tr th {\n",
       "        vertical-align: top;\n",
       "    }\n",
       "\n",
       "    .dataframe thead th {\n",
       "        text-align: right;\n",
       "    }\n",
       "</style>\n",
       "<table border=\"1\" class=\"dataframe\">\n",
       "  <thead>\n",
       "    <tr style=\"text-align: right;\">\n",
       "      <th></th>\n",
       "      <th>Unnamed: 0</th>\n",
       "      <th>Name</th>\n",
       "      <th>Age</th>\n",
       "      <th>Nationality</th>\n",
       "      <th>Club</th>\n",
       "      <th>Value</th>\n",
       "      <th>Wage</th>\n",
       "      <th>Position</th>\n",
       "      <th>Crossing</th>\n",
       "      <th>Finishing</th>\n",
       "      <th>HeadingAccuracy</th>\n",
       "      <th>ShortPassing</th>\n",
       "      <th>Volleys</th>\n",
       "      <th>Dribbling</th>\n",
       "      <th>Curve</th>\n",
       "      <th>FKAccuracy</th>\n",
       "      <th>LongPassing</th>\n",
       "      <th>BallControl</th>\n",
       "      <th>Acceleration</th>\n",
       "      <th>SprintSpeed</th>\n",
       "      <th>Agility</th>\n",
       "      <th>Reactions</th>\n",
       "      <th>Balance</th>\n",
       "      <th>ShotPower</th>\n",
       "      <th>Jumping</th>\n",
       "      <th>Stamina</th>\n",
       "      <th>Strength</th>\n",
       "      <th>LongShots</th>\n",
       "      <th>Aggression</th>\n",
       "      <th>Interceptions</th>\n",
       "      <th>Positioning</th>\n",
       "      <th>Vision</th>\n",
       "      <th>Penalties</th>\n",
       "      <th>Composure</th>\n",
       "      <th>Marking</th>\n",
       "      <th>StandingTackle</th>\n",
       "      <th>SlidingTackle</th>\n",
       "      <th>GKDiving</th>\n",
       "      <th>GKHandling</th>\n",
       "      <th>GKKicking</th>\n",
       "      <th>GKPositioning</th>\n",
       "      <th>GKReflexes</th>\n",
       "    </tr>\n",
       "  </thead>\n",
       "  <tbody>\n",
       "    <tr>\n",
       "      <th>42</th>\n",
       "      <td>42</td>\n",
       "      <td>S. Umtiti</td>\n",
       "      <td>24</td>\n",
       "      <td>France</td>\n",
       "      <td>FC Barcelona</td>\n",
       "      <td>57000000</td>\n",
       "      <td>205000</td>\n",
       "      <td>CB</td>\n",
       "      <td>69</td>\n",
       "      <td>51</td>\n",
       "      <td>79</td>\n",
       "      <td>81</td>\n",
       "      <td>70</td>\n",
       "      <td>69</td>\n",
       "      <td>72</td>\n",
       "      <td>62</td>\n",
       "      <td>73</td>\n",
       "      <td>77</td>\n",
       "      <td>71</td>\n",
       "      <td>73</td>\n",
       "      <td>68</td>\n",
       "      <td>82</td>\n",
       "      <td>66</td>\n",
       "      <td>83</td>\n",
       "      <td>89</td>\n",
       "      <td>78</td>\n",
       "      <td>84</td>\n",
       "      <td>74</td>\n",
       "      <td>81</td>\n",
       "      <td>87</td>\n",
       "      <td>58</td>\n",
       "      <td>58</td>\n",
       "      <td>61</td>\n",
       "      <td>82</td>\n",
       "      <td>90</td>\n",
       "      <td>89</td>\n",
       "      <td>86</td>\n",
       "      <td>15</td>\n",
       "      <td>10</td>\n",
       "      <td>14</td>\n",
       "      <td>12</td>\n",
       "      <td>15</td>\n",
       "    </tr>\n",
       "    <tr>\n",
       "      <th>141</th>\n",
       "      <td>141</td>\n",
       "      <td>O. Dembélé</td>\n",
       "      <td>21</td>\n",
       "      <td>France</td>\n",
       "      <td>FC Barcelona</td>\n",
       "      <td>40000000</td>\n",
       "      <td>155000</td>\n",
       "      <td>RW</td>\n",
       "      <td>78</td>\n",
       "      <td>78</td>\n",
       "      <td>43</td>\n",
       "      <td>78</td>\n",
       "      <td>76</td>\n",
       "      <td>90</td>\n",
       "      <td>78</td>\n",
       "      <td>64</td>\n",
       "      <td>70</td>\n",
       "      <td>83</td>\n",
       "      <td>93</td>\n",
       "      <td>92</td>\n",
       "      <td>90</td>\n",
       "      <td>82</td>\n",
       "      <td>85</td>\n",
       "      <td>83</td>\n",
       "      <td>59</td>\n",
       "      <td>73</td>\n",
       "      <td>46</td>\n",
       "      <td>70</td>\n",
       "      <td>54</td>\n",
       "      <td>36</td>\n",
       "      <td>79</td>\n",
       "      <td>84</td>\n",
       "      <td>75</td>\n",
       "      <td>75</td>\n",
       "      <td>42</td>\n",
       "      <td>30</td>\n",
       "      <td>33</td>\n",
       "      <td>6</td>\n",
       "      <td>6</td>\n",
       "      <td>14</td>\n",
       "      <td>10</td>\n",
       "      <td>13</td>\n",
       "    </tr>\n",
       "    <tr>\n",
       "      <th>190</th>\n",
       "      <td>190</td>\n",
       "      <td>Arthur</td>\n",
       "      <td>21</td>\n",
       "      <td>Brazil</td>\n",
       "      <td>FC Barcelona</td>\n",
       "      <td>32500000</td>\n",
       "      <td>125000</td>\n",
       "      <td>LCM</td>\n",
       "      <td>70</td>\n",
       "      <td>72</td>\n",
       "      <td>58</td>\n",
       "      <td>85</td>\n",
       "      <td>63</td>\n",
       "      <td>82</td>\n",
       "      <td>68</td>\n",
       "      <td>60</td>\n",
       "      <td>80</td>\n",
       "      <td>83</td>\n",
       "      <td>68</td>\n",
       "      <td>70</td>\n",
       "      <td>79</td>\n",
       "      <td>81</td>\n",
       "      <td>86</td>\n",
       "      <td>76</td>\n",
       "      <td>83</td>\n",
       "      <td>78</td>\n",
       "      <td>62</td>\n",
       "      <td>74</td>\n",
       "      <td>73</td>\n",
       "      <td>75</td>\n",
       "      <td>77</td>\n",
       "      <td>82</td>\n",
       "      <td>69</td>\n",
       "      <td>84</td>\n",
       "      <td>65</td>\n",
       "      <td>76</td>\n",
       "      <td>70</td>\n",
       "      <td>6</td>\n",
       "      <td>13</td>\n",
       "      <td>13</td>\n",
       "      <td>11</td>\n",
       "      <td>12</td>\n",
       "    </tr>\n",
       "    <tr>\n",
       "      <th>195</th>\n",
       "      <td>195</td>\n",
       "      <td>C. Lenglet</td>\n",
       "      <td>23</td>\n",
       "      <td>France</td>\n",
       "      <td>FC Barcelona</td>\n",
       "      <td>26000000</td>\n",
       "      <td>135000</td>\n",
       "      <td>LCB</td>\n",
       "      <td>36</td>\n",
       "      <td>23</td>\n",
       "      <td>78</td>\n",
       "      <td>78</td>\n",
       "      <td>24</td>\n",
       "      <td>60</td>\n",
       "      <td>25</td>\n",
       "      <td>27</td>\n",
       "      <td>69</td>\n",
       "      <td>76</td>\n",
       "      <td>72</td>\n",
       "      <td>73</td>\n",
       "      <td>62</td>\n",
       "      <td>79</td>\n",
       "      <td>60</td>\n",
       "      <td>58</td>\n",
       "      <td>79</td>\n",
       "      <td>73</td>\n",
       "      <td>80</td>\n",
       "      <td>35</td>\n",
       "      <td>80</td>\n",
       "      <td>82</td>\n",
       "      <td>47</td>\n",
       "      <td>60</td>\n",
       "      <td>43</td>\n",
       "      <td>74</td>\n",
       "      <td>85</td>\n",
       "      <td>82</td>\n",
       "      <td>81</td>\n",
       "      <td>10</td>\n",
       "      <td>10</td>\n",
       "      <td>9</td>\n",
       "      <td>12</td>\n",
       "      <td>7</td>\n",
       "    </tr>\n",
       "    <tr>\n",
       "      <th>235</th>\n",
       "      <td>235</td>\n",
       "      <td>Nélson Semedo</td>\n",
       "      <td>24</td>\n",
       "      <td>Portugal</td>\n",
       "      <td>FC Barcelona</td>\n",
       "      <td>20000000</td>\n",
       "      <td>125000</td>\n",
       "      <td>RB</td>\n",
       "      <td>74</td>\n",
       "      <td>50</td>\n",
       "      <td>58</td>\n",
       "      <td>73</td>\n",
       "      <td>42</td>\n",
       "      <td>80</td>\n",
       "      <td>61</td>\n",
       "      <td>30</td>\n",
       "      <td>65</td>\n",
       "      <td>78</td>\n",
       "      <td>91</td>\n",
       "      <td>92</td>\n",
       "      <td>88</td>\n",
       "      <td>82</td>\n",
       "      <td>83</td>\n",
       "      <td>74</td>\n",
       "      <td>80</td>\n",
       "      <td>91</td>\n",
       "      <td>62</td>\n",
       "      <td>60</td>\n",
       "      <td>77</td>\n",
       "      <td>80</td>\n",
       "      <td>72</td>\n",
       "      <td>62</td>\n",
       "      <td>38</td>\n",
       "      <td>75</td>\n",
       "      <td>75</td>\n",
       "      <td>78</td>\n",
       "      <td>79</td>\n",
       "      <td>16</td>\n",
       "      <td>12</td>\n",
       "      <td>10</td>\n",
       "      <td>14</td>\n",
       "      <td>12</td>\n",
       "    </tr>\n",
       "    <tr>\n",
       "      <th>1464</th>\n",
       "      <td>1515</td>\n",
       "      <td>Aleñá</td>\n",
       "      <td>20</td>\n",
       "      <td>Spain</td>\n",
       "      <td>FC Barcelona</td>\n",
       "      <td>6000000</td>\n",
       "      <td>58000</td>\n",
       "      <td>CM</td>\n",
       "      <td>66</td>\n",
       "      <td>66</td>\n",
       "      <td>34</td>\n",
       "      <td>72</td>\n",
       "      <td>41</td>\n",
       "      <td>76</td>\n",
       "      <td>68</td>\n",
       "      <td>59</td>\n",
       "      <td>68</td>\n",
       "      <td>75</td>\n",
       "      <td>78</td>\n",
       "      <td>76</td>\n",
       "      <td>75</td>\n",
       "      <td>71</td>\n",
       "      <td>75</td>\n",
       "      <td>66</td>\n",
       "      <td>52</td>\n",
       "      <td>66</td>\n",
       "      <td>63</td>\n",
       "      <td>72</td>\n",
       "      <td>52</td>\n",
       "      <td>68</td>\n",
       "      <td>67</td>\n",
       "      <td>74</td>\n",
       "      <td>73</td>\n",
       "      <td>70</td>\n",
       "      <td>70</td>\n",
       "      <td>62</td>\n",
       "      <td>48</td>\n",
       "      <td>12</td>\n",
       "      <td>9</td>\n",
       "      <td>10</td>\n",
       "      <td>8</td>\n",
       "      <td>12</td>\n",
       "    </tr>\n",
       "    <tr>\n",
       "      <th>5377</th>\n",
       "      <td>5539</td>\n",
       "      <td>Chumi</td>\n",
       "      <td>19</td>\n",
       "      <td>Spain</td>\n",
       "      <td>FC Barcelona</td>\n",
       "      <td>1000000</td>\n",
       "      <td>11000</td>\n",
       "      <td>CB</td>\n",
       "      <td>38</td>\n",
       "      <td>30</td>\n",
       "      <td>60</td>\n",
       "      <td>62</td>\n",
       "      <td>33</td>\n",
       "      <td>50</td>\n",
       "      <td>34</td>\n",
       "      <td>36</td>\n",
       "      <td>51</td>\n",
       "      <td>60</td>\n",
       "      <td>57</td>\n",
       "      <td>61</td>\n",
       "      <td>49</td>\n",
       "      <td>60</td>\n",
       "      <td>61</td>\n",
       "      <td>47</td>\n",
       "      <td>74</td>\n",
       "      <td>62</td>\n",
       "      <td>67</td>\n",
       "      <td>36</td>\n",
       "      <td>55</td>\n",
       "      <td>62</td>\n",
       "      <td>34</td>\n",
       "      <td>41</td>\n",
       "      <td>50</td>\n",
       "      <td>62</td>\n",
       "      <td>70</td>\n",
       "      <td>65</td>\n",
       "      <td>63</td>\n",
       "      <td>7</td>\n",
       "      <td>14</td>\n",
       "      <td>9</td>\n",
       "      <td>11</td>\n",
       "      <td>14</td>\n",
       "    </tr>\n",
       "    <tr>\n",
       "      <th>5613</th>\n",
       "      <td>5777</td>\n",
       "      <td>Jorge Cuenca</td>\n",
       "      <td>18</td>\n",
       "      <td>Spain</td>\n",
       "      <td>FC Barcelona</td>\n",
       "      <td>850000</td>\n",
       "      <td>11000</td>\n",
       "      <td>CB</td>\n",
       "      <td>40</td>\n",
       "      <td>27</td>\n",
       "      <td>67</td>\n",
       "      <td>65</td>\n",
       "      <td>31</td>\n",
       "      <td>29</td>\n",
       "      <td>29</td>\n",
       "      <td>26</td>\n",
       "      <td>58</td>\n",
       "      <td>55</td>\n",
       "      <td>57</td>\n",
       "      <td>61</td>\n",
       "      <td>59</td>\n",
       "      <td>65</td>\n",
       "      <td>64</td>\n",
       "      <td>55</td>\n",
       "      <td>69</td>\n",
       "      <td>66</td>\n",
       "      <td>60</td>\n",
       "      <td>36</td>\n",
       "      <td>67</td>\n",
       "      <td>66</td>\n",
       "      <td>21</td>\n",
       "      <td>45</td>\n",
       "      <td>44</td>\n",
       "      <td>57</td>\n",
       "      <td>62</td>\n",
       "      <td>66</td>\n",
       "      <td>63</td>\n",
       "      <td>10</td>\n",
       "      <td>12</td>\n",
       "      <td>5</td>\n",
       "      <td>14</td>\n",
       "      <td>12</td>\n",
       "    </tr>\n",
       "    <tr>\n",
       "      <th>6124</th>\n",
       "      <td>6293</td>\n",
       "      <td>Guillem Jaime</td>\n",
       "      <td>19</td>\n",
       "      <td>Spain</td>\n",
       "      <td>FC Barcelona</td>\n",
       "      <td>975000</td>\n",
       "      <td>13000</td>\n",
       "      <td>RW</td>\n",
       "      <td>63</td>\n",
       "      <td>54</td>\n",
       "      <td>49</td>\n",
       "      <td>62</td>\n",
       "      <td>57</td>\n",
       "      <td>71</td>\n",
       "      <td>59</td>\n",
       "      <td>46</td>\n",
       "      <td>57</td>\n",
       "      <td>68</td>\n",
       "      <td>69</td>\n",
       "      <td>68</td>\n",
       "      <td>68</td>\n",
       "      <td>64</td>\n",
       "      <td>75</td>\n",
       "      <td>64</td>\n",
       "      <td>52</td>\n",
       "      <td>62</td>\n",
       "      <td>51</td>\n",
       "      <td>53</td>\n",
       "      <td>49</td>\n",
       "      <td>57</td>\n",
       "      <td>57</td>\n",
       "      <td>59</td>\n",
       "      <td>49</td>\n",
       "      <td>66</td>\n",
       "      <td>52</td>\n",
       "      <td>55</td>\n",
       "      <td>56</td>\n",
       "      <td>9</td>\n",
       "      <td>11</td>\n",
       "      <td>12</td>\n",
       "      <td>10</td>\n",
       "      <td>6</td>\n",
       "    </tr>\n",
       "    <tr>\n",
       "      <th>7312</th>\n",
       "      <td>7493</td>\n",
       "      <td>Ezkieta</td>\n",
       "      <td>21</td>\n",
       "      <td>Spain</td>\n",
       "      <td>FC Barcelona</td>\n",
       "      <td>525000</td>\n",
       "      <td>10000</td>\n",
       "      <td>GK</td>\n",
       "      <td>16</td>\n",
       "      <td>12</td>\n",
       "      <td>17</td>\n",
       "      <td>28</td>\n",
       "      <td>15</td>\n",
       "      <td>17</td>\n",
       "      <td>16</td>\n",
       "      <td>19</td>\n",
       "      <td>27</td>\n",
       "      <td>19</td>\n",
       "      <td>41</td>\n",
       "      <td>49</td>\n",
       "      <td>36</td>\n",
       "      <td>63</td>\n",
       "      <td>45</td>\n",
       "      <td>26</td>\n",
       "      <td>57</td>\n",
       "      <td>41</td>\n",
       "      <td>64</td>\n",
       "      <td>14</td>\n",
       "      <td>25</td>\n",
       "      <td>20</td>\n",
       "      <td>15</td>\n",
       "      <td>30</td>\n",
       "      <td>24</td>\n",
       "      <td>33</td>\n",
       "      <td>13</td>\n",
       "      <td>17</td>\n",
       "      <td>15</td>\n",
       "      <td>65</td>\n",
       "      <td>58</td>\n",
       "      <td>59</td>\n",
       "      <td>59</td>\n",
       "      <td>64</td>\n",
       "    </tr>\n",
       "    <tr>\n",
       "      <th>9028</th>\n",
       "      <td>9226</td>\n",
       "      <td>Iñaki Peña</td>\n",
       "      <td>19</td>\n",
       "      <td>Spain</td>\n",
       "      <td>FC Barcelona</td>\n",
       "      <td>450000</td>\n",
       "      <td>4000</td>\n",
       "      <td>GK</td>\n",
       "      <td>10</td>\n",
       "      <td>6</td>\n",
       "      <td>11</td>\n",
       "      <td>26</td>\n",
       "      <td>5</td>\n",
       "      <td>12</td>\n",
       "      <td>12</td>\n",
       "      <td>12</td>\n",
       "      <td>24</td>\n",
       "      <td>18</td>\n",
       "      <td>33</td>\n",
       "      <td>28</td>\n",
       "      <td>42</td>\n",
       "      <td>60</td>\n",
       "      <td>51</td>\n",
       "      <td>24</td>\n",
       "      <td>63</td>\n",
       "      <td>27</td>\n",
       "      <td>54</td>\n",
       "      <td>8</td>\n",
       "      <td>17</td>\n",
       "      <td>6</td>\n",
       "      <td>5</td>\n",
       "      <td>39</td>\n",
       "      <td>17</td>\n",
       "      <td>38</td>\n",
       "      <td>9</td>\n",
       "      <td>10</td>\n",
       "      <td>11</td>\n",
       "      <td>63</td>\n",
       "      <td>57</td>\n",
       "      <td>64</td>\n",
       "      <td>57</td>\n",
       "      <td>62</td>\n",
       "    </tr>\n",
       "  </tbody>\n",
       "</table>\n",
       "</div>"
      ],
      "text/plain": [
       "      Unnamed: 0           Name  Age Nationality          Club     Value  \\\n",
       "42            42      S. Umtiti   24      France  FC Barcelona  57000000   \n",
       "141          141     O. Dembélé   21      France  FC Barcelona  40000000   \n",
       "190          190         Arthur   21      Brazil  FC Barcelona  32500000   \n",
       "195          195     C. Lenglet   23      France  FC Barcelona  26000000   \n",
       "235          235  Nélson Semedo   24    Portugal  FC Barcelona  20000000   \n",
       "1464        1515          Aleñá   20       Spain  FC Barcelona   6000000   \n",
       "5377        5539          Chumi   19       Spain  FC Barcelona   1000000   \n",
       "5613        5777   Jorge Cuenca   18       Spain  FC Barcelona    850000   \n",
       "6124        6293  Guillem Jaime   19       Spain  FC Barcelona    975000   \n",
       "7312        7493        Ezkieta   21       Spain  FC Barcelona    525000   \n",
       "9028        9226     Iñaki Peña   19       Spain  FC Barcelona    450000   \n",
       "\n",
       "        Wage Position  Crossing  Finishing  HeadingAccuracy  ShortPassing  \\\n",
       "42    205000       CB        69         51               79            81   \n",
       "141   155000       RW        78         78               43            78   \n",
       "190   125000      LCM        70         72               58            85   \n",
       "195   135000      LCB        36         23               78            78   \n",
       "235   125000       RB        74         50               58            73   \n",
       "1464   58000       CM        66         66               34            72   \n",
       "5377   11000       CB        38         30               60            62   \n",
       "5613   11000       CB        40         27               67            65   \n",
       "6124   13000       RW        63         54               49            62   \n",
       "7312   10000       GK        16         12               17            28   \n",
       "9028    4000       GK        10          6               11            26   \n",
       "\n",
       "      Volleys  Dribbling  Curve  FKAccuracy  LongPassing  BallControl  \\\n",
       "42         70         69     72          62           73           77   \n",
       "141        76         90     78          64           70           83   \n",
       "190        63         82     68          60           80           83   \n",
       "195        24         60     25          27           69           76   \n",
       "235        42         80     61          30           65           78   \n",
       "1464       41         76     68          59           68           75   \n",
       "5377       33         50     34          36           51           60   \n",
       "5613       31         29     29          26           58           55   \n",
       "6124       57         71     59          46           57           68   \n",
       "7312       15         17     16          19           27           19   \n",
       "9028        5         12     12          12           24           18   \n",
       "\n",
       "      Acceleration  SprintSpeed  Agility  Reactions  Balance  ShotPower  \\\n",
       "42              71           73       68         82       66         83   \n",
       "141             93           92       90         82       85         83   \n",
       "190             68           70       79         81       86         76   \n",
       "195             72           73       62         79       60         58   \n",
       "235             91           92       88         82       83         74   \n",
       "1464            78           76       75         71       75         66   \n",
       "5377            57           61       49         60       61         47   \n",
       "5613            57           61       59         65       64         55   \n",
       "6124            69           68       68         64       75         64   \n",
       "7312            41           49       36         63       45         26   \n",
       "9028            33           28       42         60       51         24   \n",
       "\n",
       "      Jumping  Stamina  Strength  LongShots  Aggression  Interceptions  \\\n",
       "42         89       78        84         74          81             87   \n",
       "141        59       73        46         70          54             36   \n",
       "190        83       78        62         74          73             75   \n",
       "195        79       73        80         35          80             82   \n",
       "235        80       91        62         60          77             80   \n",
       "1464       52       66        63         72          52             68   \n",
       "5377       74       62        67         36          55             62   \n",
       "5613       69       66        60         36          67             66   \n",
       "6124       52       62        51         53          49             57   \n",
       "7312       57       41        64         14          25             20   \n",
       "9028       63       27        54          8          17              6   \n",
       "\n",
       "      Positioning  Vision  Penalties  Composure  Marking  StandingTackle  \\\n",
       "42             58      58         61         82       90              89   \n",
       "141            79      84         75         75       42              30   \n",
       "190            77      82         69         84       65              76   \n",
       "195            47      60         43         74       85              82   \n",
       "235            72      62         38         75       75              78   \n",
       "1464           67      74         73         70       70              62   \n",
       "5377           34      41         50         62       70              65   \n",
       "5613           21      45         44         57       62              66   \n",
       "6124           57      59         49         66       52              55   \n",
       "7312           15      30         24         33       13              17   \n",
       "9028            5      39         17         38        9              10   \n",
       "\n",
       "      SlidingTackle  GKDiving  GKHandling  GKKicking  GKPositioning  \\\n",
       "42               86        15          10         14             12   \n",
       "141              33         6           6         14             10   \n",
       "190              70         6          13         13             11   \n",
       "195              81        10          10          9             12   \n",
       "235              79        16          12         10             14   \n",
       "1464             48        12           9         10              8   \n",
       "5377             63         7          14          9             11   \n",
       "5613             63        10          12          5             14   \n",
       "6124             56         9          11         12             10   \n",
       "7312             15        65          58         59             59   \n",
       "9028             11        63          57         64             57   \n",
       "\n",
       "      GKReflexes  \n",
       "42            15  \n",
       "141           13  \n",
       "190           12  \n",
       "195            7  \n",
       "235           12  \n",
       "1464          12  \n",
       "5377          14  \n",
       "5613          12  \n",
       "6124           6  \n",
       "7312          64  \n",
       "9028          62  "
      ]
     },
     "metadata": {},
     "output_type": "display_data"
    }
   ],
   "source": [
    "import pandas as pd\n",
    "football = pd.read_csv('data_sf.csv')\n",
    "\n",
    "football = football[(football.Age < football.Age.mean()) & (football.Club == 'FC Barcelona')]\n",
    "\n",
    "with pd.option_context('display.max_rows', None, 'display.max_columns', None):\n",
    "    display (football)\n",
    "    "
   ]
  },
  {
   "cell_type": "code",
   "execution_count": 38,
   "metadata": {},
   "outputs": [
    {
     "data": {
      "text/plain": [
       "24"
      ]
     },
     "execution_count": 38,
     "metadata": {},
     "output_type": "execute_result"
    }
   ],
   "source": [
    "import pandas as pd\n",
    "football = pd.read_csv('data_sf.csv')\n",
    "\n",
    "football[(football.Composure > 0.9 * football.Composure.max()) & \n",
    "         (football.Reactions > 0.9 * football.Reactions.max()) ].Age.min()\n",
    "\n"
   ]
  },
  {
   "cell_type": "code",
   "execution_count": 56,
   "metadata": {},
   "outputs": [
    {
     "data": {
      "text/plain": [
       "count      1747\n",
       "unique       98\n",
       "top       Spain\n",
       "freq        211\n",
       "Name: Nationality, dtype: object"
      ]
     },
     "execution_count": 56,
     "metadata": {},
     "output_type": "execute_result"
    }
   ],
   "source": [
    "import pandas as pd\n",
    "football = pd.read_csv('data_sf.csv')\n",
    "\n",
    "football[football.Value > football.Value.mean()].Nationality.describe()\n"
   ]
  },
  {
   "cell_type": "code",
   "execution_count": 61,
   "metadata": {},
   "outputs": [
    {
     "data": {
      "text/plain": [
       "2.765957446808511"
      ]
     },
     "execution_count": 61,
     "metadata": {},
     "output_type": "execute_result"
    }
   ],
   "source": [
    "import pandas as pd\n",
    "football = pd.read_csv('data_sf.csv')\n",
    "\n",
    "A = football[(football.Position == 'GK') & (football.GKReflexes == football.GKReflexes.max())].Wage.mean()\n",
    "B = football[(football.Position == 'GK') & (football.GKHandling == football.GKHandling.max())].Wage.mean()\n",
    "A/B"
   ]
  },
  {
   "cell_type": "code",
   "execution_count": 5,
   "metadata": {},
   "outputs": [
    {
     "data": {
      "text/plain": [
       "2.076923076923077"
      ]
     },
     "execution_count": 5,
     "metadata": {},
     "output_type": "execute_result"
    }
   ],
   "source": [
    "import pandas as pd\n",
    "football = pd.read_csv('data_sf.csv')\n",
    "\n",
    "A = football[football.Aggression == football.Aggression.max()].ShotPower.mean()\n",
    "B = football[football.Aggression == football.Aggression.min()].ShotPower.mean()\n",
    "A/B"
   ]
  },
  {
   "cell_type": "code",
   "execution_count": 17,
   "metadata": {},
   "outputs": [
    {
     "data": {
      "text/html": [
       "<div>\n",
       "<style scoped>\n",
       "    .dataframe tbody tr th:only-of-type {\n",
       "        vertical-align: middle;\n",
       "    }\n",
       "\n",
       "    .dataframe tbody tr th {\n",
       "        vertical-align: top;\n",
       "    }\n",
       "\n",
       "    .dataframe thead th {\n",
       "        text-align: right;\n",
       "    }\n",
       "</style>\n",
       "<table border=\"1\" class=\"dataframe\">\n",
       "  <thead>\n",
       "    <tr style=\"text-align: right;\">\n",
       "      <th></th>\n",
       "      <th>Name</th>\n",
       "      <th>Age</th>\n",
       "      <th>Nationality</th>\n",
       "      <th>Club</th>\n",
       "      <th>Value</th>\n",
       "      <th>Wage</th>\n",
       "      <th>Position</th>\n",
       "    </tr>\n",
       "  </thead>\n",
       "  <tbody>\n",
       "    <tr>\n",
       "      <th>0</th>\n",
       "      <td>L. Messi</td>\n",
       "      <td>31</td>\n",
       "      <td>Argentina</td>\n",
       "      <td>FC Barcelona</td>\n",
       "      <td>110500000</td>\n",
       "      <td>565000</td>\n",
       "      <td>RF</td>\n",
       "    </tr>\n",
       "    <tr>\n",
       "      <th>1</th>\n",
       "      <td>Cristiano Ronaldo</td>\n",
       "      <td>33</td>\n",
       "      <td>Portugal</td>\n",
       "      <td>Juventus</td>\n",
       "      <td>77000000</td>\n",
       "      <td>405000</td>\n",
       "      <td>ST</td>\n",
       "    </tr>\n",
       "    <tr>\n",
       "      <th>2</th>\n",
       "      <td>Neymar Jr</td>\n",
       "      <td>26</td>\n",
       "      <td>Brazil</td>\n",
       "      <td>Paris Saint-Germain</td>\n",
       "      <td>118500000</td>\n",
       "      <td>290000</td>\n",
       "      <td>LW</td>\n",
       "    </tr>\n",
       "    <tr>\n",
       "      <th>3</th>\n",
       "      <td>De Gea</td>\n",
       "      <td>27</td>\n",
       "      <td>Spain</td>\n",
       "      <td>Manchester United</td>\n",
       "      <td>72000000</td>\n",
       "      <td>260000</td>\n",
       "      <td>GK</td>\n",
       "    </tr>\n",
       "    <tr>\n",
       "      <th>4</th>\n",
       "      <td>K. De Bruyne</td>\n",
       "      <td>27</td>\n",
       "      <td>Belgium</td>\n",
       "      <td>Manchester City</td>\n",
       "      <td>102000000</td>\n",
       "      <td>355000</td>\n",
       "      <td>RCM</td>\n",
       "    </tr>\n",
       "    <tr>\n",
       "      <th>5</th>\n",
       "      <td>E. Hazard</td>\n",
       "      <td>27</td>\n",
       "      <td>Belgium</td>\n",
       "      <td>Chelsea</td>\n",
       "      <td>93000000</td>\n",
       "      <td>340000</td>\n",
       "      <td>LF</td>\n",
       "    </tr>\n",
       "    <tr>\n",
       "      <th>6</th>\n",
       "      <td>L. Modrić</td>\n",
       "      <td>32</td>\n",
       "      <td>Croatia</td>\n",
       "      <td>Real Madrid</td>\n",
       "      <td>67000000</td>\n",
       "      <td>420000</td>\n",
       "      <td>RCM</td>\n",
       "    </tr>\n",
       "    <tr>\n",
       "      <th>7</th>\n",
       "      <td>L. Suárez</td>\n",
       "      <td>31</td>\n",
       "      <td>Uruguay</td>\n",
       "      <td>FC Barcelona</td>\n",
       "      <td>80000000</td>\n",
       "      <td>455000</td>\n",
       "      <td>RS</td>\n",
       "    </tr>\n",
       "    <tr>\n",
       "      <th>8</th>\n",
       "      <td>Sergio Ramos</td>\n",
       "      <td>32</td>\n",
       "      <td>Spain</td>\n",
       "      <td>Real Madrid</td>\n",
       "      <td>51000000</td>\n",
       "      <td>380000</td>\n",
       "      <td>RCB</td>\n",
       "    </tr>\n",
       "    <tr>\n",
       "      <th>9</th>\n",
       "      <td>J. Oblak</td>\n",
       "      <td>25</td>\n",
       "      <td>Slovenia</td>\n",
       "      <td>Atlético Madrid</td>\n",
       "      <td>68000000</td>\n",
       "      <td>94000</td>\n",
       "      <td>GK</td>\n",
       "    </tr>\n",
       "    <tr>\n",
       "      <th>10</th>\n",
       "      <td>R. Lewandowski</td>\n",
       "      <td>29</td>\n",
       "      <td>Poland</td>\n",
       "      <td>FC Bayern München</td>\n",
       "      <td>77000000</td>\n",
       "      <td>205000</td>\n",
       "      <td>ST</td>\n",
       "    </tr>\n",
       "    <tr>\n",
       "      <th>11</th>\n",
       "      <td>T. Kroos</td>\n",
       "      <td>28</td>\n",
       "      <td>Germany</td>\n",
       "      <td>Real Madrid</td>\n",
       "      <td>76500000</td>\n",
       "      <td>355000</td>\n",
       "      <td>LCM</td>\n",
       "    </tr>\n",
       "    <tr>\n",
       "      <th>12</th>\n",
       "      <td>D. Godín</td>\n",
       "      <td>32</td>\n",
       "      <td>Uruguay</td>\n",
       "      <td>Atlético Madrid</td>\n",
       "      <td>44000000</td>\n",
       "      <td>125000</td>\n",
       "      <td>CB</td>\n",
       "    </tr>\n",
       "    <tr>\n",
       "      <th>13</th>\n",
       "      <td>David Silva</td>\n",
       "      <td>32</td>\n",
       "      <td>Spain</td>\n",
       "      <td>Manchester City</td>\n",
       "      <td>60000000</td>\n",
       "      <td>285000</td>\n",
       "      <td>LCM</td>\n",
       "    </tr>\n",
       "    <tr>\n",
       "      <th>14</th>\n",
       "      <td>N. Kanté</td>\n",
       "      <td>27</td>\n",
       "      <td>France</td>\n",
       "      <td>Chelsea</td>\n",
       "      <td>63000000</td>\n",
       "      <td>225000</td>\n",
       "      <td>LDM</td>\n",
       "    </tr>\n",
       "    <tr>\n",
       "      <th>15</th>\n",
       "      <td>P. Dybala</td>\n",
       "      <td>24</td>\n",
       "      <td>Argentina</td>\n",
       "      <td>Juventus</td>\n",
       "      <td>89000000</td>\n",
       "      <td>205000</td>\n",
       "      <td>LF</td>\n",
       "    </tr>\n",
       "    <tr>\n",
       "      <th>16</th>\n",
       "      <td>H. Kane</td>\n",
       "      <td>24</td>\n",
       "      <td>England</td>\n",
       "      <td>Tottenham Hotspur</td>\n",
       "      <td>83500000</td>\n",
       "      <td>205000</td>\n",
       "      <td>ST</td>\n",
       "    </tr>\n",
       "    <tr>\n",
       "      <th>17</th>\n",
       "      <td>A. Griezmann</td>\n",
       "      <td>27</td>\n",
       "      <td>France</td>\n",
       "      <td>Atlético Madrid</td>\n",
       "      <td>78000000</td>\n",
       "      <td>145000</td>\n",
       "      <td>CAM</td>\n",
       "    </tr>\n",
       "    <tr>\n",
       "      <th>18</th>\n",
       "      <td>M. ter Stegen</td>\n",
       "      <td>26</td>\n",
       "      <td>Germany</td>\n",
       "      <td>FC Barcelona</td>\n",
       "      <td>58000000</td>\n",
       "      <td>240000</td>\n",
       "      <td>GK</td>\n",
       "    </tr>\n",
       "    <tr>\n",
       "      <th>19</th>\n",
       "      <td>T. Courtois</td>\n",
       "      <td>26</td>\n",
       "      <td>Belgium</td>\n",
       "      <td>Real Madrid</td>\n",
       "      <td>53500000</td>\n",
       "      <td>240000</td>\n",
       "      <td>GK</td>\n",
       "    </tr>\n",
       "    <tr>\n",
       "      <th>20</th>\n",
       "      <td>Sergio Busquets</td>\n",
       "      <td>29</td>\n",
       "      <td>Spain</td>\n",
       "      <td>FC Barcelona</td>\n",
       "      <td>51500000</td>\n",
       "      <td>315000</td>\n",
       "      <td>CDM</td>\n",
       "    </tr>\n",
       "    <tr>\n",
       "      <th>21</th>\n",
       "      <td>E. Cavani</td>\n",
       "      <td>31</td>\n",
       "      <td>Uruguay</td>\n",
       "      <td>Paris Saint-Germain</td>\n",
       "      <td>60000000</td>\n",
       "      <td>200000</td>\n",
       "      <td>LS</td>\n",
       "    </tr>\n",
       "    <tr>\n",
       "      <th>22</th>\n",
       "      <td>M. Neuer</td>\n",
       "      <td>32</td>\n",
       "      <td>Germany</td>\n",
       "      <td>FC Bayern München</td>\n",
       "      <td>38000000</td>\n",
       "      <td>130000</td>\n",
       "      <td>GK</td>\n",
       "    </tr>\n",
       "    <tr>\n",
       "      <th>23</th>\n",
       "      <td>S. Agüero</td>\n",
       "      <td>30</td>\n",
       "      <td>Argentina</td>\n",
       "      <td>Manchester City</td>\n",
       "      <td>64500000</td>\n",
       "      <td>300000</td>\n",
       "      <td>ST</td>\n",
       "    </tr>\n",
       "    <tr>\n",
       "      <th>24</th>\n",
       "      <td>G. Chiellini</td>\n",
       "      <td>33</td>\n",
       "      <td>Italy</td>\n",
       "      <td>Juventus</td>\n",
       "      <td>27000000</td>\n",
       "      <td>215000</td>\n",
       "      <td>LCB</td>\n",
       "    </tr>\n",
       "  </tbody>\n",
       "</table>\n",
       "</div>"
      ],
      "text/plain": [
       "                 Name  Age Nationality                 Club      Value  \\\n",
       "0            L. Messi   31   Argentina         FC Barcelona  110500000   \n",
       "1   Cristiano Ronaldo   33    Portugal             Juventus   77000000   \n",
       "2           Neymar Jr   26      Brazil  Paris Saint-Germain  118500000   \n",
       "3              De Gea   27       Spain    Manchester United   72000000   \n",
       "4        K. De Bruyne   27     Belgium      Manchester City  102000000   \n",
       "5           E. Hazard   27     Belgium              Chelsea   93000000   \n",
       "6           L. Modrić   32     Croatia          Real Madrid   67000000   \n",
       "7           L. Suárez   31     Uruguay         FC Barcelona   80000000   \n",
       "8        Sergio Ramos   32       Spain          Real Madrid   51000000   \n",
       "9            J. Oblak   25    Slovenia      Atlético Madrid   68000000   \n",
       "10     R. Lewandowski   29      Poland    FC Bayern München   77000000   \n",
       "11           T. Kroos   28     Germany          Real Madrid   76500000   \n",
       "12           D. Godín   32     Uruguay      Atlético Madrid   44000000   \n",
       "13        David Silva   32       Spain      Manchester City   60000000   \n",
       "14           N. Kanté   27      France              Chelsea   63000000   \n",
       "15          P. Dybala   24   Argentina             Juventus   89000000   \n",
       "16            H. Kane   24     England    Tottenham Hotspur   83500000   \n",
       "17       A. Griezmann   27      France      Atlético Madrid   78000000   \n",
       "18      M. ter Stegen   26     Germany         FC Barcelona   58000000   \n",
       "19        T. Courtois   26     Belgium          Real Madrid   53500000   \n",
       "20    Sergio Busquets   29       Spain         FC Barcelona   51500000   \n",
       "21          E. Cavani   31     Uruguay  Paris Saint-Germain   60000000   \n",
       "22           M. Neuer   32     Germany    FC Bayern München   38000000   \n",
       "23          S. Agüero   30   Argentina      Manchester City   64500000   \n",
       "24       G. Chiellini   33       Italy             Juventus   27000000   \n",
       "\n",
       "      Wage Position  \n",
       "0   565000       RF  \n",
       "1   405000       ST  \n",
       "2   290000       LW  \n",
       "3   260000       GK  \n",
       "4   355000      RCM  \n",
       "5   340000       LF  \n",
       "6   420000      RCM  \n",
       "7   455000       RS  \n",
       "8   380000      RCB  \n",
       "9    94000       GK  \n",
       "10  205000       ST  \n",
       "11  355000      LCM  \n",
       "12  125000       CB  \n",
       "13  285000      LCM  \n",
       "14  225000      LDM  \n",
       "15  205000       LF  \n",
       "16  205000       ST  \n",
       "17  145000      CAM  \n",
       "18  240000       GK  \n",
       "19  240000       GK  \n",
       "20  315000      CDM  \n",
       "21  200000       LS  \n",
       "22  130000       GK  \n",
       "23  300000       ST  \n",
       "24  215000      LCB  "
      ]
     },
     "execution_count": 17,
     "metadata": {},
     "output_type": "execute_result"
    }
   ],
   "source": [
    "import pandas as pd\n",
    "df = pd.read_csv('data_sf.csv')\n",
    "\n",
    "\n",
    "small_df = df[df.columns[1:8]].head(25)\n",
    "small_df"
   ]
  },
  {
   "cell_type": "code",
   "execution_count": 32,
   "metadata": {},
   "outputs": [
    {
     "data": {
      "text/plain": [
       "Spain        4\n",
       "Uruguay      3\n",
       "Argentina    3\n",
       "Belgium      3\n",
       "Germany      3\n",
       "France       2\n",
       "Brazil       1\n",
       "Portugal     1\n",
       "Poland       1\n",
       "Italy        1\n",
       "England      1\n",
       "Croatia      1\n",
       "Slovenia     1\n",
       "Name: Nationality, dtype: int64"
      ]
     },
     "metadata": {},
     "output_type": "display_data"
    }
   ],
   "source": [
    "import pandas as pd\n",
    "df = pd.read_csv('data_sf.csv')\n",
    "small_df = df[df.columns[1:8]].head(25)\n",
    "\n",
    "\n",
    "s = small_df['Nationality'].value_counts()\n",
    "display(s)"
   ]
  },
  {
   "cell_type": "code",
   "execution_count": 39,
   "metadata": {},
   "outputs": [
    {
     "data": {
      "text/plain": [
       "LS     0.009382\n",
       "RS     0.008839\n",
       "RWB    0.005428\n",
       "LWB    0.004652\n",
       "CF     0.003954\n",
       "LF     0.000620\n",
       "RF     0.000465\n",
       "LAM    0.000465\n",
       "RAM    0.000388\n",
       "Name: Position, dtype: float64"
      ]
     },
     "metadata": {},
     "output_type": "display_data"
    }
   ],
   "source": [
    "import pandas as pd\n",
    "df = pd.read_csv('data_sf.csv')\n",
    "\n",
    "\n",
    "s = df['Position'].value_counts(normalize=True)\n",
    "display(s[s<0.01])"
   ]
  },
  {
   "cell_type": "code",
   "execution_count": 41,
   "metadata": {},
   "outputs": [
    {
     "data": {
      "text/plain": [
       "0      True\n",
       "1     False\n",
       "2     False\n",
       "3     False\n",
       "4     False\n",
       "5     False\n",
       "6     False\n",
       "7      True\n",
       "8     False\n",
       "9     False\n",
       "10    False\n",
       "11    False\n",
       "12    False\n",
       "13    False\n",
       "14    False\n",
       "15    False\n",
       "16    False\n",
       "17    False\n",
       "18    False\n",
       "19    False\n",
       "20    False\n",
       "21    False\n",
       "22    False\n",
       "23    False\n",
       "24    False\n",
       "Name: Wage, dtype: bool"
      ]
     },
     "execution_count": 41,
     "metadata": {},
     "output_type": "execute_result"
    }
   ],
   "source": [
    "small_df = df[df.columns[0:7]].head(25)\n",
    "\n",
    "s = small_df['Wage'].value_counts(bins=4)\n",
    "\n",
    "s.index[3].left\n",
    "small_df['Wage'] > s.index[3].left"
   ]
  },
  {
   "cell_type": "code",
   "execution_count": 52,
   "metadata": {},
   "outputs": [
    {
     "data": {
      "text/plain": [
       "(21.2, 39.4]     4859\n",
       "(39.4, 57.6]     3957\n",
       "(57.6, 75.8]     2108\n",
       "(2.908, 21.2]    1760\n",
       "(75.8, 94.0]      213\n",
       "Name: FKAccuracy, dtype: int64"
      ]
     },
     "metadata": {},
     "output_type": "display_data"
    }
   ],
   "source": [
    "import pandas as pd\n",
    "df = pd.read_csv('data_sf.csv')\n",
    "\n",
    "\n",
    "s = df['FKAccuracy'].value_counts(bins=5)\n",
    "display(s)"
   ]
  },
  {
   "cell_type": "code",
   "execution_count": 6,
   "metadata": {},
   "outputs": [
    {
     "data": {
      "text/html": [
       "<div>\n",
       "<style scoped>\n",
       "    .dataframe tbody tr th:only-of-type {\n",
       "        vertical-align: middle;\n",
       "    }\n",
       "\n",
       "    .dataframe tbody tr th {\n",
       "        vertical-align: top;\n",
       "    }\n",
       "\n",
       "    .dataframe thead th {\n",
       "        text-align: right;\n",
       "    }\n",
       "</style>\n",
       "<table border=\"1\" class=\"dataframe\">\n",
       "  <thead>\n",
       "    <tr style=\"text-align: right;\">\n",
       "      <th></th>\n",
       "      <th>index</th>\n",
       "      <th>FKAccuracy</th>\n",
       "    </tr>\n",
       "  </thead>\n",
       "  <tbody>\n",
       "    <tr>\n",
       "      <td>0</td>\n",
       "      <td>32</td>\n",
       "      <td>382</td>\n",
       "    </tr>\n",
       "    <tr>\n",
       "      <td>1</td>\n",
       "      <td>35</td>\n",
       "      <td>361</td>\n",
       "    </tr>\n",
       "    <tr>\n",
       "      <td>2</td>\n",
       "      <td>42</td>\n",
       "      <td>355</td>\n",
       "    </tr>\n",
       "    <tr>\n",
       "      <td>3</td>\n",
       "      <td>40</td>\n",
       "      <td>353</td>\n",
       "    </tr>\n",
       "    <tr>\n",
       "      <td>4</td>\n",
       "      <td>39</td>\n",
       "      <td>343</td>\n",
       "    </tr>\n",
       "    <tr>\n",
       "      <td>...</td>\n",
       "      <td>...</td>\n",
       "      <td>...</td>\n",
       "    </tr>\n",
       "    <tr>\n",
       "      <td>84</td>\n",
       "      <td>3</td>\n",
       "      <td>1</td>\n",
       "    </tr>\n",
       "    <tr>\n",
       "      <td>85</td>\n",
       "      <td>90</td>\n",
       "      <td>1</td>\n",
       "    </tr>\n",
       "    <tr>\n",
       "      <td>86</td>\n",
       "      <td>92</td>\n",
       "      <td>1</td>\n",
       "    </tr>\n",
       "    <tr>\n",
       "      <td>87</td>\n",
       "      <td>93</td>\n",
       "      <td>1</td>\n",
       "    </tr>\n",
       "    <tr>\n",
       "      <td>88</td>\n",
       "      <td>94</td>\n",
       "      <td>1</td>\n",
       "    </tr>\n",
       "  </tbody>\n",
       "</table>\n",
       "<p>89 rows × 2 columns</p>\n",
       "</div>"
      ],
      "text/plain": [
       "    index  FKAccuracy\n",
       "0      32         382\n",
       "1      35         361\n",
       "2      42         355\n",
       "3      40         353\n",
       "4      39         343\n",
       "..    ...         ...\n",
       "84      3           1\n",
       "85     90           1\n",
       "86     92           1\n",
       "87     93           1\n",
       "88     94           1\n",
       "\n",
       "[89 rows x 2 columns]"
      ]
     },
     "metadata": {},
     "output_type": "display_data"
    }
   ],
   "source": [
    "import pandas as pd\n",
    "df = pd.read_csv('data_sf.csv')\n",
    "\n",
    "\n",
    "s = df['FKAccuracy'].value_counts()\n",
    "s = s.reset_index()\n",
    "display(s)"
   ]
  },
  {
   "cell_type": "code",
   "execution_count": 13,
   "metadata": {},
   "outputs": [
    {
     "data": {
      "text/plain": [
       "(620.999, 95750.0]      0.970194\n",
       "(95750.0, 190500.0]     0.016393\n",
       "(190500.0, 285250.0]    0.008942\n",
       "(285250.0, 380000.0]    0.004471\n",
       "Name: Wage, dtype: float64"
      ]
     },
     "metadata": {},
     "output_type": "display_data"
    }
   ],
   "source": [
    "import pandas as pd\n",
    "df = pd.read_csv('data_sf.csv')\n",
    "\n",
    "\n",
    "spain = df[df.Nationality == 'Spain']\n",
    "sal = spain['Wage'].value_counts(normalize=True, bins=4)\n",
    "\n",
    "\n",
    "display(sal)"
   ]
  },
  {
   "cell_type": "code",
   "execution_count": 17,
   "metadata": {},
   "outputs": [
    {
     "name": "stdout",
     "output_type": "stream",
     "text": [
      "13\n"
     ]
    }
   ],
   "source": [
    "import pandas as pd\n",
    "df = pd.read_csv('data_sf.csv')\n",
    "\n",
    "\n",
    "MU = df[df.Club == 'Manchester United']\n",
    "count = MU['Nationality'].nunique()\n",
    "print (count)"
   ]
  },
  {
   "cell_type": "code",
   "execution_count": 24,
   "metadata": {},
   "outputs": [
    {
     "data": {
      "text/plain": [
       "array(['Alex Sandro', 'Douglas Costa'], dtype=object)"
      ]
     },
     "metadata": {},
     "output_type": "display_data"
    }
   ],
   "source": [
    "import pandas as pd\n",
    "df = pd.read_csv('data_sf.csv')\n",
    "\n",
    "brz_juv = df[(df.Nationality == 'Brazil') &  (df.Club == 'Juventus')]\n",
    "names = brz_juv['Name'].unique()\n",
    "display(names)"
   ]
  },
  {
   "cell_type": "code",
   "execution_count": 33,
   "metadata": {},
   "outputs": [
    {
     "data": {
      "text/plain": [
       "Club Atlético Huracán          4\n",
       "Hokkaido Consadole Sapporo     4\n",
       "Gimnasia y Esgrima La Plata    3\n",
       "Morecambe                      3\n",
       "Estudiantes de La Plata        3\n",
       "                              ..\n",
       "Shamrock Rovers                1\n",
       "Grimsby Town                   1\n",
       "Bury                           1\n",
       "Urawa Red Diamonds             1\n",
       "SV Wehen Wiesbaden             1\n",
       "Name: Club, Length: 212, dtype: int64"
      ]
     },
     "metadata": {},
     "output_type": "display_data"
    }
   ],
   "source": [
    "import pandas as pd\n",
    "df = pd.read_csv('data_sf.csv')\n",
    "\n",
    "filt = df[df.Age > 35]\n",
    "clubs = filt.Club.value_counts()\n",
    "\n",
    "display (clubs)\n"
   ]
  },
  {
   "cell_type": "code",
   "execution_count": 74,
   "metadata": {},
   "outputs": [
    {
     "data": {
      "text/plain": [
       "(22.25, 28.5]      200\n",
       "(15.974, 22.25]    197\n",
       "(28.5, 34.75]      128\n",
       "(34.75, 41.0]       49\n",
       "Name: Age, dtype: int64"
      ]
     },
     "metadata": {},
     "output_type": "display_data"
    }
   ],
   "source": [
    "import pandas as pd\n",
    "df = pd.read_csv('data_sf.csv')\n",
    "\n",
    "age = df[df.Nationality == 'Argentina'].Age.value_counts(bins = 4)\n",
    "display(age)"
   ]
  },
  {
   "cell_type": "code",
   "execution_count": 45,
   "metadata": {},
   "outputs": [
    {
     "name": "stdout",
     "output_type": "stream",
     "text": [
      "11.773472429210134\n"
     ]
    }
   ],
   "source": [
    "import pandas as pd\n",
    "df = pd.read_csv('data_sf.csv')\n",
    "\n",
    "spain = len(df[(df.Nationality == 'Spain') & (df.Age == 21)])/len(df[df.Nationality == 'Spain']) * 100\n",
    "\n",
    "print (spain)"
   ]
  },
  {
   "cell_type": "code",
   "execution_count": 51,
   "metadata": {},
   "outputs": [
    {
     "data": {
      "text/html": [
       "<div>\n",
       "<style scoped>\n",
       "    .dataframe tbody tr th:only-of-type {\n",
       "        vertical-align: middle;\n",
       "    }\n",
       "\n",
       "    .dataframe tbody tr th {\n",
       "        vertical-align: top;\n",
       "    }\n",
       "\n",
       "    .dataframe thead th {\n",
       "        text-align: right;\n",
       "    }\n",
       "</style>\n",
       "<table border=\"1\" class=\"dataframe\">\n",
       "  <thead>\n",
       "    <tr style=\"text-align: right;\">\n",
       "      <th></th>\n",
       "      <th>index</th>\n",
       "      <th>Nationality</th>\n",
       "    </tr>\n",
       "  </thead>\n",
       "  <tbody>\n",
       "    <tr>\n",
       "      <td>0</td>\n",
       "      <td>0</td>\n",
       "      <td>Argentina</td>\n",
       "    </tr>\n",
       "    <tr>\n",
       "      <td>1</td>\n",
       "      <td>1</td>\n",
       "      <td>Portugal</td>\n",
       "    </tr>\n",
       "    <tr>\n",
       "      <td>2</td>\n",
       "      <td>2</td>\n",
       "      <td>Brazil</td>\n",
       "    </tr>\n",
       "    <tr>\n",
       "      <td>3</td>\n",
       "      <td>3</td>\n",
       "      <td>Spain</td>\n",
       "    </tr>\n",
       "    <tr>\n",
       "      <td>4</td>\n",
       "      <td>4</td>\n",
       "      <td>Belgium</td>\n",
       "    </tr>\n",
       "    <tr>\n",
       "      <td>...</td>\n",
       "      <td>...</td>\n",
       "      <td>...</td>\n",
       "    </tr>\n",
       "    <tr>\n",
       "      <td>12892</td>\n",
       "      <td>12892</td>\n",
       "      <td>England</td>\n",
       "    </tr>\n",
       "    <tr>\n",
       "      <td>12893</td>\n",
       "      <td>12893</td>\n",
       "      <td>Sweden</td>\n",
       "    </tr>\n",
       "    <tr>\n",
       "      <td>12894</td>\n",
       "      <td>12894</td>\n",
       "      <td>England</td>\n",
       "    </tr>\n",
       "    <tr>\n",
       "      <td>12895</td>\n",
       "      <td>12895</td>\n",
       "      <td>England</td>\n",
       "    </tr>\n",
       "    <tr>\n",
       "      <td>12896</td>\n",
       "      <td>12896</td>\n",
       "      <td>England</td>\n",
       "    </tr>\n",
       "  </tbody>\n",
       "</table>\n",
       "<p>12897 rows × 2 columns</p>\n",
       "</div>"
      ],
      "text/plain": [
       "       index Nationality\n",
       "0          0   Argentina\n",
       "1          1    Portugal\n",
       "2          2      Brazil\n",
       "3          3       Spain\n",
       "4          4     Belgium\n",
       "...      ...         ...\n",
       "12892  12892     England\n",
       "12893  12893      Sweden\n",
       "12894  12894     England\n",
       "12895  12895     England\n",
       "12896  12896     England\n",
       "\n",
       "[12897 rows x 2 columns]"
      ]
     },
     "metadata": {},
     "output_type": "display_data"
    }
   ],
   "source": [
    "import pandas as pd\n",
    "df = pd.read_csv('data_sf.csv')\n",
    "\n",
    "age = df['Nationality']\n",
    "display(age.reset_index())"
   ]
  },
  {
   "cell_type": "code",
   "execution_count": 55,
   "metadata": {},
   "outputs": [
    {
     "data": {
      "text/plain": [
       "Position\n",
       "CAM     5500000\n",
       "CB      7476000\n",
       "CM      6194000\n",
       "GK      8784000\n",
       "LB      6096000\n",
       "LM      5440000\n",
       "RB      5034000\n",
       "RM      5098000\n",
       "ST     11873000\n",
       "Name: Wage, dtype: int64"
      ]
     },
     "execution_count": 55,
     "metadata": {},
     "output_type": "execute_result"
    }
   ],
   "source": [
    "import pandas as pd\n",
    "df = pd.read_csv('data_sf.csv')\n",
    "\n",
    "grouped_df = df.groupby('Position')['Wage'].sum()\n",
    "grouped_df[grouped_df > 5000000]\n"
   ]
  },
  {
   "cell_type": "code",
   "execution_count": 63,
   "metadata": {},
   "outputs": [
    {
     "data": {
      "text/html": [
       "<div>\n",
       "<style scoped>\n",
       "    .dataframe tbody tr th:only-of-type {\n",
       "        vertical-align: middle;\n",
       "    }\n",
       "\n",
       "    .dataframe tbody tr th {\n",
       "        vertical-align: top;\n",
       "    }\n",
       "\n",
       "    .dataframe thead th {\n",
       "        text-align: right;\n",
       "    }\n",
       "</style>\n",
       "<table border=\"1\" class=\"dataframe\">\n",
       "  <thead>\n",
       "    <tr style=\"text-align: right;\">\n",
       "      <th></th>\n",
       "      <th>Wage</th>\n",
       "      <th>Value</th>\n",
       "    </tr>\n",
       "    <tr>\n",
       "      <th>Position</th>\n",
       "      <th></th>\n",
       "      <th></th>\n",
       "    </tr>\n",
       "  </thead>\n",
       "  <tbody>\n",
       "    <tr>\n",
       "      <th>RB</th>\n",
       "      <td>5310.126582</td>\n",
       "      <td>1.248940e+06</td>\n",
       "    </tr>\n",
       "    <tr>\n",
       "      <th>CB</th>\n",
       "      <td>5328.581611</td>\n",
       "      <td>1.321251e+06</td>\n",
       "    </tr>\n",
       "    <tr>\n",
       "      <th>LB</th>\n",
       "      <td>6083.832335</td>\n",
       "      <td>1.429032e+06</td>\n",
       "    </tr>\n",
       "    <tr>\n",
       "      <th>GK</th>\n",
       "      <td>5352.833638</td>\n",
       "      <td>1.502502e+06</td>\n",
       "    </tr>\n",
       "    <tr>\n",
       "      <th>RWB</th>\n",
       "      <td>6000.000000</td>\n",
       "      <td>1.555571e+06</td>\n",
       "    </tr>\n",
       "    <tr>\n",
       "      <th>CM</th>\n",
       "      <td>5805.060918</td>\n",
       "      <td>1.617465e+06</td>\n",
       "    </tr>\n",
       "    <tr>\n",
       "      <th>CDM</th>\n",
       "      <td>7121.562952</td>\n",
       "      <td>1.658900e+06</td>\n",
       "    </tr>\n",
       "    <tr>\n",
       "      <th>CF</th>\n",
       "      <td>4862.745098</td>\n",
       "      <td>1.848627e+06</td>\n",
       "    </tr>\n",
       "    <tr>\n",
       "      <th>LWB</th>\n",
       "      <td>5783.333333</td>\n",
       "      <td>1.931333e+06</td>\n",
       "    </tr>\n",
       "    <tr>\n",
       "      <th>RM</th>\n",
       "      <td>6655.352480</td>\n",
       "      <td>2.138734e+06</td>\n",
       "    </tr>\n",
       "    <tr>\n",
       "      <th>ST</th>\n",
       "      <td>7852.513228</td>\n",
       "      <td>2.157252e+06</td>\n",
       "    </tr>\n",
       "    <tr>\n",
       "      <th>LM</th>\n",
       "      <td>7472.527473</td>\n",
       "      <td>2.466174e+06</td>\n",
       "    </tr>\n",
       "    <tr>\n",
       "      <th>LCB</th>\n",
       "      <td>9753.056235</td>\n",
       "      <td>2.636516e+06</td>\n",
       "    </tr>\n",
       "    <tr>\n",
       "      <th>RDM</th>\n",
       "      <td>11282.608696</td>\n",
       "      <td>2.692717e+06</td>\n",
       "    </tr>\n",
       "    <tr>\n",
       "      <th>CAM</th>\n",
       "      <td>8688.783570</td>\n",
       "      <td>2.963199e+06</td>\n",
       "    </tr>\n",
       "    <tr>\n",
       "      <th>RCB</th>\n",
       "      <td>11270.334928</td>\n",
       "      <td>3.009055e+06</td>\n",
       "    </tr>\n",
       "    <tr>\n",
       "      <th>LDM</th>\n",
       "      <td>10243.243243</td>\n",
       "      <td>3.369459e+06</td>\n",
       "    </tr>\n",
       "    <tr>\n",
       "      <th>RW</th>\n",
       "      <td>13822.784810</td>\n",
       "      <td>3.495738e+06</td>\n",
       "    </tr>\n",
       "    <tr>\n",
       "      <th>LW</th>\n",
       "      <td>12169.421488</td>\n",
       "      <td>3.603099e+06</td>\n",
       "    </tr>\n",
       "    <tr>\n",
       "      <th>RS</th>\n",
       "      <td>13482.456140</td>\n",
       "      <td>3.645833e+06</td>\n",
       "    </tr>\n",
       "    <tr>\n",
       "      <th>RCM</th>\n",
       "      <td>13504.166667</td>\n",
       "      <td>4.217604e+06</td>\n",
       "    </tr>\n",
       "    <tr>\n",
       "      <th>LCM</th>\n",
       "      <td>13497.854077</td>\n",
       "      <td>4.318090e+06</td>\n",
       "    </tr>\n",
       "    <tr>\n",
       "      <th>LS</th>\n",
       "      <td>15421.487603</td>\n",
       "      <td>5.848430e+06</td>\n",
       "    </tr>\n",
       "    <tr>\n",
       "      <th>RAM</th>\n",
       "      <td>11800.000000</td>\n",
       "      <td>8.345000e+06</td>\n",
       "    </tr>\n",
       "    <tr>\n",
       "      <th>LAM</th>\n",
       "      <td>61000.000000</td>\n",
       "      <td>1.324583e+07</td>\n",
       "    </tr>\n",
       "    <tr>\n",
       "      <th>RF</th>\n",
       "      <td>119000.000000</td>\n",
       "      <td>2.636583e+07</td>\n",
       "    </tr>\n",
       "    <tr>\n",
       "      <th>LF</th>\n",
       "      <td>75125.000000</td>\n",
       "      <td>2.736250e+07</td>\n",
       "    </tr>\n",
       "  </tbody>\n",
       "</table>\n",
       "</div>"
      ],
      "text/plain": [
       "                   Wage         Value\n",
       "Position                             \n",
       "RB          5310.126582  1.248940e+06\n",
       "CB          5328.581611  1.321251e+06\n",
       "LB          6083.832335  1.429032e+06\n",
       "GK          5352.833638  1.502502e+06\n",
       "RWB         6000.000000  1.555571e+06\n",
       "CM          5805.060918  1.617465e+06\n",
       "CDM         7121.562952  1.658900e+06\n",
       "CF          4862.745098  1.848627e+06\n",
       "LWB         5783.333333  1.931333e+06\n",
       "RM          6655.352480  2.138734e+06\n",
       "ST          7852.513228  2.157252e+06\n",
       "LM          7472.527473  2.466174e+06\n",
       "LCB         9753.056235  2.636516e+06\n",
       "RDM        11282.608696  2.692717e+06\n",
       "CAM         8688.783570  2.963199e+06\n",
       "RCB        11270.334928  3.009055e+06\n",
       "LDM        10243.243243  3.369459e+06\n",
       "RW         13822.784810  3.495738e+06\n",
       "LW         12169.421488  3.603099e+06\n",
       "RS         13482.456140  3.645833e+06\n",
       "RCM        13504.166667  4.217604e+06\n",
       "LCM        13497.854077  4.318090e+06\n",
       "LS         15421.487603  5.848430e+06\n",
       "RAM        11800.000000  8.345000e+06\n",
       "LAM        61000.000000  1.324583e+07\n",
       "RF        119000.000000  2.636583e+07\n",
       "LF         75125.000000  2.736250e+07"
      ]
     },
     "execution_count": 63,
     "metadata": {},
     "output_type": "execute_result"
    }
   ],
   "source": [
    "import pandas as pd\n",
    "df = pd.read_csv('data_sf.csv')\n",
    "\n",
    "df.groupby(['Position'])[['Wage','Value']].mean().sort_values(['Value'])"
   ]
  },
  {
   "cell_type": "code",
   "execution_count": 110,
   "metadata": {},
   "outputs": [
    {
     "data": {
      "text/plain": [
       "650"
      ]
     },
     "execution_count": 110,
     "metadata": {},
     "output_type": "execute_result"
    }
   ],
   "source": [
    "import pandas as pd\n",
    "df = pd.read_csv('data_sf.csv')\n",
    "\n",
    "group = df.groupby('Club')['Wage'].agg(['mean', 'median'])\n",
    "group[group['mean'] == group['median']].sort_values(['mean'])\n",
    "len(group)    \n"
   ]
  },
  {
   "cell_type": "code",
   "execution_count": 114,
   "metadata": {},
   "outputs": [
    {
     "data": {
      "text/plain": [
       "2035000"
      ]
     },
     "execution_count": 114,
     "metadata": {},
     "output_type": "execute_result"
    }
   ],
   "source": [
    "import pandas as pd\n",
    "df = pd.read_csv('data_sf.csv')\n",
    "\n",
    "group = df.groupby('Club')['Wage'].sum()\n",
    "group['Chelsea']"
   ]
  },
  {
   "cell_type": "code",
   "execution_count": 121,
   "metadata": {},
   "outputs": [
    {
     "data": {
      "text/plain": [
       "1000"
      ]
     },
     "execution_count": 121,
     "metadata": {},
     "output_type": "execute_result"
    }
   ],
   "source": [
    "import pandas as pd\n",
    "df = pd.read_csv('data_sf.csv')\n",
    "\n",
    "argent = df[(df['Nationality'] == 'Argentina') & (df['Age'] == 30)]\n",
    "argent['Wage'].min()\n"
   ]
  },
  {
   "cell_type": "code",
   "execution_count": 128,
   "metadata": {},
   "outputs": [
    {
     "data": {
      "text/plain": [
       "59"
      ]
     },
     "metadata": {},
     "output_type": "display_data"
    },
    {
     "data": {
      "text/plain": [
       "95"
      ]
     },
     "metadata": {},
     "output_type": "display_data"
    }
   ],
   "source": [
    "import pandas as pd\n",
    "df = pd.read_csv('data_sf.csv')\n",
    "\n",
    "sort = df.loc[(df['Nationality'] == 'Argentina') & (df['Club'] == 'FC Barcelona')]\n",
    "display(sort['Strength'].max(), sort['Balance'].max())"
   ]
  },
  {
   "cell_type": "code",
   "execution_count": 1,
   "metadata": {},
   "outputs": [
    {
     "data": {
      "text/html": [
       "<div>\n",
       "<style scoped>\n",
       "    .dataframe tbody tr th:only-of-type {\n",
       "        vertical-align: middle;\n",
       "    }\n",
       "\n",
       "    .dataframe tbody tr th {\n",
       "        vertical-align: top;\n",
       "    }\n",
       "\n",
       "    .dataframe thead tr th {\n",
       "        text-align: left;\n",
       "    }\n",
       "\n",
       "    .dataframe thead tr:last-of-type th {\n",
       "        text-align: right;\n",
       "    }\n",
       "</style>\n",
       "<table border=\"1\" class=\"dataframe\">\n",
       "  <thead>\n",
       "    <tr>\n",
       "      <th></th>\n",
       "      <th colspan=\"21\" halign=\"left\">Name</th>\n",
       "    </tr>\n",
       "    <tr>\n",
       "      <th>Position</th>\n",
       "      <th>CAM</th>\n",
       "      <th>CB</th>\n",
       "      <th>CDM</th>\n",
       "      <th>CF</th>\n",
       "      <th>CM</th>\n",
       "      <th>GK</th>\n",
       "      <th>LAM</th>\n",
       "      <th>LB</th>\n",
       "      <th>LCB</th>\n",
       "      <th>LCM</th>\n",
       "      <th>...</th>\n",
       "      <th>RB</th>\n",
       "      <th>RCB</th>\n",
       "      <th>RCM</th>\n",
       "      <th>RDM</th>\n",
       "      <th>RF</th>\n",
       "      <th>RM</th>\n",
       "      <th>RS</th>\n",
       "      <th>RW</th>\n",
       "      <th>RWB</th>\n",
       "      <th>ST</th>\n",
       "    </tr>\n",
       "    <tr>\n",
       "      <th>Club</th>\n",
       "      <th></th>\n",
       "      <th></th>\n",
       "      <th></th>\n",
       "      <th></th>\n",
       "      <th></th>\n",
       "      <th></th>\n",
       "      <th></th>\n",
       "      <th></th>\n",
       "      <th></th>\n",
       "      <th></th>\n",
       "      <th></th>\n",
       "      <th></th>\n",
       "      <th></th>\n",
       "      <th></th>\n",
       "      <th></th>\n",
       "      <th></th>\n",
       "      <th></th>\n",
       "      <th></th>\n",
       "      <th></th>\n",
       "      <th></th>\n",
       "      <th></th>\n",
       "    </tr>\n",
       "  </thead>\n",
       "  <tbody>\n",
       "    <tr>\n",
       "      <th>SSV Jahn Regensburg</th>\n",
       "      <td>0</td>\n",
       "      <td>5</td>\n",
       "      <td>1</td>\n",
       "      <td>0</td>\n",
       "      <td>2</td>\n",
       "      <td>3</td>\n",
       "      <td>0</td>\n",
       "      <td>2</td>\n",
       "      <td>0</td>\n",
       "      <td>0</td>\n",
       "      <td>...</td>\n",
       "      <td>2</td>\n",
       "      <td>1</td>\n",
       "      <td>0</td>\n",
       "      <td>1</td>\n",
       "      <td>0</td>\n",
       "      <td>0</td>\n",
       "      <td>0</td>\n",
       "      <td>0</td>\n",
       "      <td>0</td>\n",
       "      <td>3</td>\n",
       "    </tr>\n",
       "    <tr>\n",
       "      <th>1. FC Heidenheim 1846</th>\n",
       "      <td>1</td>\n",
       "      <td>3</td>\n",
       "      <td>0</td>\n",
       "      <td>0</td>\n",
       "      <td>1</td>\n",
       "      <td>2</td>\n",
       "      <td>0</td>\n",
       "      <td>2</td>\n",
       "      <td>1</td>\n",
       "      <td>0</td>\n",
       "      <td>...</td>\n",
       "      <td>2</td>\n",
       "      <td>1</td>\n",
       "      <td>0</td>\n",
       "      <td>0</td>\n",
       "      <td>0</td>\n",
       "      <td>3</td>\n",
       "      <td>0</td>\n",
       "      <td>0</td>\n",
       "      <td>0</td>\n",
       "      <td>2</td>\n",
       "    </tr>\n",
       "    <tr>\n",
       "      <th>1. FC Kaiserslautern</th>\n",
       "      <td>0</td>\n",
       "      <td>3</td>\n",
       "      <td>3</td>\n",
       "      <td>0</td>\n",
       "      <td>0</td>\n",
       "      <td>3</td>\n",
       "      <td>0</td>\n",
       "      <td>2</td>\n",
       "      <td>1</td>\n",
       "      <td>0</td>\n",
       "      <td>...</td>\n",
       "      <td>2</td>\n",
       "      <td>0</td>\n",
       "      <td>0</td>\n",
       "      <td>1</td>\n",
       "      <td>0</td>\n",
       "      <td>2</td>\n",
       "      <td>1</td>\n",
       "      <td>0</td>\n",
       "      <td>0</td>\n",
       "      <td>1</td>\n",
       "    </tr>\n",
       "    <tr>\n",
       "      <th>1. FC Köln</th>\n",
       "      <td>0</td>\n",
       "      <td>1</td>\n",
       "      <td>1</td>\n",
       "      <td>0</td>\n",
       "      <td>2</td>\n",
       "      <td>3</td>\n",
       "      <td>0</td>\n",
       "      <td>0</td>\n",
       "      <td>0</td>\n",
       "      <td>0</td>\n",
       "      <td>...</td>\n",
       "      <td>1</td>\n",
       "      <td>0</td>\n",
       "      <td>0</td>\n",
       "      <td>0</td>\n",
       "      <td>0</td>\n",
       "      <td>1</td>\n",
       "      <td>0</td>\n",
       "      <td>0</td>\n",
       "      <td>0</td>\n",
       "      <td>0</td>\n",
       "    </tr>\n",
       "    <tr>\n",
       "      <th>1. FC Magdeburg</th>\n",
       "      <td>0</td>\n",
       "      <td>4</td>\n",
       "      <td>0</td>\n",
       "      <td>1</td>\n",
       "      <td>0</td>\n",
       "      <td>3</td>\n",
       "      <td>0</td>\n",
       "      <td>1</td>\n",
       "      <td>1</td>\n",
       "      <td>1</td>\n",
       "      <td>...</td>\n",
       "      <td>0</td>\n",
       "      <td>1</td>\n",
       "      <td>1</td>\n",
       "      <td>0</td>\n",
       "      <td>0</td>\n",
       "      <td>3</td>\n",
       "      <td>1</td>\n",
       "      <td>2</td>\n",
       "      <td>0</td>\n",
       "      <td>1</td>\n",
       "    </tr>\n",
       "    <tr>\n",
       "      <th>...</th>\n",
       "      <td>...</td>\n",
       "      <td>...</td>\n",
       "      <td>...</td>\n",
       "      <td>...</td>\n",
       "      <td>...</td>\n",
       "      <td>...</td>\n",
       "      <td>...</td>\n",
       "      <td>...</td>\n",
       "      <td>...</td>\n",
       "      <td>...</td>\n",
       "      <td>...</td>\n",
       "      <td>...</td>\n",
       "      <td>...</td>\n",
       "      <td>...</td>\n",
       "      <td>...</td>\n",
       "      <td>...</td>\n",
       "      <td>...</td>\n",
       "      <td>...</td>\n",
       "      <td>...</td>\n",
       "      <td>...</td>\n",
       "      <td>...</td>\n",
       "    </tr>\n",
       "    <tr>\n",
       "      <th>Zagłębie Sosnowiec</th>\n",
       "      <td>3</td>\n",
       "      <td>2</td>\n",
       "      <td>2</td>\n",
       "      <td>0</td>\n",
       "      <td>0</td>\n",
       "      <td>3</td>\n",
       "      <td>0</td>\n",
       "      <td>3</td>\n",
       "      <td>1</td>\n",
       "      <td>0</td>\n",
       "      <td>...</td>\n",
       "      <td>1</td>\n",
       "      <td>1</td>\n",
       "      <td>0</td>\n",
       "      <td>1</td>\n",
       "      <td>0</td>\n",
       "      <td>2</td>\n",
       "      <td>0</td>\n",
       "      <td>0</td>\n",
       "      <td>0</td>\n",
       "      <td>1</td>\n",
       "    </tr>\n",
       "    <tr>\n",
       "      <th>Çaykur Rizespor</th>\n",
       "      <td>1</td>\n",
       "      <td>2</td>\n",
       "      <td>5</td>\n",
       "      <td>0</td>\n",
       "      <td>0</td>\n",
       "      <td>3</td>\n",
       "      <td>0</td>\n",
       "      <td>2</td>\n",
       "      <td>1</td>\n",
       "      <td>0</td>\n",
       "      <td>...</td>\n",
       "      <td>3</td>\n",
       "      <td>0</td>\n",
       "      <td>0</td>\n",
       "      <td>1</td>\n",
       "      <td>0</td>\n",
       "      <td>1</td>\n",
       "      <td>0</td>\n",
       "      <td>0</td>\n",
       "      <td>0</td>\n",
       "      <td>1</td>\n",
       "    </tr>\n",
       "    <tr>\n",
       "      <th>Örebro SK</th>\n",
       "      <td>0</td>\n",
       "      <td>4</td>\n",
       "      <td>0</td>\n",
       "      <td>0</td>\n",
       "      <td>1</td>\n",
       "      <td>3</td>\n",
       "      <td>0</td>\n",
       "      <td>0</td>\n",
       "      <td>1</td>\n",
       "      <td>1</td>\n",
       "      <td>...</td>\n",
       "      <td>0</td>\n",
       "      <td>1</td>\n",
       "      <td>1</td>\n",
       "      <td>0</td>\n",
       "      <td>0</td>\n",
       "      <td>0</td>\n",
       "      <td>0</td>\n",
       "      <td>2</td>\n",
       "      <td>2</td>\n",
       "      <td>5</td>\n",
       "    </tr>\n",
       "    <tr>\n",
       "      <th>Östersunds FK</th>\n",
       "      <td>1</td>\n",
       "      <td>1</td>\n",
       "      <td>0</td>\n",
       "      <td>1</td>\n",
       "      <td>3</td>\n",
       "      <td>3</td>\n",
       "      <td>0</td>\n",
       "      <td>2</td>\n",
       "      <td>1</td>\n",
       "      <td>1</td>\n",
       "      <td>...</td>\n",
       "      <td>1</td>\n",
       "      <td>1</td>\n",
       "      <td>0</td>\n",
       "      <td>0</td>\n",
       "      <td>0</td>\n",
       "      <td>1</td>\n",
       "      <td>0</td>\n",
       "      <td>1</td>\n",
       "      <td>0</td>\n",
       "      <td>1</td>\n",
       "    </tr>\n",
       "    <tr>\n",
       "      <th>Śląsk Wrocław</th>\n",
       "      <td>0</td>\n",
       "      <td>1</td>\n",
       "      <td>3</td>\n",
       "      <td>0</td>\n",
       "      <td>1</td>\n",
       "      <td>3</td>\n",
       "      <td>0</td>\n",
       "      <td>2</td>\n",
       "      <td>1</td>\n",
       "      <td>0</td>\n",
       "      <td>...</td>\n",
       "      <td>2</td>\n",
       "      <td>1</td>\n",
       "      <td>0</td>\n",
       "      <td>1</td>\n",
       "      <td>0</td>\n",
       "      <td>2</td>\n",
       "      <td>1</td>\n",
       "      <td>0</td>\n",
       "      <td>0</td>\n",
       "      <td>2</td>\n",
       "    </tr>\n",
       "  </tbody>\n",
       "</table>\n",
       "<p>650 rows × 27 columns</p>\n",
       "</div>"
      ],
      "text/plain": [
       "                      Name                                 ...                 \\\n",
       "Position               CAM CB CDM CF CM GK LAM LB LCB LCM  ... RB RCB RCM RDM   \n",
       "Club                                                       ...                  \n",
       " SSV Jahn Regensburg     0  5   1  0  2  3   0  2   0   0  ...  2   1   0   1   \n",
       "1. FC Heidenheim 1846    1  3   0  0  1  2   0  2   1   0  ...  2   1   0   0   \n",
       "1. FC Kaiserslautern     0  3   3  0  0  3   0  2   1   0  ...  2   0   0   1   \n",
       "1. FC Köln               0  1   1  0  2  3   0  0   0   0  ...  1   0   0   0   \n",
       "1. FC Magdeburg          0  4   0  1  0  3   0  1   1   1  ...  0   1   1   0   \n",
       "...                    ... ..  .. .. .. ..  .. ..  ..  ..  ... ..  ..  ..  ..   \n",
       "Zagłębie Sosnowiec       3  2   2  0  0  3   0  3   1   0  ...  1   1   0   1   \n",
       "Çaykur Rizespor          1  2   5  0  0  3   0  2   1   0  ...  3   0   0   1   \n",
       "Örebro SK                0  4   0  0  1  3   0  0   1   1  ...  0   1   1   0   \n",
       "Östersunds FK            1  1   0  1  3  3   0  2   1   1  ...  1   1   0   0   \n",
       "Śląsk Wrocław            0  1   3  0  1  3   0  2   1   0  ...  2   1   0   1   \n",
       "\n",
       "                                          \n",
       "Position              RF RM RS RW RWB ST  \n",
       "Club                                      \n",
       " SSV Jahn Regensburg   0  0  0  0   0  3  \n",
       "1. FC Heidenheim 1846  0  3  0  0   0  2  \n",
       "1. FC Kaiserslautern   0  2  1  0   0  1  \n",
       "1. FC Köln             0  1  0  0   0  0  \n",
       "1. FC Magdeburg        0  3  1  2   0  1  \n",
       "...                   .. .. .. ..  .. ..  \n",
       "Zagłębie Sosnowiec     0  2  0  0   0  1  \n",
       "Çaykur Rizespor        0  1  0  0   0  1  \n",
       "Örebro SK              0  0  0  2   2  5  \n",
       "Östersunds FK          0  1  0  1   0  1  \n",
       "Śląsk Wrocław          0  2  1  0   0  2  \n",
       "\n",
       "[650 rows x 27 columns]"
      ]
     },
     "metadata": {},
     "output_type": "display_data"
    },
    {
     "data": {
      "text/plain": [
       "Club\n",
       " SSV Jahn Regensburg     2\n",
       "1. FC Heidenheim 1846    1\n",
       "1. FC Kaiserslautern     0\n",
       "1. FC Köln               2\n",
       "1. FC Magdeburg          0\n",
       "                        ..\n",
       "Zagłębie Sosnowiec       0\n",
       "Çaykur Rizespor          0\n",
       "Örebro SK                1\n",
       "Östersunds FK            3\n",
       "Śląsk Wrocław            1\n",
       "Name: CM, Length: 650, dtype: int64"
      ]
     },
     "execution_count": 1,
     "metadata": {},
     "output_type": "execute_result"
    }
   ],
   "source": [
    "import pandas as pd\n",
    "df = pd.read_csv('data_sf.csv')\n",
    "\n",
    "pivot = df.pivot_table(values=['Name'],\n",
    "index=['Club'],\n",
    "columns=['Position'],\n",
    "aggfunc='count',\n",
    "fill_value=0)\n",
    "display(pivot)\n",
    "\n",
    "pivot['Name']['CM']"
   ]
  },
  {
   "cell_type": "code",
   "execution_count": 143,
   "metadata": {},
   "outputs": [
    {
     "data": {
      "text/html": [
       "<div>\n",
       "<style scoped>\n",
       "    .dataframe tbody tr th:only-of-type {\n",
       "        vertical-align: middle;\n",
       "    }\n",
       "\n",
       "    .dataframe tbody tr th {\n",
       "        vertical-align: top;\n",
       "    }\n",
       "\n",
       "    .dataframe thead tr th {\n",
       "        text-align: left;\n",
       "    }\n",
       "\n",
       "    .dataframe thead tr:last-of-type th {\n",
       "        text-align: right;\n",
       "    }\n",
       "</style>\n",
       "<table border=\"1\" class=\"dataframe\">\n",
       "  <thead>\n",
       "    <tr>\n",
       "      <th></th>\n",
       "      <th colspan=\"21\" halign=\"left\">Wage</th>\n",
       "    </tr>\n",
       "    <tr>\n",
       "      <th>Club</th>\n",
       "      <th>SSV Jahn Regensburg</th>\n",
       "      <th>1. FC Heidenheim 1846</th>\n",
       "      <th>1. FC Kaiserslautern</th>\n",
       "      <th>1. FC Köln</th>\n",
       "      <th>1. FC Magdeburg</th>\n",
       "      <th>1. FC Nürnberg</th>\n",
       "      <th>1. FC Union Berlin</th>\n",
       "      <th>1. FSV Mainz 05</th>\n",
       "      <th>AC Ajaccio</th>\n",
       "      <th>AC Horsens</th>\n",
       "      <th>...</th>\n",
       "      <th>Wycombe Wanderers</th>\n",
       "      <th>Yeni Malatyaspor</th>\n",
       "      <th>Yeovil Town</th>\n",
       "      <th>Yokohama F. Marinos</th>\n",
       "      <th>Zagłębie Lubin</th>\n",
       "      <th>Zagłębie Sosnowiec</th>\n",
       "      <th>Çaykur Rizespor</th>\n",
       "      <th>Örebro SK</th>\n",
       "      <th>Östersunds FK</th>\n",
       "      <th>Śląsk Wrocław</th>\n",
       "    </tr>\n",
       "    <tr>\n",
       "      <th>Nationality</th>\n",
       "      <th></th>\n",
       "      <th></th>\n",
       "      <th></th>\n",
       "      <th></th>\n",
       "      <th></th>\n",
       "      <th></th>\n",
       "      <th></th>\n",
       "      <th></th>\n",
       "      <th></th>\n",
       "      <th></th>\n",
       "      <th></th>\n",
       "      <th></th>\n",
       "      <th></th>\n",
       "      <th></th>\n",
       "      <th></th>\n",
       "      <th></th>\n",
       "      <th></th>\n",
       "      <th></th>\n",
       "      <th></th>\n",
       "      <th></th>\n",
       "      <th></th>\n",
       "    </tr>\n",
       "  </thead>\n",
       "  <tbody>\n",
       "    <tr>\n",
       "      <th>Afghanistan</th>\n",
       "      <td>0</td>\n",
       "      <td>0</td>\n",
       "      <td>0</td>\n",
       "      <td>0</td>\n",
       "      <td>0</td>\n",
       "      <td>0</td>\n",
       "      <td>0</td>\n",
       "      <td>0</td>\n",
       "      <td>0</td>\n",
       "      <td>0</td>\n",
       "      <td>...</td>\n",
       "      <td>0</td>\n",
       "      <td>0</td>\n",
       "      <td>0</td>\n",
       "      <td>0</td>\n",
       "      <td>0</td>\n",
       "      <td>0</td>\n",
       "      <td>0</td>\n",
       "      <td>0</td>\n",
       "      <td>0</td>\n",
       "      <td>0</td>\n",
       "    </tr>\n",
       "    <tr>\n",
       "      <th>Albania</th>\n",
       "      <td>0</td>\n",
       "      <td>0</td>\n",
       "      <td>0</td>\n",
       "      <td>0</td>\n",
       "      <td>0</td>\n",
       "      <td>0</td>\n",
       "      <td>0</td>\n",
       "      <td>0</td>\n",
       "      <td>2000</td>\n",
       "      <td>0</td>\n",
       "      <td>...</td>\n",
       "      <td>0</td>\n",
       "      <td>0</td>\n",
       "      <td>0</td>\n",
       "      <td>0</td>\n",
       "      <td>0</td>\n",
       "      <td>0</td>\n",
       "      <td>0</td>\n",
       "      <td>1000</td>\n",
       "      <td>0</td>\n",
       "      <td>0</td>\n",
       "    </tr>\n",
       "    <tr>\n",
       "      <th>Algeria</th>\n",
       "      <td>0</td>\n",
       "      <td>0</td>\n",
       "      <td>0</td>\n",
       "      <td>0</td>\n",
       "      <td>0</td>\n",
       "      <td>0</td>\n",
       "      <td>0</td>\n",
       "      <td>0</td>\n",
       "      <td>0</td>\n",
       "      <td>0</td>\n",
       "      <td>...</td>\n",
       "      <td>0</td>\n",
       "      <td>0</td>\n",
       "      <td>1000</td>\n",
       "      <td>0</td>\n",
       "      <td>0</td>\n",
       "      <td>0</td>\n",
       "      <td>0</td>\n",
       "      <td>0</td>\n",
       "      <td>0</td>\n",
       "      <td>0</td>\n",
       "    </tr>\n",
       "    <tr>\n",
       "      <th>Andorra</th>\n",
       "      <td>0</td>\n",
       "      <td>0</td>\n",
       "      <td>0</td>\n",
       "      <td>0</td>\n",
       "      <td>0</td>\n",
       "      <td>0</td>\n",
       "      <td>0</td>\n",
       "      <td>0</td>\n",
       "      <td>0</td>\n",
       "      <td>0</td>\n",
       "      <td>...</td>\n",
       "      <td>0</td>\n",
       "      <td>0</td>\n",
       "      <td>0</td>\n",
       "      <td>0</td>\n",
       "      <td>0</td>\n",
       "      <td>0</td>\n",
       "      <td>0</td>\n",
       "      <td>0</td>\n",
       "      <td>0</td>\n",
       "      <td>0</td>\n",
       "    </tr>\n",
       "    <tr>\n",
       "      <th>Angola</th>\n",
       "      <td>0</td>\n",
       "      <td>0</td>\n",
       "      <td>0</td>\n",
       "      <td>0</td>\n",
       "      <td>0</td>\n",
       "      <td>0</td>\n",
       "      <td>0</td>\n",
       "      <td>0</td>\n",
       "      <td>0</td>\n",
       "      <td>0</td>\n",
       "      <td>...</td>\n",
       "      <td>0</td>\n",
       "      <td>0</td>\n",
       "      <td>0</td>\n",
       "      <td>0</td>\n",
       "      <td>0</td>\n",
       "      <td>1000</td>\n",
       "      <td>0</td>\n",
       "      <td>0</td>\n",
       "      <td>0</td>\n",
       "      <td>0</td>\n",
       "    </tr>\n",
       "    <tr>\n",
       "      <th>...</th>\n",
       "      <td>...</td>\n",
       "      <td>...</td>\n",
       "      <td>...</td>\n",
       "      <td>...</td>\n",
       "      <td>...</td>\n",
       "      <td>...</td>\n",
       "      <td>...</td>\n",
       "      <td>...</td>\n",
       "      <td>...</td>\n",
       "      <td>...</td>\n",
       "      <td>...</td>\n",
       "      <td>...</td>\n",
       "      <td>...</td>\n",
       "      <td>...</td>\n",
       "      <td>...</td>\n",
       "      <td>...</td>\n",
       "      <td>...</td>\n",
       "      <td>...</td>\n",
       "      <td>...</td>\n",
       "      <td>...</td>\n",
       "      <td>...</td>\n",
       "    </tr>\n",
       "    <tr>\n",
       "      <th>Uzbekistan</th>\n",
       "      <td>0</td>\n",
       "      <td>0</td>\n",
       "      <td>0</td>\n",
       "      <td>0</td>\n",
       "      <td>0</td>\n",
       "      <td>0</td>\n",
       "      <td>0</td>\n",
       "      <td>0</td>\n",
       "      <td>0</td>\n",
       "      <td>0</td>\n",
       "      <td>...</td>\n",
       "      <td>0</td>\n",
       "      <td>0</td>\n",
       "      <td>0</td>\n",
       "      <td>0</td>\n",
       "      <td>0</td>\n",
       "      <td>0</td>\n",
       "      <td>0</td>\n",
       "      <td>0</td>\n",
       "      <td>0</td>\n",
       "      <td>0</td>\n",
       "    </tr>\n",
       "    <tr>\n",
       "      <th>Venezuela</th>\n",
       "      <td>0</td>\n",
       "      <td>0</td>\n",
       "      <td>0</td>\n",
       "      <td>0</td>\n",
       "      <td>0</td>\n",
       "      <td>0</td>\n",
       "      <td>0</td>\n",
       "      <td>0</td>\n",
       "      <td>0</td>\n",
       "      <td>0</td>\n",
       "      <td>...</td>\n",
       "      <td>0</td>\n",
       "      <td>0</td>\n",
       "      <td>0</td>\n",
       "      <td>0</td>\n",
       "      <td>0</td>\n",
       "      <td>0</td>\n",
       "      <td>0</td>\n",
       "      <td>0</td>\n",
       "      <td>0</td>\n",
       "      <td>0</td>\n",
       "    </tr>\n",
       "    <tr>\n",
       "      <th>Wales</th>\n",
       "      <td>0</td>\n",
       "      <td>0</td>\n",
       "      <td>0</td>\n",
       "      <td>0</td>\n",
       "      <td>0</td>\n",
       "      <td>0</td>\n",
       "      <td>0</td>\n",
       "      <td>0</td>\n",
       "      <td>0</td>\n",
       "      <td>0</td>\n",
       "      <td>...</td>\n",
       "      <td>4000</td>\n",
       "      <td>0</td>\n",
       "      <td>2000</td>\n",
       "      <td>0</td>\n",
       "      <td>0</td>\n",
       "      <td>0</td>\n",
       "      <td>0</td>\n",
       "      <td>0</td>\n",
       "      <td>0</td>\n",
       "      <td>0</td>\n",
       "    </tr>\n",
       "    <tr>\n",
       "      <th>Zambia</th>\n",
       "      <td>0</td>\n",
       "      <td>0</td>\n",
       "      <td>0</td>\n",
       "      <td>0</td>\n",
       "      <td>0</td>\n",
       "      <td>0</td>\n",
       "      <td>0</td>\n",
       "      <td>0</td>\n",
       "      <td>0</td>\n",
       "      <td>0</td>\n",
       "      <td>...</td>\n",
       "      <td>0</td>\n",
       "      <td>0</td>\n",
       "      <td>0</td>\n",
       "      <td>0</td>\n",
       "      <td>0</td>\n",
       "      <td>0</td>\n",
       "      <td>0</td>\n",
       "      <td>0</td>\n",
       "      <td>0</td>\n",
       "      <td>0</td>\n",
       "    </tr>\n",
       "    <tr>\n",
       "      <th>Zimbabwe</th>\n",
       "      <td>0</td>\n",
       "      <td>0</td>\n",
       "      <td>0</td>\n",
       "      <td>0</td>\n",
       "      <td>0</td>\n",
       "      <td>0</td>\n",
       "      <td>0</td>\n",
       "      <td>0</td>\n",
       "      <td>0</td>\n",
       "      <td>0</td>\n",
       "      <td>...</td>\n",
       "      <td>0</td>\n",
       "      <td>0</td>\n",
       "      <td>0</td>\n",
       "      <td>0</td>\n",
       "      <td>0</td>\n",
       "      <td>0</td>\n",
       "      <td>0</td>\n",
       "      <td>0</td>\n",
       "      <td>0</td>\n",
       "      <td>0</td>\n",
       "    </tr>\n",
       "  </tbody>\n",
       "</table>\n",
       "<p>156 rows × 650 columns</p>\n",
       "</div>"
      ],
      "text/plain": [
       "                            Wage                                             \\\n",
       "Club         SSV Jahn Regensburg 1. FC Heidenheim 1846 1. FC Kaiserslautern   \n",
       "Nationality                                                                   \n",
       "Afghanistan                    0                     0                    0   \n",
       "Albania                        0                     0                    0   \n",
       "Algeria                        0                     0                    0   \n",
       "Andorra                        0                     0                    0   \n",
       "Angola                         0                     0                    0   \n",
       "...                          ...                   ...                  ...   \n",
       "Uzbekistan                     0                     0                    0   \n",
       "Venezuela                      0                     0                    0   \n",
       "Wales                          0                     0                    0   \n",
       "Zambia                         0                     0                    0   \n",
       "Zimbabwe                       0                     0                    0   \n",
       "\n",
       "                                                                          \\\n",
       "Club        1. FC Köln 1. FC Magdeburg 1. FC Nürnberg 1. FC Union Berlin   \n",
       "Nationality                                                                \n",
       "Afghanistan          0               0              0                  0   \n",
       "Albania              0               0              0                  0   \n",
       "Algeria              0               0              0                  0   \n",
       "Andorra              0               0              0                  0   \n",
       "Angola               0               0              0                  0   \n",
       "...                ...             ...            ...                ...   \n",
       "Uzbekistan           0               0              0                  0   \n",
       "Venezuela            0               0              0                  0   \n",
       "Wales                0               0              0                  0   \n",
       "Zambia               0               0              0                  0   \n",
       "Zimbabwe             0               0              0                  0   \n",
       "\n",
       "                                                   ...                    \\\n",
       "Club        1. FSV Mainz 05 AC Ajaccio AC Horsens  ... Wycombe Wanderers   \n",
       "Nationality                                        ...                     \n",
       "Afghanistan               0          0          0  ...                 0   \n",
       "Albania                   0       2000          0  ...                 0   \n",
       "Algeria                   0          0          0  ...                 0   \n",
       "Andorra                   0          0          0  ...                 0   \n",
       "Angola                    0          0          0  ...                 0   \n",
       "...                     ...        ...        ...  ...               ...   \n",
       "Uzbekistan                0          0          0  ...                 0   \n",
       "Venezuela                 0          0          0  ...                 0   \n",
       "Wales                     0          0          0  ...              4000   \n",
       "Zambia                    0          0          0  ...                 0   \n",
       "Zimbabwe                  0          0          0  ...                 0   \n",
       "\n",
       "                                                                             \\\n",
       "Club        Yeni Malatyaspor Yeovil Town Yokohama F. Marinos Zagłębie Lubin   \n",
       "Nationality                                                                   \n",
       "Afghanistan                0           0                   0              0   \n",
       "Albania                    0           0                   0              0   \n",
       "Algeria                    0        1000                   0              0   \n",
       "Andorra                    0           0                   0              0   \n",
       "Angola                     0           0                   0              0   \n",
       "...                      ...         ...                 ...            ...   \n",
       "Uzbekistan                 0           0                   0              0   \n",
       "Venezuela                  0           0                   0              0   \n",
       "Wales                      0        2000                   0              0   \n",
       "Zambia                     0           0                   0              0   \n",
       "Zimbabwe                   0           0                   0              0   \n",
       "\n",
       "                                                                        \\\n",
       "Club        Zagłębie Sosnowiec Çaykur Rizespor Örebro SK Östersunds FK   \n",
       "Nationality                                                              \n",
       "Afghanistan                  0               0         0             0   \n",
       "Albania                      0               0      1000             0   \n",
       "Algeria                      0               0         0             0   \n",
       "Andorra                      0               0         0             0   \n",
       "Angola                    1000               0         0             0   \n",
       "...                        ...             ...       ...           ...   \n",
       "Uzbekistan                   0               0         0             0   \n",
       "Venezuela                    0               0         0             0   \n",
       "Wales                        0               0         0             0   \n",
       "Zambia                       0               0         0             0   \n",
       "Zimbabwe                     0               0         0             0   \n",
       "\n",
       "                           \n",
       "Club        Śląsk Wrocław  \n",
       "Nationality                \n",
       "Afghanistan             0  \n",
       "Albania                 0  \n",
       "Algeria                 0  \n",
       "Andorra                 0  \n",
       "Angola                  0  \n",
       "...                   ...  \n",
       "Uzbekistan              0  \n",
       "Venezuela               0  \n",
       "Wales                   0  \n",
       "Zambia                  0  \n",
       "Zimbabwe                0  \n",
       "\n",
       "[156 rows x 650 columns]"
      ]
     },
     "metadata": {},
     "output_type": "display_data"
    },
    {
     "data": {
      "text/plain": [
       "61000"
      ]
     },
     "execution_count": 143,
     "metadata": {},
     "output_type": "execute_result"
    }
   ],
   "source": [
    "import pandas as pd\n",
    "df = pd.read_csv('data_sf.csv')\n",
    "\n",
    "pivot = df.pivot_table(values=['Wage'],\n",
    "index=['Nationality'],\n",
    "columns=['Club'],\n",
    "aggfunc='sum',\n",
    "fill_value=0)\n",
    "display(pivot)\n",
    "pivot.loc['Russia']['Wage']['AS Monaco']"
   ]
  },
  {
   "cell_type": "code",
   "execution_count": 171,
   "metadata": {},
   "outputs": [
    {
     "data": {
      "text/html": [
       "<div>\n",
       "<style scoped>\n",
       "    .dataframe tbody tr th:only-of-type {\n",
       "        vertical-align: middle;\n",
       "    }\n",
       "\n",
       "    .dataframe tbody tr th {\n",
       "        vertical-align: top;\n",
       "    }\n",
       "\n",
       "    .dataframe thead tr th {\n",
       "        text-align: left;\n",
       "    }\n",
       "\n",
       "    .dataframe thead tr:last-of-type th {\n",
       "        text-align: right;\n",
       "    }\n",
       "</style>\n",
       "<table border=\"1\" class=\"dataframe\">\n",
       "  <thead>\n",
       "    <tr>\n",
       "      <th></th>\n",
       "      <th colspan=\"21\" halign=\"left\">SprintSpeed</th>\n",
       "    </tr>\n",
       "    <tr>\n",
       "      <th>Position</th>\n",
       "      <th>CAM</th>\n",
       "      <th>CB</th>\n",
       "      <th>CDM</th>\n",
       "      <th>CF</th>\n",
       "      <th>CM</th>\n",
       "      <th>GK</th>\n",
       "      <th>LAM</th>\n",
       "      <th>LB</th>\n",
       "      <th>LCB</th>\n",
       "      <th>LCM</th>\n",
       "      <th>...</th>\n",
       "      <th>RB</th>\n",
       "      <th>RCB</th>\n",
       "      <th>RCM</th>\n",
       "      <th>RDM</th>\n",
       "      <th>RF</th>\n",
       "      <th>RM</th>\n",
       "      <th>RS</th>\n",
       "      <th>RW</th>\n",
       "      <th>RWB</th>\n",
       "      <th>ST</th>\n",
       "    </tr>\n",
       "    <tr>\n",
       "      <th>Club</th>\n",
       "      <th></th>\n",
       "      <th></th>\n",
       "      <th></th>\n",
       "      <th></th>\n",
       "      <th></th>\n",
       "      <th></th>\n",
       "      <th></th>\n",
       "      <th></th>\n",
       "      <th></th>\n",
       "      <th></th>\n",
       "      <th></th>\n",
       "      <th></th>\n",
       "      <th></th>\n",
       "      <th></th>\n",
       "      <th></th>\n",
       "      <th></th>\n",
       "      <th></th>\n",
       "      <th></th>\n",
       "      <th></th>\n",
       "      <th></th>\n",
       "      <th></th>\n",
       "    </tr>\n",
       "  </thead>\n",
       "  <tbody>\n",
       "    <tr>\n",
       "      <th>SSV Jahn Regensburg</th>\n",
       "      <td>0.0</td>\n",
       "      <td>46.600000</td>\n",
       "      <td>82.000000</td>\n",
       "      <td>0.0</td>\n",
       "      <td>61.000000</td>\n",
       "      <td>33.000000</td>\n",
       "      <td>0</td>\n",
       "      <td>76.000000</td>\n",
       "      <td>0.0</td>\n",
       "      <td>0.0</td>\n",
       "      <td>...</td>\n",
       "      <td>68.500000</td>\n",
       "      <td>57.0</td>\n",
       "      <td>0</td>\n",
       "      <td>65.0</td>\n",
       "      <td>0</td>\n",
       "      <td>0.000000</td>\n",
       "      <td>0</td>\n",
       "      <td>0.0</td>\n",
       "      <td>0.0</td>\n",
       "      <td>61.666667</td>\n",
       "    </tr>\n",
       "    <tr>\n",
       "      <th>1. FC Heidenheim 1846</th>\n",
       "      <td>68.0</td>\n",
       "      <td>61.333333</td>\n",
       "      <td>0.000000</td>\n",
       "      <td>0.0</td>\n",
       "      <td>68.000000</td>\n",
       "      <td>41.000000</td>\n",
       "      <td>0</td>\n",
       "      <td>60.000000</td>\n",
       "      <td>55.0</td>\n",
       "      <td>0.0</td>\n",
       "      <td>...</td>\n",
       "      <td>80.500000</td>\n",
       "      <td>59.0</td>\n",
       "      <td>0</td>\n",
       "      <td>0.0</td>\n",
       "      <td>0</td>\n",
       "      <td>78.333333</td>\n",
       "      <td>0</td>\n",
       "      <td>0.0</td>\n",
       "      <td>0.0</td>\n",
       "      <td>69.000000</td>\n",
       "    </tr>\n",
       "    <tr>\n",
       "      <th>1. FC Kaiserslautern</th>\n",
       "      <td>0.0</td>\n",
       "      <td>59.000000</td>\n",
       "      <td>65.666667</td>\n",
       "      <td>0.0</td>\n",
       "      <td>0.000000</td>\n",
       "      <td>42.666667</td>\n",
       "      <td>0</td>\n",
       "      <td>68.000000</td>\n",
       "      <td>45.0</td>\n",
       "      <td>0.0</td>\n",
       "      <td>...</td>\n",
       "      <td>71.500000</td>\n",
       "      <td>0.0</td>\n",
       "      <td>0</td>\n",
       "      <td>55.0</td>\n",
       "      <td>0</td>\n",
       "      <td>82.500000</td>\n",
       "      <td>69</td>\n",
       "      <td>0.0</td>\n",
       "      <td>0.0</td>\n",
       "      <td>79.000000</td>\n",
       "    </tr>\n",
       "    <tr>\n",
       "      <th>1. FC Köln</th>\n",
       "      <td>0.0</td>\n",
       "      <td>60.000000</td>\n",
       "      <td>32.000000</td>\n",
       "      <td>0.0</td>\n",
       "      <td>68.500000</td>\n",
       "      <td>33.000000</td>\n",
       "      <td>0</td>\n",
       "      <td>0.000000</td>\n",
       "      <td>0.0</td>\n",
       "      <td>0.0</td>\n",
       "      <td>...</td>\n",
       "      <td>70.000000</td>\n",
       "      <td>0.0</td>\n",
       "      <td>0</td>\n",
       "      <td>0.0</td>\n",
       "      <td>0</td>\n",
       "      <td>77.000000</td>\n",
       "      <td>0</td>\n",
       "      <td>0.0</td>\n",
       "      <td>0.0</td>\n",
       "      <td>0.000000</td>\n",
       "    </tr>\n",
       "    <tr>\n",
       "      <th>1. FC Magdeburg</th>\n",
       "      <td>0.0</td>\n",
       "      <td>60.000000</td>\n",
       "      <td>0.000000</td>\n",
       "      <td>64.0</td>\n",
       "      <td>0.000000</td>\n",
       "      <td>39.333333</td>\n",
       "      <td>0</td>\n",
       "      <td>69.000000</td>\n",
       "      <td>60.0</td>\n",
       "      <td>66.0</td>\n",
       "      <td>...</td>\n",
       "      <td>0.000000</td>\n",
       "      <td>68.0</td>\n",
       "      <td>71</td>\n",
       "      <td>0.0</td>\n",
       "      <td>0</td>\n",
       "      <td>76.000000</td>\n",
       "      <td>53</td>\n",
       "      <td>80.5</td>\n",
       "      <td>0.0</td>\n",
       "      <td>44.000000</td>\n",
       "    </tr>\n",
       "    <tr>\n",
       "      <th>...</th>\n",
       "      <td>...</td>\n",
       "      <td>...</td>\n",
       "      <td>...</td>\n",
       "      <td>...</td>\n",
       "      <td>...</td>\n",
       "      <td>...</td>\n",
       "      <td>...</td>\n",
       "      <td>...</td>\n",
       "      <td>...</td>\n",
       "      <td>...</td>\n",
       "      <td>...</td>\n",
       "      <td>...</td>\n",
       "      <td>...</td>\n",
       "      <td>...</td>\n",
       "      <td>...</td>\n",
       "      <td>...</td>\n",
       "      <td>...</td>\n",
       "      <td>...</td>\n",
       "      <td>...</td>\n",
       "      <td>...</td>\n",
       "      <td>...</td>\n",
       "    </tr>\n",
       "    <tr>\n",
       "      <th>Zagłębie Sosnowiec</th>\n",
       "      <td>73.0</td>\n",
       "      <td>46.500000</td>\n",
       "      <td>66.000000</td>\n",
       "      <td>0.0</td>\n",
       "      <td>0.000000</td>\n",
       "      <td>39.000000</td>\n",
       "      <td>0</td>\n",
       "      <td>60.333333</td>\n",
       "      <td>61.0</td>\n",
       "      <td>0.0</td>\n",
       "      <td>...</td>\n",
       "      <td>68.000000</td>\n",
       "      <td>58.0</td>\n",
       "      <td>0</td>\n",
       "      <td>62.0</td>\n",
       "      <td>0</td>\n",
       "      <td>71.000000</td>\n",
       "      <td>0</td>\n",
       "      <td>0.0</td>\n",
       "      <td>0.0</td>\n",
       "      <td>75.000000</td>\n",
       "    </tr>\n",
       "    <tr>\n",
       "      <th>Çaykur Rizespor</th>\n",
       "      <td>74.0</td>\n",
       "      <td>58.000000</td>\n",
       "      <td>62.800000</td>\n",
       "      <td>0.0</td>\n",
       "      <td>0.000000</td>\n",
       "      <td>47.000000</td>\n",
       "      <td>0</td>\n",
       "      <td>75.500000</td>\n",
       "      <td>63.0</td>\n",
       "      <td>0.0</td>\n",
       "      <td>...</td>\n",
       "      <td>68.666667</td>\n",
       "      <td>0.0</td>\n",
       "      <td>0</td>\n",
       "      <td>32.0</td>\n",
       "      <td>0</td>\n",
       "      <td>85.000000</td>\n",
       "      <td>0</td>\n",
       "      <td>0.0</td>\n",
       "      <td>0.0</td>\n",
       "      <td>48.000000</td>\n",
       "    </tr>\n",
       "    <tr>\n",
       "      <th>Örebro SK</th>\n",
       "      <td>0.0</td>\n",
       "      <td>60.750000</td>\n",
       "      <td>0.000000</td>\n",
       "      <td>0.0</td>\n",
       "      <td>63.000000</td>\n",
       "      <td>33.666667</td>\n",
       "      <td>0</td>\n",
       "      <td>0.000000</td>\n",
       "      <td>58.0</td>\n",
       "      <td>44.0</td>\n",
       "      <td>...</td>\n",
       "      <td>0.000000</td>\n",
       "      <td>62.0</td>\n",
       "      <td>66</td>\n",
       "      <td>0.0</td>\n",
       "      <td>0</td>\n",
       "      <td>0.000000</td>\n",
       "      <td>0</td>\n",
       "      <td>77.5</td>\n",
       "      <td>72.0</td>\n",
       "      <td>72.200000</td>\n",
       "    </tr>\n",
       "    <tr>\n",
       "      <th>Östersunds FK</th>\n",
       "      <td>67.0</td>\n",
       "      <td>76.000000</td>\n",
       "      <td>0.000000</td>\n",
       "      <td>77.0</td>\n",
       "      <td>56.333333</td>\n",
       "      <td>32.666667</td>\n",
       "      <td>0</td>\n",
       "      <td>74.500000</td>\n",
       "      <td>53.0</td>\n",
       "      <td>62.0</td>\n",
       "      <td>...</td>\n",
       "      <td>54.000000</td>\n",
       "      <td>73.0</td>\n",
       "      <td>0</td>\n",
       "      <td>0.0</td>\n",
       "      <td>0</td>\n",
       "      <td>85.000000</td>\n",
       "      <td>0</td>\n",
       "      <td>67.0</td>\n",
       "      <td>0.0</td>\n",
       "      <td>52.000000</td>\n",
       "    </tr>\n",
       "    <tr>\n",
       "      <th>Śląsk Wrocław</th>\n",
       "      <td>0.0</td>\n",
       "      <td>62.000000</td>\n",
       "      <td>66.666667</td>\n",
       "      <td>0.0</td>\n",
       "      <td>72.000000</td>\n",
       "      <td>30.666667</td>\n",
       "      <td>0</td>\n",
       "      <td>78.500000</td>\n",
       "      <td>59.0</td>\n",
       "      <td>0.0</td>\n",
       "      <td>...</td>\n",
       "      <td>50.500000</td>\n",
       "      <td>58.0</td>\n",
       "      <td>0</td>\n",
       "      <td>69.0</td>\n",
       "      <td>0</td>\n",
       "      <td>68.000000</td>\n",
       "      <td>81</td>\n",
       "      <td>0.0</td>\n",
       "      <td>0.0</td>\n",
       "      <td>54.000000</td>\n",
       "    </tr>\n",
       "  </tbody>\n",
       "</table>\n",
       "<p>650 rows × 27 columns</p>\n",
       "</div>"
      ],
      "text/plain": [
       "                      SprintSpeed                                         \\\n",
       "Position                      CAM         CB        CDM    CF         CM   \n",
       "Club                                                                       \n",
       " SSV Jahn Regensburg          0.0  46.600000  82.000000   0.0  61.000000   \n",
       "1. FC Heidenheim 1846        68.0  61.333333   0.000000   0.0  68.000000   \n",
       "1. FC Kaiserslautern          0.0  59.000000  65.666667   0.0   0.000000   \n",
       "1. FC Köln                    0.0  60.000000  32.000000   0.0  68.500000   \n",
       "1. FC Magdeburg               0.0  60.000000   0.000000  64.0   0.000000   \n",
       "...                           ...        ...        ...   ...        ...   \n",
       "Zagłębie Sosnowiec           73.0  46.500000  66.000000   0.0   0.000000   \n",
       "Çaykur Rizespor              74.0  58.000000  62.800000   0.0   0.000000   \n",
       "Örebro SK                     0.0  60.750000   0.000000   0.0  63.000000   \n",
       "Östersunds FK                67.0  76.000000   0.000000  77.0  56.333333   \n",
       "Śląsk Wrocław                 0.0  62.000000  66.666667   0.0  72.000000   \n",
       "\n",
       "                                                             ...             \\\n",
       "Position                      GK LAM         LB   LCB   LCM  ...         RB   \n",
       "Club                                                         ...              \n",
       " SSV Jahn Regensburg   33.000000   0  76.000000   0.0   0.0  ...  68.500000   \n",
       "1. FC Heidenheim 1846  41.000000   0  60.000000  55.0   0.0  ...  80.500000   \n",
       "1. FC Kaiserslautern   42.666667   0  68.000000  45.0   0.0  ...  71.500000   \n",
       "1. FC Köln             33.000000   0   0.000000   0.0   0.0  ...  70.000000   \n",
       "1. FC Magdeburg        39.333333   0  69.000000  60.0  66.0  ...   0.000000   \n",
       "...                          ...  ..        ...   ...   ...  ...        ...   \n",
       "Zagłębie Sosnowiec     39.000000   0  60.333333  61.0   0.0  ...  68.000000   \n",
       "Çaykur Rizespor        47.000000   0  75.500000  63.0   0.0  ...  68.666667   \n",
       "Örebro SK              33.666667   0   0.000000  58.0  44.0  ...   0.000000   \n",
       "Östersunds FK          32.666667   0  74.500000  53.0  62.0  ...  54.000000   \n",
       "Śląsk Wrocław          30.666667   0  78.500000  59.0   0.0  ...  50.500000   \n",
       "\n",
       "                                                                                \n",
       "Position                RCB RCM   RDM RF         RM  RS    RW   RWB         ST  \n",
       "Club                                                                            \n",
       " SSV Jahn Regensburg   57.0   0  65.0  0   0.000000   0   0.0   0.0  61.666667  \n",
       "1. FC Heidenheim 1846  59.0   0   0.0  0  78.333333   0   0.0   0.0  69.000000  \n",
       "1. FC Kaiserslautern    0.0   0  55.0  0  82.500000  69   0.0   0.0  79.000000  \n",
       "1. FC Köln              0.0   0   0.0  0  77.000000   0   0.0   0.0   0.000000  \n",
       "1. FC Magdeburg        68.0  71   0.0  0  76.000000  53  80.5   0.0  44.000000  \n",
       "...                     ...  ..   ... ..        ...  ..   ...   ...        ...  \n",
       "Zagłębie Sosnowiec     58.0   0  62.0  0  71.000000   0   0.0   0.0  75.000000  \n",
       "Çaykur Rizespor         0.0   0  32.0  0  85.000000   0   0.0   0.0  48.000000  \n",
       "Örebro SK              62.0  66   0.0  0   0.000000   0  77.5  72.0  72.200000  \n",
       "Östersunds FK          73.0   0   0.0  0  85.000000   0  67.0   0.0  52.000000  \n",
       "Śląsk Wrocław          58.0   0  69.0  0  68.000000  81   0.0   0.0  54.000000  \n",
       "\n",
       "[650 rows x 27 columns]"
      ]
     },
     "metadata": {},
     "output_type": "display_data"
    },
    {
     "data": {
      "text/plain": [
       "Club\n",
       "Vitória      91.0\n",
       "Sydney FC    88.0\n",
       "CD Lugo      87.0\n",
       "Name: ST, dtype: float64"
      ]
     },
     "execution_count": 171,
     "metadata": {},
     "output_type": "execute_result"
    }
   ],
   "source": [
    "import pandas as pd\n",
    "df = pd.read_csv('data_sf.csv')\n",
    "\n",
    "pivot = df.pivot_table(values=['SprintSpeed'],\n",
    "index=['Club'],\n",
    "columns=['Position'],\n",
    "aggfunc='mean',\n",
    "fill_value=0)\n",
    "display(pivot)\n",
    "\n",
    "pivot['SprintSpeed']['ST'].sort_values(ascending=False).head(3)"
   ]
  },
  {
   "cell_type": "code",
   "execution_count": 5,
   "metadata": {},
   "outputs": [
    {
     "data": {
      "text/html": [
       "<div>\n",
       "<style scoped>\n",
       "    .dataframe tbody tr th:only-of-type {\n",
       "        vertical-align: middle;\n",
       "    }\n",
       "\n",
       "    .dataframe tbody tr th {\n",
       "        vertical-align: top;\n",
       "    }\n",
       "\n",
       "    .dataframe thead th {\n",
       "        text-align: right;\n",
       "    }\n",
       "</style>\n",
       "<table border=\"1\" class=\"dataframe\">\n",
       "  <thead>\n",
       "    <tr style=\"text-align: right;\">\n",
       "      <th></th>\n",
       "      <th>title</th>\n",
       "      <th>genres</th>\n",
       "    </tr>\n",
       "  </thead>\n",
       "  <tbody>\n",
       "    <tr>\n",
       "      <th>count</th>\n",
       "      <td>9742</td>\n",
       "      <td>9742</td>\n",
       "    </tr>\n",
       "    <tr>\n",
       "      <th>unique</th>\n",
       "      <td>9737</td>\n",
       "      <td>951</td>\n",
       "    </tr>\n",
       "    <tr>\n",
       "      <th>top</th>\n",
       "      <td>Saturn 3 (1980)</td>\n",
       "      <td>Drama</td>\n",
       "    </tr>\n",
       "    <tr>\n",
       "      <th>freq</th>\n",
       "      <td>2</td>\n",
       "      <td>1053</td>\n",
       "    </tr>\n",
       "  </tbody>\n",
       "</table>\n",
       "</div>"
      ],
      "text/plain": [
       "                  title genres\n",
       "count              9742   9742\n",
       "unique             9737    951\n",
       "top     Saturn 3 (1980)  Drama\n",
       "freq                  2   1053"
      ]
     },
     "metadata": {},
     "output_type": "display_data"
    },
    {
     "data": {
      "text/html": [
       "<div>\n",
       "<style scoped>\n",
       "    .dataframe tbody tr th:only-of-type {\n",
       "        vertical-align: middle;\n",
       "    }\n",
       "\n",
       "    .dataframe tbody tr th {\n",
       "        vertical-align: top;\n",
       "    }\n",
       "\n",
       "    .dataframe thead th {\n",
       "        text-align: right;\n",
       "    }\n",
       "</style>\n",
       "<table border=\"1\" class=\"dataframe\">\n",
       "  <thead>\n",
       "    <tr style=\"text-align: right;\">\n",
       "      <th></th>\n",
       "      <th>movieId</th>\n",
       "      <th>title</th>\n",
       "      <th>genres</th>\n",
       "    </tr>\n",
       "  </thead>\n",
       "  <tbody>\n",
       "    <tr>\n",
       "      <th>0</th>\n",
       "      <td>1</td>\n",
       "      <td>Toy Story (1995)</td>\n",
       "      <td>Adventure|Animation|Children|Comedy|Fantasy</td>\n",
       "    </tr>\n",
       "    <tr>\n",
       "      <th>1</th>\n",
       "      <td>2</td>\n",
       "      <td>Jumanji (1995)</td>\n",
       "      <td>Adventure|Children|Fantasy</td>\n",
       "    </tr>\n",
       "    <tr>\n",
       "      <th>2</th>\n",
       "      <td>3</td>\n",
       "      <td>Grumpier Old Men (1995)</td>\n",
       "      <td>Comedy|Romance</td>\n",
       "    </tr>\n",
       "    <tr>\n",
       "      <th>3</th>\n",
       "      <td>4</td>\n",
       "      <td>Waiting to Exhale (1995)</td>\n",
       "      <td>Comedy|Drama|Romance</td>\n",
       "    </tr>\n",
       "    <tr>\n",
       "      <th>4</th>\n",
       "      <td>5</td>\n",
       "      <td>Father of the Bride Part II (1995)</td>\n",
       "      <td>Comedy</td>\n",
       "    </tr>\n",
       "    <tr>\n",
       "      <th>5</th>\n",
       "      <td>6</td>\n",
       "      <td>Heat (1995)</td>\n",
       "      <td>Action|Crime|Thriller</td>\n",
       "    </tr>\n",
       "    <tr>\n",
       "      <th>6</th>\n",
       "      <td>7</td>\n",
       "      <td>Sabrina (1995)</td>\n",
       "      <td>Comedy|Romance</td>\n",
       "    </tr>\n",
       "    <tr>\n",
       "      <th>7</th>\n",
       "      <td>8</td>\n",
       "      <td>Tom and Huck (1995)</td>\n",
       "      <td>Adventure|Children</td>\n",
       "    </tr>\n",
       "    <tr>\n",
       "      <th>8</th>\n",
       "      <td>9</td>\n",
       "      <td>Sudden Death (1995)</td>\n",
       "      <td>Action</td>\n",
       "    </tr>\n",
       "    <tr>\n",
       "      <th>9</th>\n",
       "      <td>10</td>\n",
       "      <td>GoldenEye (1995)</td>\n",
       "      <td>Action|Adventure|Thriller</td>\n",
       "    </tr>\n",
       "  </tbody>\n",
       "</table>\n",
       "</div>"
      ],
      "text/plain": [
       "   movieId                               title  \\\n",
       "0        1                    Toy Story (1995)   \n",
       "1        2                      Jumanji (1995)   \n",
       "2        3             Grumpier Old Men (1995)   \n",
       "3        4            Waiting to Exhale (1995)   \n",
       "4        5  Father of the Bride Part II (1995)   \n",
       "5        6                         Heat (1995)   \n",
       "6        7                      Sabrina (1995)   \n",
       "7        8                 Tom and Huck (1995)   \n",
       "8        9                 Sudden Death (1995)   \n",
       "9       10                    GoldenEye (1995)   \n",
       "\n",
       "                                        genres  \n",
       "0  Adventure|Animation|Children|Comedy|Fantasy  \n",
       "1                   Adventure|Children|Fantasy  \n",
       "2                               Comedy|Romance  \n",
       "3                         Comedy|Drama|Romance  \n",
       "4                                       Comedy  \n",
       "5                        Action|Crime|Thriller  \n",
       "6                               Comedy|Romance  \n",
       "7                           Adventure|Children  \n",
       "8                                       Action  \n",
       "9                    Action|Adventure|Thriller  "
      ]
     },
     "metadata": {},
     "output_type": "display_data"
    },
    {
     "data": {
      "text/plain": [
       "951"
      ]
     },
     "execution_count": 5,
     "metadata": {},
     "output_type": "execute_result"
    }
   ],
   "source": [
    "import pandas as pd\n",
    "ratings = pd.read_csv('ratings.csv')\n",
    "movies = pd.read_csv('movies.csv')\n",
    "\n",
    "\n",
    "display(movies.describe(include = ['object']))\n",
    "\n",
    "display(movies.head(10))\n",
    "\n",
    "len(movies['genres'].unique())\n",
    "\n"
   ]
  },
  {
   "cell_type": "code",
   "execution_count": 134,
   "metadata": {},
   "outputs": [
    {
     "data": {
      "text/html": [
       "<div>\n",
       "<style scoped>\n",
       "    .dataframe tbody tr th:only-of-type {\n",
       "        vertical-align: middle;\n",
       "    }\n",
       "\n",
       "    .dataframe tbody tr th {\n",
       "        vertical-align: top;\n",
       "    }\n",
       "\n",
       "    .dataframe thead th {\n",
       "        text-align: right;\n",
       "    }\n",
       "</style>\n",
       "<table border=\"1\" class=\"dataframe\">\n",
       "  <thead>\n",
       "    <tr style=\"text-align: right;\">\n",
       "      <th></th>\n",
       "      <th>userId</th>\n",
       "      <th>movieId</th>\n",
       "      <th>rating</th>\n",
       "      <th>timestamp</th>\n",
       "      <th>title</th>\n",
       "      <th>genres</th>\n",
       "    </tr>\n",
       "  </thead>\n",
       "  <tbody>\n",
       "    <tr>\n",
       "      <th>0</th>\n",
       "      <td>1</td>\n",
       "      <td>1</td>\n",
       "      <td>4.0</td>\n",
       "      <td>964982703</td>\n",
       "      <td>Toy Story (1995)</td>\n",
       "      <td>Adventure|Animation|Children|Comedy|Fantasy</td>\n",
       "    </tr>\n",
       "    <tr>\n",
       "      <th>1</th>\n",
       "      <td>1</td>\n",
       "      <td>3</td>\n",
       "      <td>4.0</td>\n",
       "      <td>964981247</td>\n",
       "      <td>Grumpier Old Men (1995)</td>\n",
       "      <td>Comedy|Romance</td>\n",
       "    </tr>\n",
       "    <tr>\n",
       "      <th>2</th>\n",
       "      <td>1</td>\n",
       "      <td>6</td>\n",
       "      <td>4.0</td>\n",
       "      <td>964982224</td>\n",
       "      <td>Heat (1995)</td>\n",
       "      <td>Action|Crime|Thriller</td>\n",
       "    </tr>\n",
       "    <tr>\n",
       "      <th>3</th>\n",
       "      <td>1</td>\n",
       "      <td>47</td>\n",
       "      <td>5.0</td>\n",
       "      <td>964983815</td>\n",
       "      <td>Seven (a.k.a. Se7en) (1995)</td>\n",
       "      <td>Mystery|Thriller</td>\n",
       "    </tr>\n",
       "    <tr>\n",
       "      <th>4</th>\n",
       "      <td>1</td>\n",
       "      <td>50</td>\n",
       "      <td>5.0</td>\n",
       "      <td>964982931</td>\n",
       "      <td>Usual Suspects, The (1995)</td>\n",
       "      <td>Crime|Mystery|Thriller</td>\n",
       "    </tr>\n",
       "    <tr>\n",
       "      <th>...</th>\n",
       "      <td>...</td>\n",
       "      <td>...</td>\n",
       "      <td>...</td>\n",
       "      <td>...</td>\n",
       "      <td>...</td>\n",
       "      <td>...</td>\n",
       "    </tr>\n",
       "    <tr>\n",
       "      <th>100831</th>\n",
       "      <td>610</td>\n",
       "      <td>166534</td>\n",
       "      <td>4.0</td>\n",
       "      <td>1493848402</td>\n",
       "      <td>Split (2017)</td>\n",
       "      <td>Drama|Horror|Thriller</td>\n",
       "    </tr>\n",
       "    <tr>\n",
       "      <th>100832</th>\n",
       "      <td>610</td>\n",
       "      <td>168248</td>\n",
       "      <td>5.0</td>\n",
       "      <td>1493850091</td>\n",
       "      <td>John Wick: Chapter Two (2017)</td>\n",
       "      <td>Action|Crime|Thriller</td>\n",
       "    </tr>\n",
       "    <tr>\n",
       "      <th>100833</th>\n",
       "      <td>610</td>\n",
       "      <td>168250</td>\n",
       "      <td>5.0</td>\n",
       "      <td>1494273047</td>\n",
       "      <td>Get Out (2017)</td>\n",
       "      <td>Horror</td>\n",
       "    </tr>\n",
       "    <tr>\n",
       "      <th>100834</th>\n",
       "      <td>610</td>\n",
       "      <td>168252</td>\n",
       "      <td>5.0</td>\n",
       "      <td>1493846352</td>\n",
       "      <td>Logan (2017)</td>\n",
       "      <td>Action|Sci-Fi</td>\n",
       "    </tr>\n",
       "    <tr>\n",
       "      <th>100835</th>\n",
       "      <td>610</td>\n",
       "      <td>170875</td>\n",
       "      <td>3.0</td>\n",
       "      <td>1493846415</td>\n",
       "      <td>The Fate of the Furious (2017)</td>\n",
       "      <td>Action|Crime|Drama|Thriller</td>\n",
       "    </tr>\n",
       "  </tbody>\n",
       "</table>\n",
       "<p>100836 rows × 6 columns</p>\n",
       "</div>"
      ],
      "text/plain": [
       "        userId  movieId  rating   timestamp                           title  \\\n",
       "0            1        1     4.0   964982703                Toy Story (1995)   \n",
       "1            1        3     4.0   964981247         Grumpier Old Men (1995)   \n",
       "2            1        6     4.0   964982224                     Heat (1995)   \n",
       "3            1       47     5.0   964983815     Seven (a.k.a. Se7en) (1995)   \n",
       "4            1       50     5.0   964982931      Usual Suspects, The (1995)   \n",
       "...        ...      ...     ...         ...                             ...   \n",
       "100831     610   166534     4.0  1493848402                    Split (2017)   \n",
       "100832     610   168248     5.0  1493850091   John Wick: Chapter Two (2017)   \n",
       "100833     610   168250     5.0  1494273047                  Get Out (2017)   \n",
       "100834     610   168252     5.0  1493846352                    Logan (2017)   \n",
       "100835     610   170875     3.0  1493846415  The Fate of the Furious (2017)   \n",
       "\n",
       "                                             genres  \n",
       "0       Adventure|Animation|Children|Comedy|Fantasy  \n",
       "1                                    Comedy|Romance  \n",
       "2                             Action|Crime|Thriller  \n",
       "3                                  Mystery|Thriller  \n",
       "4                            Crime|Mystery|Thriller  \n",
       "...                                             ...  \n",
       "100831                        Drama|Horror|Thriller  \n",
       "100832                        Action|Crime|Thriller  \n",
       "100833                                       Horror  \n",
       "100834                                Action|Sci-Fi  \n",
       "100835                  Action|Crime|Drama|Thriller  \n",
       "\n",
       "[100836 rows x 6 columns]"
      ]
     },
     "metadata": {},
     "output_type": "display_data"
    }
   ],
   "source": [
    "import pandas as pd\n",
    "ratings = pd.read_csv('ratings.csv')\n",
    "movies = pd.read_csv('movies.csv')\n",
    "\n",
    "joined = ratings.merge(movies, on='movieId', how='left')\n",
    "\n",
    "display (joined)"
   ]
  },
  {
   "cell_type": "code",
   "execution_count": null,
   "metadata": {},
   "outputs": [],
   "source": [
    "import pandas as pd\n",
    "ratings = pd.read_csv('ratings_example.txt', sep = '\\t')\n",
    "movies = pd.read_csv('movies_example.txt', sep = '\\t')\n",
    "\n",
    "#movies.drop_duplicates(subset = 'movieId', keep = 'last', inplace = True)\n",
    "display(ratings)\n",
    "display(movies)\n",
    "\n",
    "joined = ratings.merge(movies, on = 'movieId', how = 'right')\n",
    "#joined.drop_duplicates(subset = 'movieId', keep = 'last', inplace = True)\n",
    "joined"
   ]
  },
  {
   "cell_type": "code",
   "execution_count": 93,
   "metadata": {},
   "outputs": [
    {
     "data": {
      "text/html": [
       "<div>\n",
       "<style scoped>\n",
       "    .dataframe tbody tr th:only-of-type {\n",
       "        vertical-align: middle;\n",
       "    }\n",
       "\n",
       "    .dataframe tbody tr th {\n",
       "        vertical-align: top;\n",
       "    }\n",
       "\n",
       "    .dataframe thead th {\n",
       "        text-align: right;\n",
       "    }\n",
       "</style>\n",
       "<table border=\"1\" class=\"dataframe\">\n",
       "  <thead>\n",
       "    <tr style=\"text-align: right;\">\n",
       "      <th></th>\n",
       "      <th>item_id</th>\n",
       "      <th>vendor</th>\n",
       "      <th>stock_count</th>\n",
       "      <th>purchase_id</th>\n",
       "      <th>price</th>\n",
       "      <th>Total</th>\n",
       "    </tr>\n",
       "  </thead>\n",
       "  <tbody>\n",
       "    <tr>\n",
       "      <th>0</th>\n",
       "      <td>417283</td>\n",
       "      <td>Samsung</td>\n",
       "      <td>54</td>\n",
       "      <td>101</td>\n",
       "      <td>13900</td>\n",
       "      <td>0</td>\n",
       "    </tr>\n",
       "    <tr>\n",
       "      <th>1</th>\n",
       "      <td>849734</td>\n",
       "      <td>LG</td>\n",
       "      <td>33</td>\n",
       "      <td>101</td>\n",
       "      <td>5330</td>\n",
       "      <td>0</td>\n",
       "    </tr>\n",
       "    <tr>\n",
       "      <th>2</th>\n",
       "      <td>132223</td>\n",
       "      <td>Apple</td>\n",
       "      <td>122</td>\n",
       "      <td>101</td>\n",
       "      <td>38200</td>\n",
       "      <td>0</td>\n",
       "    </tr>\n",
       "    <tr>\n",
       "      <th>3</th>\n",
       "      <td>573943</td>\n",
       "      <td>Apple</td>\n",
       "      <td>18</td>\n",
       "      <td>112</td>\n",
       "      <td>49990</td>\n",
       "      <td>0</td>\n",
       "    </tr>\n",
       "    <tr>\n",
       "      <th>4</th>\n",
       "      <td>19475</td>\n",
       "      <td>LG</td>\n",
       "      <td>102</td>\n",
       "      <td>121</td>\n",
       "      <td>9890</td>\n",
       "      <td>0</td>\n",
       "    </tr>\n",
       "    <tr>\n",
       "      <th>5</th>\n",
       "      <td>3294095</td>\n",
       "      <td>Apple</td>\n",
       "      <td>43</td>\n",
       "      <td>145</td>\n",
       "      <td>33000</td>\n",
       "      <td>0</td>\n",
       "    </tr>\n",
       "    <tr>\n",
       "      <th>6</th>\n",
       "      <td>382043</td>\n",
       "      <td>Samsung</td>\n",
       "      <td>77</td>\n",
       "      <td>145</td>\n",
       "      <td>67500</td>\n",
       "      <td>0</td>\n",
       "    </tr>\n",
       "    <tr>\n",
       "      <th>7</th>\n",
       "      <td>302948</td>\n",
       "      <td>Samsung</td>\n",
       "      <td>143</td>\n",
       "      <td>145</td>\n",
       "      <td>34500</td>\n",
       "      <td>0</td>\n",
       "    </tr>\n",
       "    <tr>\n",
       "      <th>8</th>\n",
       "      <td>100132</td>\n",
       "      <td>LG</td>\n",
       "      <td>60</td>\n",
       "      <td>221</td>\n",
       "      <td>11400</td>\n",
       "      <td>0</td>\n",
       "    </tr>\n",
       "  </tbody>\n",
       "</table>\n",
       "</div>"
      ],
      "text/plain": [
       "   item_id   vendor  stock_count  purchase_id  price  Total\n",
       "0   417283  Samsung           54          101  13900      0\n",
       "1   849734       LG           33          101   5330      0\n",
       "2   132223    Apple          122          101  38200      0\n",
       "3   573943    Apple           18          112  49990      0\n",
       "4    19475       LG          102          121   9890      0\n",
       "5  3294095    Apple           43          145  33000      0\n",
       "6   382043  Samsung           77          145  67500      0\n",
       "7   302948  Samsung          143          145  34500      0\n",
       "8   100132       LG           60          221  11400      0"
      ]
     },
     "metadata": {},
     "output_type": "display_data"
    },
    {
     "data": {
      "text/html": [
       "<div>\n",
       "<style scoped>\n",
       "    .dataframe tbody tr th:only-of-type {\n",
       "        vertical-align: middle;\n",
       "    }\n",
       "\n",
       "    .dataframe tbody tr th {\n",
       "        vertical-align: top;\n",
       "    }\n",
       "\n",
       "    .dataframe thead th {\n",
       "        text-align: right;\n",
       "    }\n",
       "</style>\n",
       "<table border=\"1\" class=\"dataframe\">\n",
       "  <thead>\n",
       "    <tr style=\"text-align: right;\">\n",
       "      <th></th>\n",
       "      <th>item_id</th>\n",
       "      <th>vendor</th>\n",
       "      <th>stock_count</th>\n",
       "      <th>purchase_id</th>\n",
       "      <th>price</th>\n",
       "      <th>Total</th>\n",
       "    </tr>\n",
       "  </thead>\n",
       "  <tbody>\n",
       "    <tr>\n",
       "      <th>6</th>\n",
       "      <td>382043</td>\n",
       "      <td>Samsung</td>\n",
       "      <td>77</td>\n",
       "      <td>145</td>\n",
       "      <td>67500</td>\n",
       "      <td>5197500</td>\n",
       "    </tr>\n",
       "  </tbody>\n",
       "</table>\n",
       "</div>"
      ],
      "text/plain": [
       "   item_id   vendor  stock_count  purchase_id  price    Total\n",
       "6   382043  Samsung           77          145  67500  5197500"
      ]
     },
     "metadata": {},
     "output_type": "display_data"
    },
    {
     "data": {
      "text/plain": [
       "19729490"
      ]
     },
     "metadata": {},
     "output_type": "display_data"
    }
   ],
   "source": [
    "import pandas as pd\n",
    "\n",
    "items_dict = {\n",
    "\n",
    "    'item_id': [417283, 849734, 132223, 573943, 19475, 3294095, 382043, 302948, 100132, 312394], \n",
    "\n",
    "    'vendor': ['Samsung', 'LG', 'Apple', 'Apple', 'LG', 'Apple', 'Samsung', 'Samsung', 'LG', 'ZTE'],\n",
    "\n",
    "    'stock_count': [54, 33, 122, 18, 102, 43, 77, 143, 60, 19]\n",
    "\n",
    "}\n",
    "\n",
    "purchase_log = {\n",
    "\n",
    "    'purchase_id': [101, 101, 101, 112, 121, 145, 145, 145, 145, 221],\n",
    "\n",
    "    'item_id': [417283, 849734, 132223, 573943, 19475, 3294095, 382043, 302948, 103845, 100132], \n",
    "\n",
    "    'price': [13900, 5330, 38200, 49990, 9890, 33000, 67500, 34500, 89900, 11400]\n",
    "\n",
    "}\n",
    "\n",
    "items_df = pd.DataFrame(items_dict)\n",
    "purchase_df = pd.DataFrame(purchase_log)\n",
    "\n",
    "joined = items_df.merge(purchase_df, on = 'item_id', how = 'inner')\n",
    "joined['Total'] = 0\n",
    "display(joined)\n",
    "\n",
    "total = []\n",
    "joined['Total'] = joined['stock_count']*joined['price']\n",
    "\n",
    "display (joined.loc[joined['Total'] == joined['Total'].max()])\n",
    "display (joined['Total'].sum())"
   ]
  },
  {
   "cell_type": "code",
   "execution_count": 123,
   "metadata": {
    "scrolled": true
   },
   "outputs": [
    {
     "data": {
      "text/plain": [
       "['ratings_3.txt',\n",
       " 'ratings_8.txt',\n",
       " 'ratings_1.txt',\n",
       " 'ratings_5.txt',\n",
       " 'ratings_6.txt',\n",
       " 'ratings_9.txt',\n",
       " 'ratings_2.txt',\n",
       " 'ratings_10.txt',\n",
       " 'ratings_4.txt',\n",
       " 'addition',\n",
       " 'ratings_7.txt']"
      ]
     },
     "execution_count": 123,
     "metadata": {},
     "output_type": "execute_result"
    }
   ],
   "source": [
    "import os\n",
    "\n",
    "files = os.listdir('data')\n",
    "files"
   ]
  },
  {
   "cell_type": "code",
   "execution_count": 110,
   "metadata": {},
   "outputs": [
    {
     "name": "stdout",
     "output_type": "stream",
     "text": [
      "['ratings.txt', 'stock_stats.txt', 'movies.txt']\n"
     ]
    }
   ],
   "source": [
    "files = ['setup.py', 'ratings.txt', 'stock_stats.txt', 'movies.txt', 'run.sh', 'game_of_thrones.mov']\n",
    "data =[]\n",
    "for file in files:\n",
    "    if file[-3:] == 'txt':\n",
    "        data.append(file)\n",
    "        \n",
    "print (data)"
   ]
  },
  {
   "cell_type": "code",
   "execution_count": 118,
   "metadata": {},
   "outputs": [
    {
     "data": {
      "text/plain": [
       "<generator object walk at 0x7f737a2e24d0>"
      ]
     },
     "metadata": {},
     "output_type": "display_data"
    },
    {
     "name": "stdout",
     "output_type": "stream",
     "text": [
      "data ['addition'] ['ratings_3.txt', 'ratings_8.txt', 'ratings_1.txt', 'ratings_5.txt', 'ratings_6.txt', 'ratings_9.txt', 'ratings_2.txt', 'ratings_10.txt', 'ratings_4.txt', 'ratings_7.txt']\n",
      "data/addition [] ['ratings.csv']\n",
      "['ratings.csv']\n"
     ]
    }
   ],
   "source": [
    "import os\n",
    "\n",
    "display (os.walk('data'))\n",
    "for root, dirs, files in os.walk('data'):\n",
    "    print(root, dirs, files)\n",
    "print (files)    "
   ]
  },
  {
   "cell_type": "code",
   "execution_count": null,
   "metadata": {},
   "outputs": [],
   "source": []
  },
  {
   "cell_type": "code",
   "execution_count": 131,
   "metadata": {},
   "outputs": [
    {
     "data": {
      "text/html": [
       "<div>\n",
       "<style scoped>\n",
       "    .dataframe tbody tr th:only-of-type {\n",
       "        vertical-align: middle;\n",
       "    }\n",
       "\n",
       "    .dataframe tbody tr th {\n",
       "        vertical-align: top;\n",
       "    }\n",
       "\n",
       "    .dataframe thead th {\n",
       "        text-align: right;\n",
       "    }\n",
       "</style>\n",
       "<table border=\"1\" class=\"dataframe\">\n",
       "  <thead>\n",
       "    <tr style=\"text-align: right;\">\n",
       "      <th></th>\n",
       "      <th>userId</th>\n",
       "      <th>movieId</th>\n",
       "      <th>rating</th>\n",
       "      <th>timestamp</th>\n",
       "    </tr>\n",
       "  </thead>\n",
       "  <tbody>\n",
       "    <tr>\n",
       "      <th>0</th>\n",
       "      <td>133</td>\n",
       "      <td>72011</td>\n",
       "      <td>0.5</td>\n",
       "      <td>1416149287</td>\n",
       "    </tr>\n",
       "    <tr>\n",
       "      <th>1</th>\n",
       "      <td>133</td>\n",
       "      <td>72395</td>\n",
       "      <td>0.5</td>\n",
       "      <td>1416151053</td>\n",
       "    </tr>\n",
       "    <tr>\n",
       "      <th>2</th>\n",
       "      <td>133</td>\n",
       "      <td>72641</td>\n",
       "      <td>4.0</td>\n",
       "      <td>1416148353</td>\n",
       "    </tr>\n",
       "    <tr>\n",
       "      <th>3</th>\n",
       "      <td>133</td>\n",
       "      <td>73290</td>\n",
       "      <td>5.0</td>\n",
       "      <td>1416149511</td>\n",
       "    </tr>\n",
       "    <tr>\n",
       "      <th>4</th>\n",
       "      <td>133</td>\n",
       "      <td>73321</td>\n",
       "      <td>1.5</td>\n",
       "      <td>1416152072</td>\n",
       "    </tr>\n",
       "    <tr>\n",
       "      <th>...</th>\n",
       "      <td>...</td>\n",
       "      <td>...</td>\n",
       "      <td>...</td>\n",
       "      <td>...</td>\n",
       "    </tr>\n",
       "    <tr>\n",
       "      <th>9995</th>\n",
       "      <td>483</td>\n",
       "      <td>1240</td>\n",
       "      <td>5.0</td>\n",
       "      <td>1465387341</td>\n",
       "    </tr>\n",
       "    <tr>\n",
       "      <th>9996</th>\n",
       "      <td>483</td>\n",
       "      <td>1258</td>\n",
       "      <td>4.0</td>\n",
       "      <td>1465389633</td>\n",
       "    </tr>\n",
       "    <tr>\n",
       "      <th>9997</th>\n",
       "      <td>483</td>\n",
       "      <td>1259</td>\n",
       "      <td>5.0</td>\n",
       "      <td>1465387564</td>\n",
       "    </tr>\n",
       "    <tr>\n",
       "      <th>9998</th>\n",
       "      <td>483</td>\n",
       "      <td>1291</td>\n",
       "      <td>4.0</td>\n",
       "      <td>1465387282</td>\n",
       "    </tr>\n",
       "    <tr>\n",
       "      <th>9999</th>\n",
       "      <td>483</td>\n",
       "      <td>1527</td>\n",
       "      <td>3.0</td>\n",
       "      <td>1465387443</td>\n",
       "    </tr>\n",
       "  </tbody>\n",
       "</table>\n",
       "<p>100004 rows × 4 columns</p>\n",
       "</div>"
      ],
      "text/plain": [
       "     userId movieId  rating   timestamp\n",
       "0       133   72011     0.5  1416149287\n",
       "1       133   72395     0.5  1416151053\n",
       "2       133   72641     4.0  1416148353\n",
       "3       133   73290     5.0  1416149511\n",
       "4       133   73321     1.5  1416152072\n",
       "...     ...     ...     ...         ...\n",
       "9995    483    1240     5.0  1465387341\n",
       "9996    483    1258     4.0  1465389633\n",
       "9997    483    1259     5.0  1465387564\n",
       "9998    483    1291     4.0  1465387282\n",
       "9999    483    1527     3.0  1465387443\n",
       "\n",
       "[100004 rows x 4 columns]"
      ]
     },
     "metadata": {},
     "output_type": "display_data"
    }
   ],
   "source": [
    "import os\n",
    "import pandas as pd\n",
    "\n",
    "data = pd.DataFrame(columns = ['userId', 'movieId', 'rating', 'timestamp'])\n",
    "files = os.listdir('data')\n",
    "for filename in files:\n",
    "    if filename[-3:] == 'txt':\n",
    "        temp = pd.read_csv( os.path.join('data', filename), names = ['userId', 'movieId', 'rating', 'timestamp'] ) \n",
    "        data = pd.concat([data, temp])\n",
    "display (data)\n",
    "\n"
   ]
  },
  {
   "cell_type": "code",
   "execution_count": 148,
   "metadata": {},
   "outputs": [
    {
     "data": {
      "text/html": [
       "<div>\n",
       "<style scoped>\n",
       "    .dataframe tbody tr th:only-of-type {\n",
       "        vertical-align: middle;\n",
       "    }\n",
       "\n",
       "    .dataframe tbody tr th {\n",
       "        vertical-align: top;\n",
       "    }\n",
       "\n",
       "    .dataframe thead th {\n",
       "        text-align: right;\n",
       "    }\n",
       "</style>\n",
       "<table border=\"1\" class=\"dataframe\">\n",
       "  <thead>\n",
       "    <tr style=\"text-align: right;\">\n",
       "      <th></th>\n",
       "      <th>userId</th>\n",
       "      <th>movieId</th>\n",
       "      <th>rating</th>\n",
       "      <th>timestamp</th>\n",
       "    </tr>\n",
       "  </thead>\n",
       "  <tbody>\n",
       "  </tbody>\n",
       "</table>\n",
       "</div>"
      ],
      "text/plain": [
       "Empty DataFrame\n",
       "Columns: [userId, movieId, rating, timestamp]\n",
       "Index: []"
      ]
     },
     "execution_count": 148,
     "metadata": {},
     "output_type": "execute_result"
    }
   ],
   "source": [
    "import pandas as pd\n",
    "\n",
    "ratings = pd.read_csv('ratings.csv')\n",
    "movies = pd.read_csv('movies.csv')\n",
    "merged = ratings.merge(movies, on='movieId', how='outer')\n",
    "\n",
    "movies.loc[(movies['movieId']==3456)]\n",
    "ratings.loc[(ratings['movieId']==3456)]"
   ]
  },
  {
   "cell_type": "code",
   "execution_count": 18,
   "metadata": {},
   "outputs": [],
   "source": [
    "import pandas as pd\n",
    "sample = pd.read_csv('sample.xls')\n",
    "columns = []\n",
    "new_columns = []\n",
    "\n",
    "columns = sample.columns\n",
    "for column in columns:\n",
    "    new_columns.append(column.lower())\n",
    "sample.columns = new_columns"
   ]
  },
  {
   "cell_type": "code",
   "execution_count": 20,
   "metadata": {},
   "outputs": [
    {
     "data": {
      "text/html": [
       "<div>\n",
       "<style scoped>\n",
       "    .dataframe tbody tr th:only-of-type {\n",
       "        vertical-align: middle;\n",
       "    }\n",
       "\n",
       "    .dataframe tbody tr th {\n",
       "        vertical-align: top;\n",
       "    }\n",
       "\n",
       "    .dataframe thead th {\n",
       "        text-align: right;\n",
       "    }\n",
       "</style>\n",
       "<table border=\"1\" class=\"dataframe\">\n",
       "  <thead>\n",
       "    <tr style=\"text-align: right;\">\n",
       "      <th></th>\n",
       "      <th>user_id</th>\n",
       "      <th>time</th>\n",
       "      <th>bet</th>\n",
       "      <th>win</th>\n",
       "    </tr>\n",
       "  </thead>\n",
       "  <tbody>\n",
       "    <tr>\n",
       "      <td>0</td>\n",
       "      <td>Запись пользователя № - user_919</td>\n",
       "      <td>[2019-01-01 14:06:51</td>\n",
       "      <td>NaN</td>\n",
       "      <td>NaN</td>\n",
       "    </tr>\n",
       "    <tr>\n",
       "      <td>1</td>\n",
       "      <td>Запись пользователя № - user_973</td>\n",
       "      <td>[2019-01-01 14:51:16</td>\n",
       "      <td>NaN</td>\n",
       "      <td>NaN</td>\n",
       "    </tr>\n",
       "    <tr>\n",
       "      <td>2</td>\n",
       "      <td>Запись пользователя № - user_903</td>\n",
       "      <td>[2019-01-01 16:31:16</td>\n",
       "      <td>NaN</td>\n",
       "      <td>NaN</td>\n",
       "    </tr>\n",
       "    <tr>\n",
       "      <td>3</td>\n",
       "      <td>Запись пользователя № - user_954</td>\n",
       "      <td>[2019-01-01 17:17:51</td>\n",
       "      <td>NaN</td>\n",
       "      <td>NaN</td>\n",
       "    </tr>\n",
       "    <tr>\n",
       "      <td>4</td>\n",
       "      <td>Запись пользователя № - user_954</td>\n",
       "      <td>[2019-01-01 21:31:18</td>\n",
       "      <td>NaN</td>\n",
       "      <td>NaN</td>\n",
       "    </tr>\n",
       "    <tr>\n",
       "      <td>...</td>\n",
       "      <td>...</td>\n",
       "      <td>...</td>\n",
       "      <td>...</td>\n",
       "      <td>...</td>\n",
       "    </tr>\n",
       "    <tr>\n",
       "      <td>995</td>\n",
       "      <td>Запись пользователя № - user_984</td>\n",
       "      <td>[2019-04-20 9:59:58</td>\n",
       "      <td>9754.0</td>\n",
       "      <td>NaN</td>\n",
       "    </tr>\n",
       "    <tr>\n",
       "      <td>996</td>\n",
       "      <td>#error</td>\n",
       "      <td>NaN</td>\n",
       "      <td>10054.0</td>\n",
       "      <td>29265.0</td>\n",
       "    </tr>\n",
       "    <tr>\n",
       "      <td>997</td>\n",
       "      <td>#error</td>\n",
       "      <td>NaN</td>\n",
       "      <td>10454.0</td>\n",
       "      <td>NaN</td>\n",
       "    </tr>\n",
       "    <tr>\n",
       "      <td>998</td>\n",
       "      <td>#error</td>\n",
       "      <td>NaN</td>\n",
       "      <td>1000.0</td>\n",
       "      <td>NaN</td>\n",
       "    </tr>\n",
       "    <tr>\n",
       "      <td>999</td>\n",
       "      <td>#error</td>\n",
       "      <td>NaN</td>\n",
       "      <td>10754.0</td>\n",
       "      <td>NaN</td>\n",
       "    </tr>\n",
       "  </tbody>\n",
       "</table>\n",
       "<p>1000 rows × 4 columns</p>\n",
       "</div>"
      ],
      "text/plain": [
       "                              user_id                  time      bet      win\n",
       "0    Запись пользователя № - user_919  [2019-01-01 14:06:51      NaN      NaN\n",
       "1    Запись пользователя № - user_973  [2019-01-01 14:51:16      NaN      NaN\n",
       "2    Запись пользователя № - user_903  [2019-01-01 16:31:16      NaN      NaN\n",
       "3    Запись пользователя № - user_954  [2019-01-01 17:17:51      NaN      NaN\n",
       "4    Запись пользователя № - user_954  [2019-01-01 21:31:18      NaN      NaN\n",
       "..                                ...                   ...      ...      ...\n",
       "995  Запись пользователя № - user_984   [2019-04-20 9:59:58   9754.0      NaN\n",
       "996                            #error                   NaN  10054.0  29265.0\n",
       "997                            #error                   NaN  10454.0      NaN\n",
       "998                            #error                   NaN   1000.0      NaN\n",
       "999                            #error                   NaN  10754.0      NaN\n",
       "\n",
       "[1000 rows x 4 columns]"
      ]
     },
     "execution_count": 20,
     "metadata": {},
     "output_type": "execute_result"
    }
   ],
   "source": [
    "import pandas as pd\n",
    "\n",
    "log = pd.read_csv('log.csv', header = None)\n",
    "log.columns = ['user_id', 'time', 'bet', 'win']\n",
    "\n",
    "log\n"
   ]
  },
  {
   "cell_type": "code",
   "execution_count": 51,
   "metadata": {},
   "outputs": [
    {
     "data": {
      "text/html": [
       "<div>\n",
       "<style scoped>\n",
       "    .dataframe tbody tr th:only-of-type {\n",
       "        vertical-align: middle;\n",
       "    }\n",
       "\n",
       "    .dataframe tbody tr th {\n",
       "        vertical-align: top;\n",
       "    }\n",
       "\n",
       "    .dataframe thead th {\n",
       "        text-align: right;\n",
       "    }\n",
       "</style>\n",
       "<table border=\"1\" class=\"dataframe\">\n",
       "  <thead>\n",
       "    <tr style=\"text-align: right;\">\n",
       "      <th></th>\n",
       "      <th>user_id</th>\n",
       "      <th>email</th>\n",
       "      <th>geo</th>\n",
       "    </tr>\n",
       "  </thead>\n",
       "  <tbody>\n",
       "    <tr>\n",
       "      <td>0</td>\n",
       "      <td>User_943</td>\n",
       "      <td>Accumanst@gmail.com</td>\n",
       "      <td>Ижевск</td>\n",
       "    </tr>\n",
       "    <tr>\n",
       "      <td>1</td>\n",
       "      <td>User_908</td>\n",
       "      <td>Advismowr@mail.ru</td>\n",
       "      <td>Ижевск</td>\n",
       "    </tr>\n",
       "    <tr>\n",
       "      <td>2</td>\n",
       "      <td>User_962</td>\n",
       "      <td>Anachso@ukr.net</td>\n",
       "      <td>Краснодар</td>\n",
       "    </tr>\n",
       "    <tr>\n",
       "      <td>3</td>\n",
       "      <td>User_973</td>\n",
       "      <td>Antecia@inbox.ru</td>\n",
       "      <td>Пермь</td>\n",
       "    </tr>\n",
       "    <tr>\n",
       "      <td>4</td>\n",
       "      <td>User_902</td>\n",
       "      <td>Balliaryva@ukr.net</td>\n",
       "      <td>NaN</td>\n",
       "    </tr>\n",
       "    <tr>\n",
       "      <td>...</td>\n",
       "      <td>...</td>\n",
       "      <td>...</td>\n",
       "      <td>...</td>\n",
       "    </tr>\n",
       "    <tr>\n",
       "      <td>95</td>\n",
       "      <td>User_959</td>\n",
       "      <td>UpdatesCurious@yahoo.com</td>\n",
       "      <td>Тюмень</td>\n",
       "    </tr>\n",
       "    <tr>\n",
       "      <td>96</td>\n",
       "      <td>User_901</td>\n",
       "      <td>V2artierso@mail.ru</td>\n",
       "      <td>Арзангелтск</td>\n",
       "    </tr>\n",
       "    <tr>\n",
       "      <td>97</td>\n",
       "      <td>User_970</td>\n",
       "      <td>Vashoterlo@bk.ru</td>\n",
       "      <td>Воронеж</td>\n",
       "    </tr>\n",
       "    <tr>\n",
       "      <td>98</td>\n",
       "      <td>User_965</td>\n",
       "      <td>Visuareda@yahoo.com</td>\n",
       "      <td>Воронеж</td>\n",
       "    </tr>\n",
       "    <tr>\n",
       "      <td>99</td>\n",
       "      <td>User_921</td>\n",
       "      <td>Aavast@ya.ru</td>\n",
       "      <td>Ижевск</td>\n",
       "    </tr>\n",
       "  </tbody>\n",
       "</table>\n",
       "<p>100 rows × 3 columns</p>\n",
       "</div>"
      ],
      "text/plain": [
       "     user_id                     email          geo\n",
       "0   User_943       Accumanst@gmail.com       Ижевск\n",
       "1   User_908         Advismowr@mail.ru       Ижевск\n",
       "2   User_962           Anachso@ukr.net    Краснодар\n",
       "3   User_973          Antecia@inbox.ru        Пермь\n",
       "4   User_902        Balliaryva@ukr.net          NaN\n",
       "..       ...                       ...          ...\n",
       "95  User_959  UpdatesCurious@yahoo.com       Тюмень\n",
       "96  User_901        V2artierso@mail.ru  Арзангелтск\n",
       "97  User_970          Vashoterlo@bk.ru      Воронеж\n",
       "98  User_965       Visuareda@yahoo.com      Воронеж\n",
       "99  User_921              Aavast@ya.ru       Ижевск\n",
       "\n",
       "[100 rows x 3 columns]"
      ]
     },
     "execution_count": 51,
     "metadata": {},
     "output_type": "execute_result"
    }
   ],
   "source": [
    "import pandas as pd\n",
    "\n",
    "users = pd.read_csv ('users.csv', encoding=\"koi8_r\", sep = '\\t', skiprows = 1, names = ['user_id', 'email', 'geo'])\n",
    "users\n"
   ]
  }
 ],
 "metadata": {
  "kernelspec": {
   "display_name": "Python 3",
   "language": "python",
   "name": "python3"
  },
  "language_info": {
   "codemirror_mode": {
    "name": "ipython",
    "version": 3
   },
   "file_extension": ".py",
   "mimetype": "text/x-python",
   "name": "python",
   "nbconvert_exporter": "python",
   "pygments_lexer": "ipython3",
   "version": "3.7.4"
  }
 },
 "nbformat": 4,
 "nbformat_minor": 2
}
